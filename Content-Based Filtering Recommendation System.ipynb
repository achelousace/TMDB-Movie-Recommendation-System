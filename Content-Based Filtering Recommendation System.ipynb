{
  "cells": [
    {
      "cell_type": "markdown",
      "metadata": {
        "id": "yOjfL0NdCJMO"
      },
      "source": [
        "# Imports"
      ]
    },
    {
      "cell_type": "code",
      "execution_count": 120,
      "metadata": {
        "colab": {
          "base_uri": "https://localhost:8080/"
        },
        "id": "7JbICashCJMP",
        "outputId": "17c2d645-a4f0-499f-874e-906662893065"
      },
      "outputs": [
        {
          "name": "stdout",
          "output_type": "stream",
          "text": [
            "Warning: Looks like you're using an outdated `kagglehub` version (installed: 0.3.7), please consider upgrading to the latest version (0.3.10).\n",
            "Path to dataset files: C:\\Users\\Ace\\.cache\\kagglehub\\datasets\\asaniczka\\tmdb-movies-dataset-2023-930k-movies\\versions\\518\n"
          ]
        }
      ],
      "source": [
        "import kagglehub\n",
        "\n",
        "# Download latest version\n",
        "path = kagglehub.dataset_download(\"asaniczka/tmdb-movies-dataset-2023-930k-movies\")\n",
        "\n",
        "print(\"Path to dataset files:\", path)"
      ]
    },
    {
      "cell_type": "code",
      "execution_count": 225,
      "metadata": {
        "id": "pfOSlbTUCJMQ"
      },
      "outputs": [
        {
          "name": "stderr",
          "output_type": "stream",
          "text": [
            "[nltk_data] Downloading package punkt_tab to\n",
            "[nltk_data]     C:\\Users\\Ace\\AppData\\Roaming\\nltk_data...\n",
            "[nltk_data]   Package punkt_tab is already up-to-date!\n",
            "[nltk_data] Downloading package stopwords to\n",
            "[nltk_data]     C:\\Users\\Ace\\AppData\\Roaming\\nltk_data...\n",
            "[nltk_data]   Package stopwords is already up-to-date!\n",
            "[nltk_data] Downloading package punkt to\n",
            "[nltk_data]     C:\\Users\\Ace\\AppData\\Roaming\\nltk_data...\n",
            "[nltk_data]   Package punkt is already up-to-date!\n"
          ]
        }
      ],
      "source": [
        "import pandas as pd\n",
        "import numpy as np\n",
        "import matplotlib.pyplot as plt\n",
        "import seaborn as sns\n",
        "from IPython.display import HTML, display\n",
        "import json\n",
        "import pandas as pd\n",
        "import numpy as np\n",
        "import re\n",
        "import urllib.parse\n",
        "import faiss\n",
        "from fuzzywuzzy import process\n",
        "import matplotlib.pyplot as plt\n",
        "from collections import Counter\n",
        "from itertools import chain\n",
        "from sklearn.preprocessing import MultiLabelBinarizer\n",
        "import nltk\n",
        "nltk.download('punkt_tab')\n",
        "nltk.download('stopwords')\n",
        "nltk.download('punkt')\n",
        "from nltk.corpus import stopwords\n",
        "from nltk.tokenize import word_tokenize\n",
        "from sklearn.feature_extraction.text import TfidfVectorizer\n",
        "from sklearn.metrics.pairwise import cosine_similarity\n",
        "from sklearn.feature_extraction.text import TfidfVectorizer\n",
        "from sklearn.preprocessing import StandardScaler\n",
        "import pickle\n",
        "from scipy.sparse import hstack, csr_matrix"
      ]
    },
    {
      "cell_type": "code",
      "execution_count": 122,
      "metadata": {
        "id": "dzHFkQRXCJMQ"
      },
      "outputs": [],
      "source": [
        "pd.set_option('display.max_columns', None)\n",
        "pd.set_option('display.max_rows', None)"
      ]
    },
    {
      "cell_type": "code",
      "execution_count": 123,
      "metadata": {
        "colab": {
          "base_uri": "https://localhost:8080/"
        },
        "id": "3zl9vs5zCJMQ",
        "outputId": "2b7d2f2e-1b5d-4a9a-b112-17e9b29aa140"
      },
      "outputs": [
        {
          "name": "stdout",
          "output_type": "stream",
          "text": [
            "['TMDB_movie_dataset_v11.csv']\n"
          ]
        }
      ],
      "source": [
        "import os\n",
        "\n",
        "# Print the contents of the directory\n",
        "print(os.listdir(path))"
      ]
    },
    {
      "cell_type": "markdown",
      "metadata": {
        "id": "QaB1xDLECJMQ"
      },
      "source": [
        "# Load Data"
      ]
    },
    {
      "cell_type": "code",
      "execution_count": 124,
      "metadata": {
        "id": "Uvlu1VsCCJMQ"
      },
      "outputs": [],
      "source": [
        "# Load the dataset\n",
        "df = pd.read_csv(os.path.join(path, \"TMDB_movie_dataset_v11.csv\"))"
      ]
    },
    {
      "cell_type": "code",
      "execution_count": 125,
      "metadata": {
        "colab": {
          "base_uri": "https://localhost:8080/"
        },
        "id": "xo1M2byOCJMQ",
        "outputId": "f52e4d13-b99b-4cb7-cd28-4bfa511583ed"
      },
      "outputs": [
        {
          "data": {
            "application/vnd.microsoft.datawrangler.viewer.v0+json": {
              "columns": [
                {
                  "name": "index",
                  "rawType": "int64",
                  "type": "integer"
                },
                {
                  "name": "id",
                  "rawType": "int64",
                  "type": "integer"
                },
                {
                  "name": "title",
                  "rawType": "object",
                  "type": "string"
                },
                {
                  "name": "vote_average",
                  "rawType": "float64",
                  "type": "float"
                },
                {
                  "name": "vote_count",
                  "rawType": "int64",
                  "type": "integer"
                },
                {
                  "name": "status",
                  "rawType": "object",
                  "type": "string"
                },
                {
                  "name": "release_date",
                  "rawType": "object",
                  "type": "string"
                },
                {
                  "name": "revenue",
                  "rawType": "int64",
                  "type": "integer"
                },
                {
                  "name": "runtime",
                  "rawType": "int64",
                  "type": "integer"
                },
                {
                  "name": "adult",
                  "rawType": "bool",
                  "type": "boolean"
                },
                {
                  "name": "backdrop_path",
                  "rawType": "object",
                  "type": "string"
                },
                {
                  "name": "budget",
                  "rawType": "int64",
                  "type": "integer"
                },
                {
                  "name": "homepage",
                  "rawType": "object",
                  "type": "string"
                },
                {
                  "name": "imdb_id",
                  "rawType": "object",
                  "type": "string"
                },
                {
                  "name": "original_language",
                  "rawType": "object",
                  "type": "string"
                },
                {
                  "name": "original_title",
                  "rawType": "object",
                  "type": "string"
                },
                {
                  "name": "overview",
                  "rawType": "object",
                  "type": "string"
                },
                {
                  "name": "popularity",
                  "rawType": "float64",
                  "type": "float"
                },
                {
                  "name": "poster_path",
                  "rawType": "object",
                  "type": "string"
                },
                {
                  "name": "tagline",
                  "rawType": "object",
                  "type": "string"
                },
                {
                  "name": "genres",
                  "rawType": "object",
                  "type": "string"
                },
                {
                  "name": "production_companies",
                  "rawType": "object",
                  "type": "string"
                },
                {
                  "name": "production_countries",
                  "rawType": "object",
                  "type": "string"
                },
                {
                  "name": "spoken_languages",
                  "rawType": "object",
                  "type": "string"
                },
                {
                  "name": "keywords",
                  "rawType": "object",
                  "type": "string"
                }
              ],
              "conversionMethod": "pd.DataFrame",
              "ref": "38bc5f16-b853-4a9f-add4-443b4f6639d5",
              "rows": [
                [
                  "0",
                  "27205",
                  "Inception",
                  "8.364",
                  "34495",
                  "Released",
                  "2010-07-15",
                  "825532764",
                  "148",
                  "False",
                  "/8ZTVqvKDQ8emSGUEMjsS4yHAwrp.jpg",
                  "160000000",
                  "https://www.warnerbros.com/movies/inception",
                  "tt1375666",
                  "en",
                  "Inception",
                  "Cobb, a skilled thief who commits corporate espionage by infiltrating the subconscious of his targets is offered a chance to regain his old life as payment for a task considered to be impossible: \"inception\", the implantation of another person's idea into a target's subconscious.",
                  "83.952",
                  "/oYuLEt3zVCKq57qu2F8dT7NIa6f.jpg",
                  "Your mind is the scene of the crime.",
                  "Action, Science Fiction, Adventure",
                  "Legendary Pictures, Syncopy, Warner Bros. Pictures",
                  "United Kingdom, United States of America",
                  "English, French, Japanese, Swahili",
                  "rescue, mission, dream, airplane, paris, france, virtual reality, kidnapping, philosophy, spy, allegory, manipulation, car crash, heist, memory, architecture, los angeles, california, dream world, subconscious"
                ],
                [
                  "1",
                  "157336",
                  "Interstellar",
                  "8.417",
                  "32571",
                  "Released",
                  "2014-11-05",
                  "701729206",
                  "169",
                  "False",
                  "/pbrkL804c8yAv3zBZR4QPEafpAR.jpg",
                  "165000000",
                  "http://www.interstellarmovie.net/",
                  "tt0816692",
                  "en",
                  "Interstellar",
                  "The adventures of a group of explorers who make use of a newly discovered wormhole to surpass the limitations on human space travel and conquer the vast distances involved in an interstellar voyage.",
                  "140.241",
                  "/gEU2QniE6E77NI6lCU6MxlNBvIx.jpg",
                  "Mankind was born on Earth. It was never meant to die here.",
                  "Adventure, Drama, Science Fiction",
                  "Legendary Pictures, Syncopy, Lynda Obst Productions",
                  "United Kingdom, United States of America",
                  "English",
                  "rescue, future, spacecraft, race against time, artificial intelligence (a.i.), nasa, time warp, dystopia, expedition, space travel, wormhole, famine, black hole, quantum mechanics, family relationships, space, robot, astronaut, scientist, single father, farmer, space station, curious, space adventure, time paradox, thoughtful, time-manipulation, father daughter relationship, 2060s, cornfield, time manipulation, complicated"
                ],
                [
                  "2",
                  "155",
                  "The Dark Knight",
                  "8.512",
                  "30619",
                  "Released",
                  "2008-07-16",
                  "1004558444",
                  "152",
                  "False",
                  "/nMKdUUepR0i5zn0y1T4CsSB5chy.jpg",
                  "185000000",
                  "https://www.warnerbros.com/movies/dark-knight/",
                  "tt0468569",
                  "en",
                  "The Dark Knight",
                  "Batman raises the stakes in his war on crime. With the help of Lt. Jim Gordon and District Attorney Harvey Dent, Batman sets out to dismantle the remaining criminal organizations that plague the streets. The partnership proves to be effective, but they soon find themselves prey to a reign of chaos unleashed by a rising criminal mastermind known to the terrified citizens of Gotham as the Joker.",
                  "130.643",
                  "/qJ2tW6WMUDux911r6m7haRef0WH.jpg",
                  "Welcome to a world without rules.",
                  "Drama, Action, Crime, Thriller",
                  "DC Comics, Legendary Pictures, Syncopy, Isobel Griffiths, Warner Bros. Pictures",
                  "United Kingdom, United States of America",
                  "English, Mandarin",
                  "joker, sadism, chaos, secret identity, crime fighter, superhero, anti hero, scarecrow, based on comic, vigilante, organized crime, tragic hero, anti villain, criminal mastermind, district attorney, super power, super villain, neo-noir"
                ],
                [
                  "3",
                  "19995",
                  "Avatar",
                  "7.573",
                  "29815",
                  "Released",
                  "2009-12-15",
                  "2923706026",
                  "162",
                  "False",
                  "/vL5LR6WdxWPjLPFRLe133jXWsh5.jpg",
                  "237000000",
                  "https://www.avatar.com/movies/avatar",
                  "tt0499549",
                  "en",
                  "Avatar",
                  "In the 22nd century, a paraplegic Marine is dispatched to the moon Pandora on a unique mission, but becomes torn between following orders and protecting an alien civilization.",
                  "79.932",
                  "/kyeqWdyUXW608qlYkRqosgbbJyK.jpg",
                  "Enter the world of Pandora.",
                  "Action, Adventure, Fantasy, Science Fiction",
                  "Dune Entertainment, Lightstorm Entertainment, 20th Century Fox, Ingenious Media",
                  "United States of America, United Kingdom",
                  "English, Spanish",
                  "future, society, culture clash, space travel, space war, space colony, tribe, romance, alien, futuristic, space, alien planet, marine, soldier, battle, love affair, nature, anti war, power relations, joyful"
                ],
                [
                  "4",
                  "24428",
                  "The Avengers",
                  "7.71",
                  "29166",
                  "Released",
                  "2012-04-25",
                  "1518815515",
                  "143",
                  "False",
                  "/9BBTo63ANSmhC4e6r62OJFuK2GL.jpg",
                  "220000000",
                  "https://www.marvel.com/movies/the-avengers",
                  "tt0848228",
                  "en",
                  "The Avengers",
                  "When an unexpected enemy emerges and threatens global safety and security, Nick Fury, director of the international peacekeeping agency known as S.H.I.E.L.D., finds himself in need of a team to pull the world back from the brink of disaster. Spanning the globe, a daring recruitment effort begins!",
                  "98.082",
                  "/RYMX2wcKCBAr24UyPD7xwmjaTn.jpg",
                  "Some assembly required.",
                  "Science Fiction, Action, Adventure",
                  "Marvel Studios",
                  "United States of America",
                  "English, Hindi, Russian",
                  "new york city, superhero, shield, based on comic, alien invasion, superhero team, aftercreditsstinger, duringcreditsstinger, marvel cinematic universe (mcu)"
                ]
              ],
              "shape": {
                "columns": 24,
                "rows": 5
              }
            },
            "text/html": [
              "<div>\n",
              "<style scoped>\n",
              "    .dataframe tbody tr th:only-of-type {\n",
              "        vertical-align: middle;\n",
              "    }\n",
              "\n",
              "    .dataframe tbody tr th {\n",
              "        vertical-align: top;\n",
              "    }\n",
              "\n",
              "    .dataframe thead th {\n",
              "        text-align: right;\n",
              "    }\n",
              "</style>\n",
              "<table border=\"1\" class=\"dataframe\">\n",
              "  <thead>\n",
              "    <tr style=\"text-align: right;\">\n",
              "      <th></th>\n",
              "      <th>id</th>\n",
              "      <th>title</th>\n",
              "      <th>vote_average</th>\n",
              "      <th>vote_count</th>\n",
              "      <th>status</th>\n",
              "      <th>release_date</th>\n",
              "      <th>revenue</th>\n",
              "      <th>runtime</th>\n",
              "      <th>adult</th>\n",
              "      <th>backdrop_path</th>\n",
              "      <th>budget</th>\n",
              "      <th>homepage</th>\n",
              "      <th>imdb_id</th>\n",
              "      <th>original_language</th>\n",
              "      <th>original_title</th>\n",
              "      <th>overview</th>\n",
              "      <th>popularity</th>\n",
              "      <th>poster_path</th>\n",
              "      <th>tagline</th>\n",
              "      <th>genres</th>\n",
              "      <th>production_companies</th>\n",
              "      <th>production_countries</th>\n",
              "      <th>spoken_languages</th>\n",
              "      <th>keywords</th>\n",
              "    </tr>\n",
              "  </thead>\n",
              "  <tbody>\n",
              "    <tr>\n",
              "      <th>0</th>\n",
              "      <td>27205</td>\n",
              "      <td>Inception</td>\n",
              "      <td>8.364</td>\n",
              "      <td>34495</td>\n",
              "      <td>Released</td>\n",
              "      <td>2010-07-15</td>\n",
              "      <td>825532764</td>\n",
              "      <td>148</td>\n",
              "      <td>False</td>\n",
              "      <td>/8ZTVqvKDQ8emSGUEMjsS4yHAwrp.jpg</td>\n",
              "      <td>160000000</td>\n",
              "      <td>https://www.warnerbros.com/movies/inception</td>\n",
              "      <td>tt1375666</td>\n",
              "      <td>en</td>\n",
              "      <td>Inception</td>\n",
              "      <td>Cobb, a skilled thief who commits corporate es...</td>\n",
              "      <td>83.952</td>\n",
              "      <td>/oYuLEt3zVCKq57qu2F8dT7NIa6f.jpg</td>\n",
              "      <td>Your mind is the scene of the crime.</td>\n",
              "      <td>Action, Science Fiction, Adventure</td>\n",
              "      <td>Legendary Pictures, Syncopy, Warner Bros. Pict...</td>\n",
              "      <td>United Kingdom, United States of America</td>\n",
              "      <td>English, French, Japanese, Swahili</td>\n",
              "      <td>rescue, mission, dream, airplane, paris, franc...</td>\n",
              "    </tr>\n",
              "    <tr>\n",
              "      <th>1</th>\n",
              "      <td>157336</td>\n",
              "      <td>Interstellar</td>\n",
              "      <td>8.417</td>\n",
              "      <td>32571</td>\n",
              "      <td>Released</td>\n",
              "      <td>2014-11-05</td>\n",
              "      <td>701729206</td>\n",
              "      <td>169</td>\n",
              "      <td>False</td>\n",
              "      <td>/pbrkL804c8yAv3zBZR4QPEafpAR.jpg</td>\n",
              "      <td>165000000</td>\n",
              "      <td>http://www.interstellarmovie.net/</td>\n",
              "      <td>tt0816692</td>\n",
              "      <td>en</td>\n",
              "      <td>Interstellar</td>\n",
              "      <td>The adventures of a group of explorers who mak...</td>\n",
              "      <td>140.241</td>\n",
              "      <td>/gEU2QniE6E77NI6lCU6MxlNBvIx.jpg</td>\n",
              "      <td>Mankind was born on Earth. It was never meant ...</td>\n",
              "      <td>Adventure, Drama, Science Fiction</td>\n",
              "      <td>Legendary Pictures, Syncopy, Lynda Obst Produc...</td>\n",
              "      <td>United Kingdom, United States of America</td>\n",
              "      <td>English</td>\n",
              "      <td>rescue, future, spacecraft, race against time,...</td>\n",
              "    </tr>\n",
              "    <tr>\n",
              "      <th>2</th>\n",
              "      <td>155</td>\n",
              "      <td>The Dark Knight</td>\n",
              "      <td>8.512</td>\n",
              "      <td>30619</td>\n",
              "      <td>Released</td>\n",
              "      <td>2008-07-16</td>\n",
              "      <td>1004558444</td>\n",
              "      <td>152</td>\n",
              "      <td>False</td>\n",
              "      <td>/nMKdUUepR0i5zn0y1T4CsSB5chy.jpg</td>\n",
              "      <td>185000000</td>\n",
              "      <td>https://www.warnerbros.com/movies/dark-knight/</td>\n",
              "      <td>tt0468569</td>\n",
              "      <td>en</td>\n",
              "      <td>The Dark Knight</td>\n",
              "      <td>Batman raises the stakes in his war on crime. ...</td>\n",
              "      <td>130.643</td>\n",
              "      <td>/qJ2tW6WMUDux911r6m7haRef0WH.jpg</td>\n",
              "      <td>Welcome to a world without rules.</td>\n",
              "      <td>Drama, Action, Crime, Thriller</td>\n",
              "      <td>DC Comics, Legendary Pictures, Syncopy, Isobel...</td>\n",
              "      <td>United Kingdom, United States of America</td>\n",
              "      <td>English, Mandarin</td>\n",
              "      <td>joker, sadism, chaos, secret identity, crime f...</td>\n",
              "    </tr>\n",
              "    <tr>\n",
              "      <th>3</th>\n",
              "      <td>19995</td>\n",
              "      <td>Avatar</td>\n",
              "      <td>7.573</td>\n",
              "      <td>29815</td>\n",
              "      <td>Released</td>\n",
              "      <td>2009-12-15</td>\n",
              "      <td>2923706026</td>\n",
              "      <td>162</td>\n",
              "      <td>False</td>\n",
              "      <td>/vL5LR6WdxWPjLPFRLe133jXWsh5.jpg</td>\n",
              "      <td>237000000</td>\n",
              "      <td>https://www.avatar.com/movies/avatar</td>\n",
              "      <td>tt0499549</td>\n",
              "      <td>en</td>\n",
              "      <td>Avatar</td>\n",
              "      <td>In the 22nd century, a paraplegic Marine is di...</td>\n",
              "      <td>79.932</td>\n",
              "      <td>/kyeqWdyUXW608qlYkRqosgbbJyK.jpg</td>\n",
              "      <td>Enter the world of Pandora.</td>\n",
              "      <td>Action, Adventure, Fantasy, Science Fiction</td>\n",
              "      <td>Dune Entertainment, Lightstorm Entertainment, ...</td>\n",
              "      <td>United States of America, United Kingdom</td>\n",
              "      <td>English, Spanish</td>\n",
              "      <td>future, society, culture clash, space travel, ...</td>\n",
              "    </tr>\n",
              "    <tr>\n",
              "      <th>4</th>\n",
              "      <td>24428</td>\n",
              "      <td>The Avengers</td>\n",
              "      <td>7.710</td>\n",
              "      <td>29166</td>\n",
              "      <td>Released</td>\n",
              "      <td>2012-04-25</td>\n",
              "      <td>1518815515</td>\n",
              "      <td>143</td>\n",
              "      <td>False</td>\n",
              "      <td>/9BBTo63ANSmhC4e6r62OJFuK2GL.jpg</td>\n",
              "      <td>220000000</td>\n",
              "      <td>https://www.marvel.com/movies/the-avengers</td>\n",
              "      <td>tt0848228</td>\n",
              "      <td>en</td>\n",
              "      <td>The Avengers</td>\n",
              "      <td>When an unexpected enemy emerges and threatens...</td>\n",
              "      <td>98.082</td>\n",
              "      <td>/RYMX2wcKCBAr24UyPD7xwmjaTn.jpg</td>\n",
              "      <td>Some assembly required.</td>\n",
              "      <td>Science Fiction, Action, Adventure</td>\n",
              "      <td>Marvel Studios</td>\n",
              "      <td>United States of America</td>\n",
              "      <td>English, Hindi, Russian</td>\n",
              "      <td>new york city, superhero, shield, based on com...</td>\n",
              "    </tr>\n",
              "  </tbody>\n",
              "</table>\n",
              "</div>"
            ],
            "text/plain": [
              "       id            title  vote_average  vote_count    status release_date  \\\n",
              "0   27205        Inception         8.364       34495  Released   2010-07-15   \n",
              "1  157336     Interstellar         8.417       32571  Released   2014-11-05   \n",
              "2     155  The Dark Knight         8.512       30619  Released   2008-07-16   \n",
              "3   19995           Avatar         7.573       29815  Released   2009-12-15   \n",
              "4   24428     The Avengers         7.710       29166  Released   2012-04-25   \n",
              "\n",
              "      revenue  runtime  adult                     backdrop_path     budget  \\\n",
              "0   825532764      148  False  /8ZTVqvKDQ8emSGUEMjsS4yHAwrp.jpg  160000000   \n",
              "1   701729206      169  False  /pbrkL804c8yAv3zBZR4QPEafpAR.jpg  165000000   \n",
              "2  1004558444      152  False  /nMKdUUepR0i5zn0y1T4CsSB5chy.jpg  185000000   \n",
              "3  2923706026      162  False  /vL5LR6WdxWPjLPFRLe133jXWsh5.jpg  237000000   \n",
              "4  1518815515      143  False  /9BBTo63ANSmhC4e6r62OJFuK2GL.jpg  220000000   \n",
              "\n",
              "                                         homepage    imdb_id  \\\n",
              "0     https://www.warnerbros.com/movies/inception  tt1375666   \n",
              "1               http://www.interstellarmovie.net/  tt0816692   \n",
              "2  https://www.warnerbros.com/movies/dark-knight/  tt0468569   \n",
              "3            https://www.avatar.com/movies/avatar  tt0499549   \n",
              "4      https://www.marvel.com/movies/the-avengers  tt0848228   \n",
              "\n",
              "  original_language   original_title  \\\n",
              "0                en        Inception   \n",
              "1                en     Interstellar   \n",
              "2                en  The Dark Knight   \n",
              "3                en           Avatar   \n",
              "4                en     The Avengers   \n",
              "\n",
              "                                            overview  popularity  \\\n",
              "0  Cobb, a skilled thief who commits corporate es...      83.952   \n",
              "1  The adventures of a group of explorers who mak...     140.241   \n",
              "2  Batman raises the stakes in his war on crime. ...     130.643   \n",
              "3  In the 22nd century, a paraplegic Marine is di...      79.932   \n",
              "4  When an unexpected enemy emerges and threatens...      98.082   \n",
              "\n",
              "                        poster_path  \\\n",
              "0  /oYuLEt3zVCKq57qu2F8dT7NIa6f.jpg   \n",
              "1  /gEU2QniE6E77NI6lCU6MxlNBvIx.jpg   \n",
              "2  /qJ2tW6WMUDux911r6m7haRef0WH.jpg   \n",
              "3  /kyeqWdyUXW608qlYkRqosgbbJyK.jpg   \n",
              "4   /RYMX2wcKCBAr24UyPD7xwmjaTn.jpg   \n",
              "\n",
              "                                             tagline  \\\n",
              "0               Your mind is the scene of the crime.   \n",
              "1  Mankind was born on Earth. It was never meant ...   \n",
              "2                  Welcome to a world without rules.   \n",
              "3                        Enter the world of Pandora.   \n",
              "4                            Some assembly required.   \n",
              "\n",
              "                                        genres  \\\n",
              "0           Action, Science Fiction, Adventure   \n",
              "1            Adventure, Drama, Science Fiction   \n",
              "2               Drama, Action, Crime, Thriller   \n",
              "3  Action, Adventure, Fantasy, Science Fiction   \n",
              "4           Science Fiction, Action, Adventure   \n",
              "\n",
              "                                production_companies  \\\n",
              "0  Legendary Pictures, Syncopy, Warner Bros. Pict...   \n",
              "1  Legendary Pictures, Syncopy, Lynda Obst Produc...   \n",
              "2  DC Comics, Legendary Pictures, Syncopy, Isobel...   \n",
              "3  Dune Entertainment, Lightstorm Entertainment, ...   \n",
              "4                                     Marvel Studios   \n",
              "\n",
              "                       production_countries  \\\n",
              "0  United Kingdom, United States of America   \n",
              "1  United Kingdom, United States of America   \n",
              "2  United Kingdom, United States of America   \n",
              "3  United States of America, United Kingdom   \n",
              "4                  United States of America   \n",
              "\n",
              "                     spoken_languages  \\\n",
              "0  English, French, Japanese, Swahili   \n",
              "1                             English   \n",
              "2                   English, Mandarin   \n",
              "3                    English, Spanish   \n",
              "4             English, Hindi, Russian   \n",
              "\n",
              "                                            keywords  \n",
              "0  rescue, mission, dream, airplane, paris, franc...  \n",
              "1  rescue, future, spacecraft, race against time,...  \n",
              "2  joker, sadism, chaos, secret identity, crime f...  \n",
              "3  future, society, culture clash, space travel, ...  \n",
              "4  new york city, superhero, shield, based on com...  "
            ]
          },
          "execution_count": 125,
          "metadata": {},
          "output_type": "execute_result"
        }
      ],
      "source": [
        "df.head()"
      ]
    },
    {
      "cell_type": "markdown",
      "metadata": {
        "id": "6JcfyBUeCJMQ"
      },
      "source": [
        "# Data Summery"
      ]
    },
    {
      "cell_type": "code",
      "execution_count": 126,
      "metadata": {
        "id": "kuKvAGsBCJMR"
      },
      "outputs": [],
      "source": [
        "columns_to_keep = ['id', 'title', 'vote_average', 'vote_count', 'release_date', 'runtime', 'adult',\n",
        "                   'imdb_id', 'original_language', 'overview', 'popularity', 'genres',\n",
        "                   'production_companies', 'production_countries','status']\n",
        "df = df[columns_to_keep]"
      ]
    },
    {
      "cell_type": "code",
      "execution_count": 127,
      "metadata": {
        "colab": {
          "base_uri": "https://localhost:8080/"
        },
        "id": "TwNat5ZcCJMR",
        "outputId": "16087b57-450a-4661-b6d8-e34707e23acd"
      },
      "outputs": [
        {
          "data": {
            "application/vnd.microsoft.datawrangler.viewer.v0+json": {
              "columns": [
                {
                  "name": "index",
                  "rawType": "int64",
                  "type": "integer"
                },
                {
                  "name": "id",
                  "rawType": "int64",
                  "type": "integer"
                },
                {
                  "name": "title",
                  "rawType": "object",
                  "type": "string"
                },
                {
                  "name": "vote_average",
                  "rawType": "float64",
                  "type": "float"
                },
                {
                  "name": "vote_count",
                  "rawType": "int64",
                  "type": "integer"
                },
                {
                  "name": "release_date",
                  "rawType": "object",
                  "type": "string"
                },
                {
                  "name": "runtime",
                  "rawType": "int64",
                  "type": "integer"
                },
                {
                  "name": "adult",
                  "rawType": "bool",
                  "type": "boolean"
                },
                {
                  "name": "imdb_id",
                  "rawType": "object",
                  "type": "string"
                },
                {
                  "name": "original_language",
                  "rawType": "object",
                  "type": "string"
                },
                {
                  "name": "overview",
                  "rawType": "object",
                  "type": "string"
                },
                {
                  "name": "popularity",
                  "rawType": "float64",
                  "type": "float"
                },
                {
                  "name": "genres",
                  "rawType": "object",
                  "type": "string"
                },
                {
                  "name": "production_companies",
                  "rawType": "object",
                  "type": "string"
                },
                {
                  "name": "production_countries",
                  "rawType": "object",
                  "type": "string"
                },
                {
                  "name": "status",
                  "rawType": "object",
                  "type": "string"
                }
              ],
              "conversionMethod": "pd.DataFrame",
              "ref": "25cbdb6e-fe94-4876-b332-0043d1b5ad00",
              "rows": [
                [
                  "0",
                  "27205",
                  "Inception",
                  "8.364",
                  "34495",
                  "2010-07-15",
                  "148",
                  "False",
                  "tt1375666",
                  "en",
                  "Cobb, a skilled thief who commits corporate espionage by infiltrating the subconscious of his targets is offered a chance to regain his old life as payment for a task considered to be impossible: \"inception\", the implantation of another person's idea into a target's subconscious.",
                  "83.952",
                  "Action, Science Fiction, Adventure",
                  "Legendary Pictures, Syncopy, Warner Bros. Pictures",
                  "United Kingdom, United States of America",
                  "Released"
                ],
                [
                  "1",
                  "157336",
                  "Interstellar",
                  "8.417",
                  "32571",
                  "2014-11-05",
                  "169",
                  "False",
                  "tt0816692",
                  "en",
                  "The adventures of a group of explorers who make use of a newly discovered wormhole to surpass the limitations on human space travel and conquer the vast distances involved in an interstellar voyage.",
                  "140.241",
                  "Adventure, Drama, Science Fiction",
                  "Legendary Pictures, Syncopy, Lynda Obst Productions",
                  "United Kingdom, United States of America",
                  "Released"
                ],
                [
                  "2",
                  "155",
                  "The Dark Knight",
                  "8.512",
                  "30619",
                  "2008-07-16",
                  "152",
                  "False",
                  "tt0468569",
                  "en",
                  "Batman raises the stakes in his war on crime. With the help of Lt. Jim Gordon and District Attorney Harvey Dent, Batman sets out to dismantle the remaining criminal organizations that plague the streets. The partnership proves to be effective, but they soon find themselves prey to a reign of chaos unleashed by a rising criminal mastermind known to the terrified citizens of Gotham as the Joker.",
                  "130.643",
                  "Drama, Action, Crime, Thriller",
                  "DC Comics, Legendary Pictures, Syncopy, Isobel Griffiths, Warner Bros. Pictures",
                  "United Kingdom, United States of America",
                  "Released"
                ],
                [
                  "3",
                  "19995",
                  "Avatar",
                  "7.573",
                  "29815",
                  "2009-12-15",
                  "162",
                  "False",
                  "tt0499549",
                  "en",
                  "In the 22nd century, a paraplegic Marine is dispatched to the moon Pandora on a unique mission, but becomes torn between following orders and protecting an alien civilization.",
                  "79.932",
                  "Action, Adventure, Fantasy, Science Fiction",
                  "Dune Entertainment, Lightstorm Entertainment, 20th Century Fox, Ingenious Media",
                  "United States of America, United Kingdom",
                  "Released"
                ],
                [
                  "4",
                  "24428",
                  "The Avengers",
                  "7.71",
                  "29166",
                  "2012-04-25",
                  "143",
                  "False",
                  "tt0848228",
                  "en",
                  "When an unexpected enemy emerges and threatens global safety and security, Nick Fury, director of the international peacekeeping agency known as S.H.I.E.L.D., finds himself in need of a team to pull the world back from the brink of disaster. Spanning the globe, a daring recruitment effort begins!",
                  "98.082",
                  "Science Fiction, Action, Adventure",
                  "Marvel Studios",
                  "United States of America",
                  "Released"
                ]
              ],
              "shape": {
                "columns": 15,
                "rows": 5
              }
            },
            "text/html": [
              "<div>\n",
              "<style scoped>\n",
              "    .dataframe tbody tr th:only-of-type {\n",
              "        vertical-align: middle;\n",
              "    }\n",
              "\n",
              "    .dataframe tbody tr th {\n",
              "        vertical-align: top;\n",
              "    }\n",
              "\n",
              "    .dataframe thead th {\n",
              "        text-align: right;\n",
              "    }\n",
              "</style>\n",
              "<table border=\"1\" class=\"dataframe\">\n",
              "  <thead>\n",
              "    <tr style=\"text-align: right;\">\n",
              "      <th></th>\n",
              "      <th>id</th>\n",
              "      <th>title</th>\n",
              "      <th>vote_average</th>\n",
              "      <th>vote_count</th>\n",
              "      <th>release_date</th>\n",
              "      <th>runtime</th>\n",
              "      <th>adult</th>\n",
              "      <th>imdb_id</th>\n",
              "      <th>original_language</th>\n",
              "      <th>overview</th>\n",
              "      <th>popularity</th>\n",
              "      <th>genres</th>\n",
              "      <th>production_companies</th>\n",
              "      <th>production_countries</th>\n",
              "      <th>status</th>\n",
              "    </tr>\n",
              "  </thead>\n",
              "  <tbody>\n",
              "    <tr>\n",
              "      <th>0</th>\n",
              "      <td>27205</td>\n",
              "      <td>Inception</td>\n",
              "      <td>8.364</td>\n",
              "      <td>34495</td>\n",
              "      <td>2010-07-15</td>\n",
              "      <td>148</td>\n",
              "      <td>False</td>\n",
              "      <td>tt1375666</td>\n",
              "      <td>en</td>\n",
              "      <td>Cobb, a skilled thief who commits corporate es...</td>\n",
              "      <td>83.952</td>\n",
              "      <td>Action, Science Fiction, Adventure</td>\n",
              "      <td>Legendary Pictures, Syncopy, Warner Bros. Pict...</td>\n",
              "      <td>United Kingdom, United States of America</td>\n",
              "      <td>Released</td>\n",
              "    </tr>\n",
              "    <tr>\n",
              "      <th>1</th>\n",
              "      <td>157336</td>\n",
              "      <td>Interstellar</td>\n",
              "      <td>8.417</td>\n",
              "      <td>32571</td>\n",
              "      <td>2014-11-05</td>\n",
              "      <td>169</td>\n",
              "      <td>False</td>\n",
              "      <td>tt0816692</td>\n",
              "      <td>en</td>\n",
              "      <td>The adventures of a group of explorers who mak...</td>\n",
              "      <td>140.241</td>\n",
              "      <td>Adventure, Drama, Science Fiction</td>\n",
              "      <td>Legendary Pictures, Syncopy, Lynda Obst Produc...</td>\n",
              "      <td>United Kingdom, United States of America</td>\n",
              "      <td>Released</td>\n",
              "    </tr>\n",
              "    <tr>\n",
              "      <th>2</th>\n",
              "      <td>155</td>\n",
              "      <td>The Dark Knight</td>\n",
              "      <td>8.512</td>\n",
              "      <td>30619</td>\n",
              "      <td>2008-07-16</td>\n",
              "      <td>152</td>\n",
              "      <td>False</td>\n",
              "      <td>tt0468569</td>\n",
              "      <td>en</td>\n",
              "      <td>Batman raises the stakes in his war on crime. ...</td>\n",
              "      <td>130.643</td>\n",
              "      <td>Drama, Action, Crime, Thriller</td>\n",
              "      <td>DC Comics, Legendary Pictures, Syncopy, Isobel...</td>\n",
              "      <td>United Kingdom, United States of America</td>\n",
              "      <td>Released</td>\n",
              "    </tr>\n",
              "    <tr>\n",
              "      <th>3</th>\n",
              "      <td>19995</td>\n",
              "      <td>Avatar</td>\n",
              "      <td>7.573</td>\n",
              "      <td>29815</td>\n",
              "      <td>2009-12-15</td>\n",
              "      <td>162</td>\n",
              "      <td>False</td>\n",
              "      <td>tt0499549</td>\n",
              "      <td>en</td>\n",
              "      <td>In the 22nd century, a paraplegic Marine is di...</td>\n",
              "      <td>79.932</td>\n",
              "      <td>Action, Adventure, Fantasy, Science Fiction</td>\n",
              "      <td>Dune Entertainment, Lightstorm Entertainment, ...</td>\n",
              "      <td>United States of America, United Kingdom</td>\n",
              "      <td>Released</td>\n",
              "    </tr>\n",
              "    <tr>\n",
              "      <th>4</th>\n",
              "      <td>24428</td>\n",
              "      <td>The Avengers</td>\n",
              "      <td>7.710</td>\n",
              "      <td>29166</td>\n",
              "      <td>2012-04-25</td>\n",
              "      <td>143</td>\n",
              "      <td>False</td>\n",
              "      <td>tt0848228</td>\n",
              "      <td>en</td>\n",
              "      <td>When an unexpected enemy emerges and threatens...</td>\n",
              "      <td>98.082</td>\n",
              "      <td>Science Fiction, Action, Adventure</td>\n",
              "      <td>Marvel Studios</td>\n",
              "      <td>United States of America</td>\n",
              "      <td>Released</td>\n",
              "    </tr>\n",
              "  </tbody>\n",
              "</table>\n",
              "</div>"
            ],
            "text/plain": [
              "       id            title  vote_average  vote_count release_date  runtime  \\\n",
              "0   27205        Inception         8.364       34495   2010-07-15      148   \n",
              "1  157336     Interstellar         8.417       32571   2014-11-05      169   \n",
              "2     155  The Dark Knight         8.512       30619   2008-07-16      152   \n",
              "3   19995           Avatar         7.573       29815   2009-12-15      162   \n",
              "4   24428     The Avengers         7.710       29166   2012-04-25      143   \n",
              "\n",
              "   adult    imdb_id original_language  \\\n",
              "0  False  tt1375666                en   \n",
              "1  False  tt0816692                en   \n",
              "2  False  tt0468569                en   \n",
              "3  False  tt0499549                en   \n",
              "4  False  tt0848228                en   \n",
              "\n",
              "                                            overview  popularity  \\\n",
              "0  Cobb, a skilled thief who commits corporate es...      83.952   \n",
              "1  The adventures of a group of explorers who mak...     140.241   \n",
              "2  Batman raises the stakes in his war on crime. ...     130.643   \n",
              "3  In the 22nd century, a paraplegic Marine is di...      79.932   \n",
              "4  When an unexpected enemy emerges and threatens...      98.082   \n",
              "\n",
              "                                        genres  \\\n",
              "0           Action, Science Fiction, Adventure   \n",
              "1            Adventure, Drama, Science Fiction   \n",
              "2               Drama, Action, Crime, Thriller   \n",
              "3  Action, Adventure, Fantasy, Science Fiction   \n",
              "4           Science Fiction, Action, Adventure   \n",
              "\n",
              "                                production_companies  \\\n",
              "0  Legendary Pictures, Syncopy, Warner Bros. Pict...   \n",
              "1  Legendary Pictures, Syncopy, Lynda Obst Produc...   \n",
              "2  DC Comics, Legendary Pictures, Syncopy, Isobel...   \n",
              "3  Dune Entertainment, Lightstorm Entertainment, ...   \n",
              "4                                     Marvel Studios   \n",
              "\n",
              "                       production_countries    status  \n",
              "0  United Kingdom, United States of America  Released  \n",
              "1  United Kingdom, United States of America  Released  \n",
              "2  United Kingdom, United States of America  Released  \n",
              "3  United States of America, United Kingdom  Released  \n",
              "4                  United States of America  Released  "
            ]
          },
          "execution_count": 127,
          "metadata": {},
          "output_type": "execute_result"
        }
      ],
      "source": [
        "df.head()"
      ]
    },
    {
      "cell_type": "code",
      "execution_count": 128,
      "metadata": {
        "colab": {
          "base_uri": "https://localhost:8080/"
        },
        "id": "oOyPy7sOCJMR",
        "outputId": "d5e1eb53-39f6-4e64-eb25-a361f1e2fc58"
      },
      "outputs": [
        {
          "name": "stdout",
          "output_type": "stream",
          "text": [
            "<class 'pandas.core.frame.DataFrame'>\n",
            "RangeIndex: 1195824 entries, 0 to 1195823\n",
            "Data columns (total 15 columns):\n",
            " #   Column                Non-Null Count    Dtype  \n",
            "---  ------                --------------    -----  \n",
            " 0   id                    1195824 non-null  int64  \n",
            " 1   title                 1195811 non-null  object \n",
            " 2   vote_average          1195824 non-null  float64\n",
            " 3   vote_count            1195824 non-null  int64  \n",
            " 4   release_date          983205 non-null   object \n",
            " 5   runtime               1195824 non-null  int64  \n",
            " 6   adult                 1195824 non-null  bool   \n",
            " 7   imdb_id               616647 non-null   object \n",
            " 8   original_language     1195824 non-null  object \n",
            " 9   overview              945442 non-null   object \n",
            " 10  popularity            1195824 non-null  float64\n",
            " 11  genres                705665 non-null   object \n",
            " 12  production_companies  533232 non-null   object \n",
            " 13  production_countries  654054 non-null   object \n",
            " 14  status                1195824 non-null  object \n",
            "dtypes: bool(1), float64(2), int64(3), object(9)\n",
            "memory usage: 128.9+ MB\n"
          ]
        }
      ],
      "source": [
        "df.info()"
      ]
    },
    {
      "cell_type": "markdown",
      "metadata": {
        "id": "R6HkeSjsCJMR"
      },
      "source": [
        "# Data Wrangling (Cleaning)"
      ]
    },
    {
      "cell_type": "code",
      "execution_count": 129,
      "metadata": {
        "colab": {
          "base_uri": "https://localhost:8080/"
        },
        "id": "kO_BsvjGCJMR",
        "outputId": "efba86b3-f677-43fa-b6a9-a0e04237b001"
      },
      "outputs": [
        {
          "data": {
            "text/plain": [
              "id                           0\n",
              "title                       13\n",
              "vote_average                 0\n",
              "vote_count                   0\n",
              "release_date            212619\n",
              "runtime                      0\n",
              "adult                        0\n",
              "imdb_id                 579177\n",
              "original_language            0\n",
              "overview                250382\n",
              "popularity                   0\n",
              "genres                  490159\n",
              "production_companies    662592\n",
              "production_countries    541770\n",
              "status                       0\n",
              "dtype: int64"
            ]
          },
          "execution_count": 129,
          "metadata": {},
          "output_type": "execute_result"
        }
      ],
      "source": [
        "df.isna().sum()"
      ]
    },
    {
      "cell_type": "code",
      "execution_count": 130,
      "metadata": {
        "colab": {
          "base_uri": "https://localhost:8080/"
        },
        "id": "-3SBxw7uCJMR",
        "outputId": "489eb685-6ec6-413f-e8a3-862a29e63592"
      },
      "outputs": [
        {
          "data": {
            "text/plain": [
              "375"
            ]
          },
          "execution_count": 130,
          "metadata": {},
          "output_type": "execute_result"
        }
      ],
      "source": [
        "df.duplicated().sum()"
      ]
    },
    {
      "cell_type": "code",
      "execution_count": 131,
      "metadata": {
        "id": "rpHhgq-oCJMR"
      },
      "outputs": [],
      "source": [
        "df = df.drop_duplicates()"
      ]
    },
    {
      "cell_type": "code",
      "execution_count": 132,
      "metadata": {
        "colab": {
          "base_uri": "https://localhost:8080/"
        },
        "id": "QIdP43R7CJMR",
        "outputId": "8bca5f65-17f7-4903-efe4-333cb17c902b"
      },
      "outputs": [
        {
          "data": {
            "text/plain": [
              "0"
            ]
          },
          "execution_count": 132,
          "metadata": {},
          "output_type": "execute_result"
        }
      ],
      "source": [
        "df.duplicated().sum()"
      ]
    },
    {
      "cell_type": "code",
      "execution_count": 133,
      "metadata": {
        "id": "LEs6CL2DCJMS"
      },
      "outputs": [],
      "source": [
        "df = df.dropna(subset=['title'])"
      ]
    },
    {
      "cell_type": "code",
      "execution_count": 134,
      "metadata": {
        "colab": {
          "base_uri": "https://localhost:8080/"
        },
        "id": "NxP1Eov4CJMS",
        "outputId": "11dd56bc-e802-425a-b8a4-d6d4f3fa0883"
      },
      "outputs": [
        {
          "data": {
            "text/plain": [
              "Index(['title', 'release_date', 'imdb_id', 'original_language', 'overview',\n",
              "       'genres', 'production_companies', 'production_countries', 'status'],\n",
              "      dtype='object')"
            ]
          },
          "execution_count": 134,
          "metadata": {},
          "output_type": "execute_result"
        }
      ],
      "source": [
        "cat_cols = df.select_dtypes(include='object').columns\n",
        "cat_cols"
      ]
    },
    {
      "cell_type": "code",
      "execution_count": 135,
      "metadata": {
        "colab": {
          "base_uri": "https://localhost:8080/"
        },
        "id": "dQXkR7yDCJMS",
        "outputId": "a8a8da3c-f347-4aaa-8328-f81bb5b1e4ac"
      },
      "outputs": [
        {
          "name": "stdout",
          "output_type": "stream",
          "text": [
            "title has 1023541 unique values\n",
            "release_date has 42957 unique values\n",
            "imdb_id has 615050 unique values\n",
            "original_language has 174 unique values\n",
            "overview has 917749 unique values\n",
            "genres has 13693 unique values\n",
            "production_companies has 212486 unique values\n",
            "production_countries has 10262 unique values\n",
            "status has 6 unique values\n"
          ]
        }
      ],
      "source": [
        "for col in cat_cols:\n",
        "    print(f'{col} has {df[col].nunique()} unique values')"
      ]
    },
    {
      "cell_type": "code",
      "execution_count": 136,
      "metadata": {
        "colab": {
          "base_uri": "https://localhost:8080/"
        },
        "id": "sbr6gabQCJMS",
        "outputId": "09d1b953-9307-4b3c-bf35-ae885b0edbaa"
      },
      "outputs": [
        {
          "data": {
            "application/vnd.microsoft.datawrangler.viewer.v0+json": {
              "columns": [
                {
                  "name": "index",
                  "rawType": "int64",
                  "type": "integer"
                },
                {
                  "name": "id",
                  "rawType": "int64",
                  "type": "integer"
                },
                {
                  "name": "title",
                  "rawType": "object",
                  "type": "string"
                },
                {
                  "name": "vote_average",
                  "rawType": "float64",
                  "type": "float"
                },
                {
                  "name": "vote_count",
                  "rawType": "int64",
                  "type": "integer"
                },
                {
                  "name": "release_date",
                  "rawType": "object",
                  "type": "string"
                },
                {
                  "name": "runtime",
                  "rawType": "int64",
                  "type": "integer"
                },
                {
                  "name": "adult",
                  "rawType": "bool",
                  "type": "boolean"
                },
                {
                  "name": "imdb_id",
                  "rawType": "object",
                  "type": "string"
                },
                {
                  "name": "original_language",
                  "rawType": "object",
                  "type": "string"
                },
                {
                  "name": "overview",
                  "rawType": "object",
                  "type": "string"
                },
                {
                  "name": "popularity",
                  "rawType": "float64",
                  "type": "float"
                },
                {
                  "name": "genres",
                  "rawType": "object",
                  "type": "string"
                },
                {
                  "name": "production_companies",
                  "rawType": "object",
                  "type": "string"
                },
                {
                  "name": "production_countries",
                  "rawType": "object",
                  "type": "string"
                },
                {
                  "name": "status",
                  "rawType": "object",
                  "type": "string"
                },
                {
                  "name": "genres_list",
                  "rawType": "object",
                  "type": "unknown"
                }
              ],
              "conversionMethod": "pd.DataFrame",
              "ref": "9039035d-3b79-43d0-a4f2-b223b2db083e",
              "rows": [
                [
                  "0",
                  "27205",
                  "Inception",
                  "8.364",
                  "34495",
                  "2010-07-15",
                  "148",
                  "False",
                  "tt1375666",
                  "en",
                  "Cobb, a skilled thief who commits corporate espionage by infiltrating the subconscious of his targets is offered a chance to regain his old life as payment for a task considered to be impossible: \"inception\", the implantation of another person's idea into a target's subconscious.",
                  "83.952",
                  "Action, Science Fiction, Adventure",
                  "Legendary Pictures, Syncopy, Warner Bros. Pictures",
                  "United Kingdom, United States of America",
                  "Released",
                  "['Action', 'Science Fiction', 'Adventure']"
                ],
                [
                  "1",
                  "157336",
                  "Interstellar",
                  "8.417",
                  "32571",
                  "2014-11-05",
                  "169",
                  "False",
                  "tt0816692",
                  "en",
                  "The adventures of a group of explorers who make use of a newly discovered wormhole to surpass the limitations on human space travel and conquer the vast distances involved in an interstellar voyage.",
                  "140.241",
                  "Adventure, Drama, Science Fiction",
                  "Legendary Pictures, Syncopy, Lynda Obst Productions",
                  "United Kingdom, United States of America",
                  "Released",
                  "['Adventure', 'Drama', 'Science Fiction']"
                ],
                [
                  "2",
                  "155",
                  "The Dark Knight",
                  "8.512",
                  "30619",
                  "2008-07-16",
                  "152",
                  "False",
                  "tt0468569",
                  "en",
                  "Batman raises the stakes in his war on crime. With the help of Lt. Jim Gordon and District Attorney Harvey Dent, Batman sets out to dismantle the remaining criminal organizations that plague the streets. The partnership proves to be effective, but they soon find themselves prey to a reign of chaos unleashed by a rising criminal mastermind known to the terrified citizens of Gotham as the Joker.",
                  "130.643",
                  "Drama, Action, Crime, Thriller",
                  "DC Comics, Legendary Pictures, Syncopy, Isobel Griffiths, Warner Bros. Pictures",
                  "United Kingdom, United States of America",
                  "Released",
                  "['Drama', 'Action', 'Crime', 'Thriller']"
                ],
                [
                  "3",
                  "19995",
                  "Avatar",
                  "7.573",
                  "29815",
                  "2009-12-15",
                  "162",
                  "False",
                  "tt0499549",
                  "en",
                  "In the 22nd century, a paraplegic Marine is dispatched to the moon Pandora on a unique mission, but becomes torn between following orders and protecting an alien civilization.",
                  "79.932",
                  "Action, Adventure, Fantasy, Science Fiction",
                  "Dune Entertainment, Lightstorm Entertainment, 20th Century Fox, Ingenious Media",
                  "United States of America, United Kingdom",
                  "Released",
                  "['Action', 'Adventure', 'Fantasy', 'Science Fiction']"
                ],
                [
                  "4",
                  "24428",
                  "The Avengers",
                  "7.71",
                  "29166",
                  "2012-04-25",
                  "143",
                  "False",
                  "tt0848228",
                  "en",
                  "When an unexpected enemy emerges and threatens global safety and security, Nick Fury, director of the international peacekeeping agency known as S.H.I.E.L.D., finds himself in need of a team to pull the world back from the brink of disaster. Spanning the globe, a daring recruitment effort begins!",
                  "98.082",
                  "Science Fiction, Action, Adventure",
                  "Marvel Studios",
                  "United States of America",
                  "Released",
                  "['Science Fiction', 'Action', 'Adventure']"
                ]
              ],
              "shape": {
                "columns": 16,
                "rows": 5
              }
            },
            "text/html": [
              "<div>\n",
              "<style scoped>\n",
              "    .dataframe tbody tr th:only-of-type {\n",
              "        vertical-align: middle;\n",
              "    }\n",
              "\n",
              "    .dataframe tbody tr th {\n",
              "        vertical-align: top;\n",
              "    }\n",
              "\n",
              "    .dataframe thead th {\n",
              "        text-align: right;\n",
              "    }\n",
              "</style>\n",
              "<table border=\"1\" class=\"dataframe\">\n",
              "  <thead>\n",
              "    <tr style=\"text-align: right;\">\n",
              "      <th></th>\n",
              "      <th>id</th>\n",
              "      <th>title</th>\n",
              "      <th>vote_average</th>\n",
              "      <th>vote_count</th>\n",
              "      <th>release_date</th>\n",
              "      <th>runtime</th>\n",
              "      <th>adult</th>\n",
              "      <th>imdb_id</th>\n",
              "      <th>original_language</th>\n",
              "      <th>overview</th>\n",
              "      <th>popularity</th>\n",
              "      <th>genres</th>\n",
              "      <th>production_companies</th>\n",
              "      <th>production_countries</th>\n",
              "      <th>status</th>\n",
              "      <th>genres_list</th>\n",
              "    </tr>\n",
              "  </thead>\n",
              "  <tbody>\n",
              "    <tr>\n",
              "      <th>0</th>\n",
              "      <td>27205</td>\n",
              "      <td>Inception</td>\n",
              "      <td>8.364</td>\n",
              "      <td>34495</td>\n",
              "      <td>2010-07-15</td>\n",
              "      <td>148</td>\n",
              "      <td>False</td>\n",
              "      <td>tt1375666</td>\n",
              "      <td>en</td>\n",
              "      <td>Cobb, a skilled thief who commits corporate es...</td>\n",
              "      <td>83.952</td>\n",
              "      <td>Action, Science Fiction, Adventure</td>\n",
              "      <td>Legendary Pictures, Syncopy, Warner Bros. Pict...</td>\n",
              "      <td>United Kingdom, United States of America</td>\n",
              "      <td>Released</td>\n",
              "      <td>[Action, Science Fiction, Adventure]</td>\n",
              "    </tr>\n",
              "    <tr>\n",
              "      <th>1</th>\n",
              "      <td>157336</td>\n",
              "      <td>Interstellar</td>\n",
              "      <td>8.417</td>\n",
              "      <td>32571</td>\n",
              "      <td>2014-11-05</td>\n",
              "      <td>169</td>\n",
              "      <td>False</td>\n",
              "      <td>tt0816692</td>\n",
              "      <td>en</td>\n",
              "      <td>The adventures of a group of explorers who mak...</td>\n",
              "      <td>140.241</td>\n",
              "      <td>Adventure, Drama, Science Fiction</td>\n",
              "      <td>Legendary Pictures, Syncopy, Lynda Obst Produc...</td>\n",
              "      <td>United Kingdom, United States of America</td>\n",
              "      <td>Released</td>\n",
              "      <td>[Adventure, Drama, Science Fiction]</td>\n",
              "    </tr>\n",
              "    <tr>\n",
              "      <th>2</th>\n",
              "      <td>155</td>\n",
              "      <td>The Dark Knight</td>\n",
              "      <td>8.512</td>\n",
              "      <td>30619</td>\n",
              "      <td>2008-07-16</td>\n",
              "      <td>152</td>\n",
              "      <td>False</td>\n",
              "      <td>tt0468569</td>\n",
              "      <td>en</td>\n",
              "      <td>Batman raises the stakes in his war on crime. ...</td>\n",
              "      <td>130.643</td>\n",
              "      <td>Drama, Action, Crime, Thriller</td>\n",
              "      <td>DC Comics, Legendary Pictures, Syncopy, Isobel...</td>\n",
              "      <td>United Kingdom, United States of America</td>\n",
              "      <td>Released</td>\n",
              "      <td>[Drama, Action, Crime, Thriller]</td>\n",
              "    </tr>\n",
              "    <tr>\n",
              "      <th>3</th>\n",
              "      <td>19995</td>\n",
              "      <td>Avatar</td>\n",
              "      <td>7.573</td>\n",
              "      <td>29815</td>\n",
              "      <td>2009-12-15</td>\n",
              "      <td>162</td>\n",
              "      <td>False</td>\n",
              "      <td>tt0499549</td>\n",
              "      <td>en</td>\n",
              "      <td>In the 22nd century, a paraplegic Marine is di...</td>\n",
              "      <td>79.932</td>\n",
              "      <td>Action, Adventure, Fantasy, Science Fiction</td>\n",
              "      <td>Dune Entertainment, Lightstorm Entertainment, ...</td>\n",
              "      <td>United States of America, United Kingdom</td>\n",
              "      <td>Released</td>\n",
              "      <td>[Action, Adventure, Fantasy, Science Fiction]</td>\n",
              "    </tr>\n",
              "    <tr>\n",
              "      <th>4</th>\n",
              "      <td>24428</td>\n",
              "      <td>The Avengers</td>\n",
              "      <td>7.710</td>\n",
              "      <td>29166</td>\n",
              "      <td>2012-04-25</td>\n",
              "      <td>143</td>\n",
              "      <td>False</td>\n",
              "      <td>tt0848228</td>\n",
              "      <td>en</td>\n",
              "      <td>When an unexpected enemy emerges and threatens...</td>\n",
              "      <td>98.082</td>\n",
              "      <td>Science Fiction, Action, Adventure</td>\n",
              "      <td>Marvel Studios</td>\n",
              "      <td>United States of America</td>\n",
              "      <td>Released</td>\n",
              "      <td>[Science Fiction, Action, Adventure]</td>\n",
              "    </tr>\n",
              "  </tbody>\n",
              "</table>\n",
              "</div>"
            ],
            "text/plain": [
              "       id            title  vote_average  vote_count release_date  runtime  \\\n",
              "0   27205        Inception         8.364       34495   2010-07-15      148   \n",
              "1  157336     Interstellar         8.417       32571   2014-11-05      169   \n",
              "2     155  The Dark Knight         8.512       30619   2008-07-16      152   \n",
              "3   19995           Avatar         7.573       29815   2009-12-15      162   \n",
              "4   24428     The Avengers         7.710       29166   2012-04-25      143   \n",
              "\n",
              "   adult    imdb_id original_language  \\\n",
              "0  False  tt1375666                en   \n",
              "1  False  tt0816692                en   \n",
              "2  False  tt0468569                en   \n",
              "3  False  tt0499549                en   \n",
              "4  False  tt0848228                en   \n",
              "\n",
              "                                            overview  popularity  \\\n",
              "0  Cobb, a skilled thief who commits corporate es...      83.952   \n",
              "1  The adventures of a group of explorers who mak...     140.241   \n",
              "2  Batman raises the stakes in his war on crime. ...     130.643   \n",
              "3  In the 22nd century, a paraplegic Marine is di...      79.932   \n",
              "4  When an unexpected enemy emerges and threatens...      98.082   \n",
              "\n",
              "                                        genres  \\\n",
              "0           Action, Science Fiction, Adventure   \n",
              "1            Adventure, Drama, Science Fiction   \n",
              "2               Drama, Action, Crime, Thriller   \n",
              "3  Action, Adventure, Fantasy, Science Fiction   \n",
              "4           Science Fiction, Action, Adventure   \n",
              "\n",
              "                                production_companies  \\\n",
              "0  Legendary Pictures, Syncopy, Warner Bros. Pict...   \n",
              "1  Legendary Pictures, Syncopy, Lynda Obst Produc...   \n",
              "2  DC Comics, Legendary Pictures, Syncopy, Isobel...   \n",
              "3  Dune Entertainment, Lightstorm Entertainment, ...   \n",
              "4                                     Marvel Studios   \n",
              "\n",
              "                       production_countries    status  \\\n",
              "0  United Kingdom, United States of America  Released   \n",
              "1  United Kingdom, United States of America  Released   \n",
              "2  United Kingdom, United States of America  Released   \n",
              "3  United States of America, United Kingdom  Released   \n",
              "4                  United States of America  Released   \n",
              "\n",
              "                                     genres_list  \n",
              "0           [Action, Science Fiction, Adventure]  \n",
              "1            [Adventure, Drama, Science Fiction]  \n",
              "2               [Drama, Action, Crime, Thriller]  \n",
              "3  [Action, Adventure, Fantasy, Science Fiction]  \n",
              "4           [Science Fiction, Action, Adventure]  "
            ]
          },
          "execution_count": 136,
          "metadata": {},
          "output_type": "execute_result"
        }
      ],
      "source": [
        "df['genres_list'] = df['genres'].dropna().apply(lambda x: x.split(\", \"))\n",
        "df.head()"
      ]
    },
    {
      "cell_type": "code",
      "execution_count": 137,
      "metadata": {
        "id": "CgSUHJcYCJMS"
      },
      "outputs": [],
      "source": [
        "df = df.drop('genres', axis=1)"
      ]
    },
    {
      "cell_type": "code",
      "execution_count": 138,
      "metadata": {
        "colab": {
          "base_uri": "https://localhost:8080/"
        },
        "id": "yoI0JZEWCJMS",
        "outputId": "565da8c6-d9f0-46ad-e228-47ab9012139c"
      },
      "outputs": [
        {
          "data": {
            "application/vnd.microsoft.datawrangler.viewer.v0+json": {
              "columns": [
                {
                  "name": "index",
                  "rawType": "int64",
                  "type": "integer"
                },
                {
                  "name": "id",
                  "rawType": "int64",
                  "type": "integer"
                },
                {
                  "name": "title",
                  "rawType": "object",
                  "type": "string"
                },
                {
                  "name": "vote_average",
                  "rawType": "float64",
                  "type": "float"
                },
                {
                  "name": "vote_count",
                  "rawType": "int64",
                  "type": "integer"
                },
                {
                  "name": "release_date",
                  "rawType": "object",
                  "type": "string"
                },
                {
                  "name": "runtime",
                  "rawType": "int64",
                  "type": "integer"
                },
                {
                  "name": "adult",
                  "rawType": "bool",
                  "type": "boolean"
                },
                {
                  "name": "imdb_id",
                  "rawType": "object",
                  "type": "string"
                },
                {
                  "name": "original_language",
                  "rawType": "object",
                  "type": "string"
                },
                {
                  "name": "overview",
                  "rawType": "object",
                  "type": "string"
                },
                {
                  "name": "popularity",
                  "rawType": "float64",
                  "type": "float"
                },
                {
                  "name": "production_companies",
                  "rawType": "object",
                  "type": "string"
                },
                {
                  "name": "production_countries",
                  "rawType": "object",
                  "type": "string"
                },
                {
                  "name": "status",
                  "rawType": "object",
                  "type": "string"
                },
                {
                  "name": "genres_list",
                  "rawType": "object",
                  "type": "unknown"
                }
              ],
              "conversionMethod": "pd.DataFrame",
              "ref": "9c6e5a67-126b-45f7-9431-efb45b31dca1",
              "rows": [
                [
                  "0",
                  "27205",
                  "Inception",
                  "8.364",
                  "34495",
                  "2010-07-15",
                  "148",
                  "False",
                  "tt1375666",
                  "en",
                  "Cobb, a skilled thief who commits corporate espionage by infiltrating the subconscious of his targets is offered a chance to regain his old life as payment for a task considered to be impossible: \"inception\", the implantation of another person's idea into a target's subconscious.",
                  "83.952",
                  "Legendary Pictures, Syncopy, Warner Bros. Pictures",
                  "United Kingdom, United States of America",
                  "Released",
                  "['Action', 'Science Fiction', 'Adventure']"
                ],
                [
                  "1",
                  "157336",
                  "Interstellar",
                  "8.417",
                  "32571",
                  "2014-11-05",
                  "169",
                  "False",
                  "tt0816692",
                  "en",
                  "The adventures of a group of explorers who make use of a newly discovered wormhole to surpass the limitations on human space travel and conquer the vast distances involved in an interstellar voyage.",
                  "140.241",
                  "Legendary Pictures, Syncopy, Lynda Obst Productions",
                  "United Kingdom, United States of America",
                  "Released",
                  "['Adventure', 'Drama', 'Science Fiction']"
                ],
                [
                  "2",
                  "155",
                  "The Dark Knight",
                  "8.512",
                  "30619",
                  "2008-07-16",
                  "152",
                  "False",
                  "tt0468569",
                  "en",
                  "Batman raises the stakes in his war on crime. With the help of Lt. Jim Gordon and District Attorney Harvey Dent, Batman sets out to dismantle the remaining criminal organizations that plague the streets. The partnership proves to be effective, but they soon find themselves prey to a reign of chaos unleashed by a rising criminal mastermind known to the terrified citizens of Gotham as the Joker.",
                  "130.643",
                  "DC Comics, Legendary Pictures, Syncopy, Isobel Griffiths, Warner Bros. Pictures",
                  "United Kingdom, United States of America",
                  "Released",
                  "['Drama', 'Action', 'Crime', 'Thriller']"
                ],
                [
                  "3",
                  "19995",
                  "Avatar",
                  "7.573",
                  "29815",
                  "2009-12-15",
                  "162",
                  "False",
                  "tt0499549",
                  "en",
                  "In the 22nd century, a paraplegic Marine is dispatched to the moon Pandora on a unique mission, but becomes torn between following orders and protecting an alien civilization.",
                  "79.932",
                  "Dune Entertainment, Lightstorm Entertainment, 20th Century Fox, Ingenious Media",
                  "United States of America, United Kingdom",
                  "Released",
                  "['Action', 'Adventure', 'Fantasy', 'Science Fiction']"
                ],
                [
                  "4",
                  "24428",
                  "The Avengers",
                  "7.71",
                  "29166",
                  "2012-04-25",
                  "143",
                  "False",
                  "tt0848228",
                  "en",
                  "When an unexpected enemy emerges and threatens global safety and security, Nick Fury, director of the international peacekeeping agency known as S.H.I.E.L.D., finds himself in need of a team to pull the world back from the brink of disaster. Spanning the globe, a daring recruitment effort begins!",
                  "98.082",
                  "Marvel Studios",
                  "United States of America",
                  "Released",
                  "['Science Fiction', 'Action', 'Adventure']"
                ]
              ],
              "shape": {
                "columns": 15,
                "rows": 5
              }
            },
            "text/html": [
              "<div>\n",
              "<style scoped>\n",
              "    .dataframe tbody tr th:only-of-type {\n",
              "        vertical-align: middle;\n",
              "    }\n",
              "\n",
              "    .dataframe tbody tr th {\n",
              "        vertical-align: top;\n",
              "    }\n",
              "\n",
              "    .dataframe thead th {\n",
              "        text-align: right;\n",
              "    }\n",
              "</style>\n",
              "<table border=\"1\" class=\"dataframe\">\n",
              "  <thead>\n",
              "    <tr style=\"text-align: right;\">\n",
              "      <th></th>\n",
              "      <th>id</th>\n",
              "      <th>title</th>\n",
              "      <th>vote_average</th>\n",
              "      <th>vote_count</th>\n",
              "      <th>release_date</th>\n",
              "      <th>runtime</th>\n",
              "      <th>adult</th>\n",
              "      <th>imdb_id</th>\n",
              "      <th>original_language</th>\n",
              "      <th>overview</th>\n",
              "      <th>popularity</th>\n",
              "      <th>production_companies</th>\n",
              "      <th>production_countries</th>\n",
              "      <th>status</th>\n",
              "      <th>genres_list</th>\n",
              "    </tr>\n",
              "  </thead>\n",
              "  <tbody>\n",
              "    <tr>\n",
              "      <th>0</th>\n",
              "      <td>27205</td>\n",
              "      <td>Inception</td>\n",
              "      <td>8.364</td>\n",
              "      <td>34495</td>\n",
              "      <td>2010-07-15</td>\n",
              "      <td>148</td>\n",
              "      <td>False</td>\n",
              "      <td>tt1375666</td>\n",
              "      <td>en</td>\n",
              "      <td>Cobb, a skilled thief who commits corporate es...</td>\n",
              "      <td>83.952</td>\n",
              "      <td>Legendary Pictures, Syncopy, Warner Bros. Pict...</td>\n",
              "      <td>United Kingdom, United States of America</td>\n",
              "      <td>Released</td>\n",
              "      <td>[Action, Science Fiction, Adventure]</td>\n",
              "    </tr>\n",
              "    <tr>\n",
              "      <th>1</th>\n",
              "      <td>157336</td>\n",
              "      <td>Interstellar</td>\n",
              "      <td>8.417</td>\n",
              "      <td>32571</td>\n",
              "      <td>2014-11-05</td>\n",
              "      <td>169</td>\n",
              "      <td>False</td>\n",
              "      <td>tt0816692</td>\n",
              "      <td>en</td>\n",
              "      <td>The adventures of a group of explorers who mak...</td>\n",
              "      <td>140.241</td>\n",
              "      <td>Legendary Pictures, Syncopy, Lynda Obst Produc...</td>\n",
              "      <td>United Kingdom, United States of America</td>\n",
              "      <td>Released</td>\n",
              "      <td>[Adventure, Drama, Science Fiction]</td>\n",
              "    </tr>\n",
              "    <tr>\n",
              "      <th>2</th>\n",
              "      <td>155</td>\n",
              "      <td>The Dark Knight</td>\n",
              "      <td>8.512</td>\n",
              "      <td>30619</td>\n",
              "      <td>2008-07-16</td>\n",
              "      <td>152</td>\n",
              "      <td>False</td>\n",
              "      <td>tt0468569</td>\n",
              "      <td>en</td>\n",
              "      <td>Batman raises the stakes in his war on crime. ...</td>\n",
              "      <td>130.643</td>\n",
              "      <td>DC Comics, Legendary Pictures, Syncopy, Isobel...</td>\n",
              "      <td>United Kingdom, United States of America</td>\n",
              "      <td>Released</td>\n",
              "      <td>[Drama, Action, Crime, Thriller]</td>\n",
              "    </tr>\n",
              "    <tr>\n",
              "      <th>3</th>\n",
              "      <td>19995</td>\n",
              "      <td>Avatar</td>\n",
              "      <td>7.573</td>\n",
              "      <td>29815</td>\n",
              "      <td>2009-12-15</td>\n",
              "      <td>162</td>\n",
              "      <td>False</td>\n",
              "      <td>tt0499549</td>\n",
              "      <td>en</td>\n",
              "      <td>In the 22nd century, a paraplegic Marine is di...</td>\n",
              "      <td>79.932</td>\n",
              "      <td>Dune Entertainment, Lightstorm Entertainment, ...</td>\n",
              "      <td>United States of America, United Kingdom</td>\n",
              "      <td>Released</td>\n",
              "      <td>[Action, Adventure, Fantasy, Science Fiction]</td>\n",
              "    </tr>\n",
              "    <tr>\n",
              "      <th>4</th>\n",
              "      <td>24428</td>\n",
              "      <td>The Avengers</td>\n",
              "      <td>7.710</td>\n",
              "      <td>29166</td>\n",
              "      <td>2012-04-25</td>\n",
              "      <td>143</td>\n",
              "      <td>False</td>\n",
              "      <td>tt0848228</td>\n",
              "      <td>en</td>\n",
              "      <td>When an unexpected enemy emerges and threatens...</td>\n",
              "      <td>98.082</td>\n",
              "      <td>Marvel Studios</td>\n",
              "      <td>United States of America</td>\n",
              "      <td>Released</td>\n",
              "      <td>[Science Fiction, Action, Adventure]</td>\n",
              "    </tr>\n",
              "  </tbody>\n",
              "</table>\n",
              "</div>"
            ],
            "text/plain": [
              "       id            title  vote_average  vote_count release_date  runtime  \\\n",
              "0   27205        Inception         8.364       34495   2010-07-15      148   \n",
              "1  157336     Interstellar         8.417       32571   2014-11-05      169   \n",
              "2     155  The Dark Knight         8.512       30619   2008-07-16      152   \n",
              "3   19995           Avatar         7.573       29815   2009-12-15      162   \n",
              "4   24428     The Avengers         7.710       29166   2012-04-25      143   \n",
              "\n",
              "   adult    imdb_id original_language  \\\n",
              "0  False  tt1375666                en   \n",
              "1  False  tt0816692                en   \n",
              "2  False  tt0468569                en   \n",
              "3  False  tt0499549                en   \n",
              "4  False  tt0848228                en   \n",
              "\n",
              "                                            overview  popularity  \\\n",
              "0  Cobb, a skilled thief who commits corporate es...      83.952   \n",
              "1  The adventures of a group of explorers who mak...     140.241   \n",
              "2  Batman raises the stakes in his war on crime. ...     130.643   \n",
              "3  In the 22nd century, a paraplegic Marine is di...      79.932   \n",
              "4  When an unexpected enemy emerges and threatens...      98.082   \n",
              "\n",
              "                                production_companies  \\\n",
              "0  Legendary Pictures, Syncopy, Warner Bros. Pict...   \n",
              "1  Legendary Pictures, Syncopy, Lynda Obst Produc...   \n",
              "2  DC Comics, Legendary Pictures, Syncopy, Isobel...   \n",
              "3  Dune Entertainment, Lightstorm Entertainment, ...   \n",
              "4                                     Marvel Studios   \n",
              "\n",
              "                       production_countries    status  \\\n",
              "0  United Kingdom, United States of America  Released   \n",
              "1  United Kingdom, United States of America  Released   \n",
              "2  United Kingdom, United States of America  Released   \n",
              "3  United States of America, United Kingdom  Released   \n",
              "4                  United States of America  Released   \n",
              "\n",
              "                                     genres_list  \n",
              "0           [Action, Science Fiction, Adventure]  \n",
              "1            [Adventure, Drama, Science Fiction]  \n",
              "2               [Drama, Action, Crime, Thriller]  \n",
              "3  [Action, Adventure, Fantasy, Science Fiction]  \n",
              "4           [Science Fiction, Action, Adventure]  "
            ]
          },
          "execution_count": 138,
          "metadata": {},
          "output_type": "execute_result"
        }
      ],
      "source": [
        "df.head()"
      ]
    },
    {
      "cell_type": "markdown",
      "metadata": {
        "id": "NZCJ91iADAfC"
      },
      "source": [
        "## Date and movies from 1900 to 2025"
      ]
    },
    {
      "cell_type": "code",
      "execution_count": 139,
      "metadata": {
        "id": "bK-3_rzKCJMS"
      },
      "outputs": [],
      "source": [
        "df['release_date'] = pd.to_datetime(df['release_date'])\n",
        "df['release_year'] = df['release_date'].dt.year"
      ]
    },
    {
      "cell_type": "code",
      "execution_count": 140,
      "metadata": {
        "colab": {
          "base_uri": "https://localhost:8080/"
        },
        "id": "lZ8TUfkgCJMT",
        "outputId": "ed653e00-9732-4f5c-ba20-8b453b29a5e8"
      },
      "outputs": [
        {
          "data": {
            "text/plain": [
              "(1800.0, 2099.0)"
            ]
          },
          "execution_count": 140,
          "metadata": {},
          "output_type": "execute_result"
        }
      ],
      "source": [
        "df['release_year'].min(), df['release_year'].max()"
      ]
    },
    {
      "cell_type": "code",
      "execution_count": 141,
      "metadata": {
        "id": "VshhnpX6CJMT"
      },
      "outputs": [],
      "source": [
        "df = df[df['release_year'] >= 1900]"
      ]
    },
    {
      "cell_type": "code",
      "execution_count": 142,
      "metadata": {
        "id": "eYxkJL8rCJMT"
      },
      "outputs": [],
      "source": [
        "df = df[df['release_year'] <= 2025]"
      ]
    },
    {
      "cell_type": "code",
      "execution_count": 143,
      "metadata": {
        "colab": {
          "base_uri": "https://localhost:8080/"
        },
        "id": "aXs2pfvkCJMT",
        "outputId": "952cc45f-a612-46dd-d40d-617511a3eae5"
      },
      "outputs": [
        {
          "data": {
            "text/plain": [
              "(1900.0, 2025.0)"
            ]
          },
          "execution_count": 143,
          "metadata": {},
          "output_type": "execute_result"
        }
      ],
      "source": [
        "df['release_year'].min(), df['release_year'].max()"
      ]
    },
    {
      "cell_type": "markdown",
      "metadata": {
        "id": "lqFzFXzpDJdK"
      },
      "source": [
        "## including only released movies"
      ]
    },
    {
      "cell_type": "code",
      "execution_count": 144,
      "metadata": {
        "colab": {
          "base_uri": "https://localhost:8080/"
        },
        "id": "Rf9xUGqXCJMT",
        "outputId": "d39aac55-1967-4537-f580-227d9ce99401"
      },
      "outputs": [
        {
          "data": {
            "text/plain": [
              "status\n",
              "Released           969922\n",
              "In Production        7066\n",
              "Post Production      2869\n",
              "Planned               892\n",
              "Rumored                16\n",
              "Canceled               12\n",
              "Name: count, dtype: int64"
            ]
          },
          "execution_count": 144,
          "metadata": {},
          "output_type": "execute_result"
        }
      ],
      "source": [
        "df['status'].value_counts()"
      ]
    },
    {
      "cell_type": "code",
      "execution_count": 145,
      "metadata": {
        "id": "SkErS7VyCJMT"
      },
      "outputs": [],
      "source": [
        "df = df[df['status'] == 'Released']"
      ]
    },
    {
      "cell_type": "code",
      "execution_count": 146,
      "metadata": {
        "colab": {
          "base_uri": "https://localhost:8080/"
        },
        "id": "2uDcSQkjCJMT",
        "outputId": "e39bbc60-12ed-4f4b-ad1c-7aeac11c1f74"
      },
      "outputs": [
        {
          "data": {
            "text/plain": [
              "status\n",
              "Released    969922\n",
              "Name: count, dtype: int64"
            ]
          },
          "execution_count": 146,
          "metadata": {},
          "output_type": "execute_result"
        }
      ],
      "source": [
        "df['status'].value_counts()"
      ]
    },
    {
      "cell_type": "markdown",
      "metadata": {
        "id": "KCGGDDd_DVKP"
      },
      "source": [
        "* since we have now only one value in status \"Released\" we can safely remove the column"
      ]
    },
    {
      "cell_type": "code",
      "execution_count": 147,
      "metadata": {
        "id": "ceu1ym_YCJMT"
      },
      "outputs": [],
      "source": [
        "df = df.drop('status', axis=1)"
      ]
    },
    {
      "cell_type": "code",
      "execution_count": 148,
      "metadata": {
        "colab": {
          "base_uri": "https://localhost:8080/"
        },
        "id": "ry_3DGntCJMT",
        "outputId": "f27b580e-1c24-4c8c-c96d-3e688254e3a5"
      },
      "outputs": [
        {
          "data": {
            "text/plain": [
              "id                           0\n",
              "title                        0\n",
              "vote_average                 0\n",
              "vote_count                   0\n",
              "release_date                 0\n",
              "runtime                      0\n",
              "adult                        0\n",
              "imdb_id                 410582\n",
              "original_language            0\n",
              "overview                167139\n",
              "popularity                   0\n",
              "production_companies    467439\n",
              "production_countries    351622\n",
              "genres_list             318619\n",
              "release_year                 0\n",
              "dtype: int64"
            ]
          },
          "execution_count": 148,
          "metadata": {},
          "output_type": "execute_result"
        }
      ],
      "source": [
        "df.isna().sum()"
      ]
    },
    {
      "cell_type": "code",
      "execution_count": 149,
      "metadata": {
        "colab": {
          "base_uri": "https://localhost:8080/"
        },
        "id": "_Gy-x084CJMU",
        "outputId": "16ef6b9b-b192-4776-8b11-6c7ef00ce1f1"
      },
      "outputs": [
        {
          "data": {
            "application/vnd.microsoft.datawrangler.viewer.v0+json": {
              "columns": [
                {
                  "name": "index",
                  "rawType": "object",
                  "type": "string"
                },
                {
                  "name": "id",
                  "rawType": "float64",
                  "type": "float"
                },
                {
                  "name": "title",
                  "rawType": "object",
                  "type": "unknown"
                },
                {
                  "name": "vote_average",
                  "rawType": "float64",
                  "type": "float"
                },
                {
                  "name": "vote_count",
                  "rawType": "float64",
                  "type": "float"
                },
                {
                  "name": "release_date",
                  "rawType": "object",
                  "type": "unknown"
                },
                {
                  "name": "runtime",
                  "rawType": "float64",
                  "type": "float"
                },
                {
                  "name": "adult",
                  "rawType": "object",
                  "type": "unknown"
                },
                {
                  "name": "imdb_id",
                  "rawType": "object",
                  "type": "unknown"
                },
                {
                  "name": "original_language",
                  "rawType": "object",
                  "type": "unknown"
                },
                {
                  "name": "overview",
                  "rawType": "object",
                  "type": "unknown"
                },
                {
                  "name": "popularity",
                  "rawType": "float64",
                  "type": "float"
                },
                {
                  "name": "production_companies",
                  "rawType": "object",
                  "type": "unknown"
                },
                {
                  "name": "production_countries",
                  "rawType": "object",
                  "type": "unknown"
                },
                {
                  "name": "genres_list",
                  "rawType": "object",
                  "type": "unknown"
                },
                {
                  "name": "release_year",
                  "rawType": "float64",
                  "type": "float"
                }
              ],
              "conversionMethod": "pd.DataFrame",
              "ref": "e4edbb07-5cae-46e0-aa76-4ec419c1ef2f",
              "rows": [
                [
                  "count",
                  "969922.0",
                  "969922",
                  "969922.0",
                  "969922.0",
                  "969922",
                  "969922.0",
                  "969922",
                  "559340",
                  "969922",
                  "802783",
                  "969922.0",
                  "502483",
                  "618300",
                  "651303",
                  "969922.0"
                ],
                [
                  "unique",
                  null,
                  "837930",
                  null,
                  null,
                  null,
                  null,
                  "2",
                  "558844",
                  "172",
                  "783197",
                  null,
                  "197694",
                  "9796",
                  "12995",
                  null
                ],
                [
                  "top",
                  null,
                  "Home",
                  null,
                  null,
                  null,
                  null,
                  "False",
                  "tt32094375",
                  "en",
                  "Mexican feature film",
                  null,
                  "Evil Angel",
                  "United States of America",
                  "['Documentary']",
                  null
                ],
                [
                  "freq",
                  null,
                  "134",
                  null,
                  null,
                  null,
                  null,
                  "869032",
                  "29",
                  "509468",
                  "909",
                  null,
                  "2962",
                  "175091",
                  "128189",
                  null
                ],
                [
                  "mean",
                  "691816.927244665",
                  null,
                  "2.153903066432146",
                  "22.091147535575026",
                  "2000-06-12 05:06:45.748915456",
                  "53.0339831450364",
                  null,
                  null,
                  null,
                  null,
                  "1.3739199801633528",
                  null,
                  null,
                  null,
                  "2000.0075964871403"
                ],
                [
                  "min",
                  "2.0",
                  null,
                  "0.0",
                  "0.0",
                  "1900-01-01 00:00:00",
                  "0.0",
                  null,
                  null,
                  null,
                  null,
                  "0.0",
                  null,
                  null,
                  null,
                  "1900.0"
                ],
                [
                  "25%",
                  "370002.25",
                  null,
                  "0.0",
                  "0.0",
                  "1989-12-17 00:00:00",
                  "3.0",
                  null,
                  null,
                  null,
                  null,
                  "0.6",
                  null,
                  null,
                  null,
                  "1989.0"
                ],
                [
                  "50%",
                  "672451.5",
                  null,
                  "0.0",
                  "0.0",
                  "2011-01-01 00:00:00",
                  "42.0",
                  null,
                  null,
                  null,
                  null,
                  "0.6",
                  null,
                  null,
                  null,
                  "2011.0"
                ],
                [
                  "75%",
                  "1012244.5",
                  null,
                  "5.1",
                  "1.0",
                  "2019-01-31 00:00:00",
                  "90.0",
                  null,
                  null,
                  null,
                  null,
                  "0.988",
                  null,
                  null,
                  null,
                  "2019.0"
                ],
                [
                  "max",
                  "1452357.0",
                  null,
                  "10.0",
                  "34495.0",
                  "2025-12-31 00:00:00",
                  "14400.0",
                  null,
                  null,
                  null,
                  null,
                  "2994.357",
                  null,
                  null,
                  null,
                  "2025.0"
                ],
                [
                  "std",
                  "391772.00560519425",
                  null,
                  "3.1320555658988884",
                  "344.69552395465945",
                  null,
                  "62.925451362207845",
                  null,
                  null,
                  null,
                  null,
                  "8.198713130692967",
                  null,
                  null,
                  null,
                  "26.231048011567133"
                ]
              ],
              "shape": {
                "columns": 15,
                "rows": 11
              }
            },
            "text/html": [
              "<div>\n",
              "<style scoped>\n",
              "    .dataframe tbody tr th:only-of-type {\n",
              "        vertical-align: middle;\n",
              "    }\n",
              "\n",
              "    .dataframe tbody tr th {\n",
              "        vertical-align: top;\n",
              "    }\n",
              "\n",
              "    .dataframe thead th {\n",
              "        text-align: right;\n",
              "    }\n",
              "</style>\n",
              "<table border=\"1\" class=\"dataframe\">\n",
              "  <thead>\n",
              "    <tr style=\"text-align: right;\">\n",
              "      <th></th>\n",
              "      <th>id</th>\n",
              "      <th>title</th>\n",
              "      <th>vote_average</th>\n",
              "      <th>vote_count</th>\n",
              "      <th>release_date</th>\n",
              "      <th>runtime</th>\n",
              "      <th>adult</th>\n",
              "      <th>imdb_id</th>\n",
              "      <th>original_language</th>\n",
              "      <th>overview</th>\n",
              "      <th>popularity</th>\n",
              "      <th>production_companies</th>\n",
              "      <th>production_countries</th>\n",
              "      <th>genres_list</th>\n",
              "      <th>release_year</th>\n",
              "    </tr>\n",
              "  </thead>\n",
              "  <tbody>\n",
              "    <tr>\n",
              "      <th>count</th>\n",
              "      <td>9.699220e+05</td>\n",
              "      <td>969922</td>\n",
              "      <td>969922.000000</td>\n",
              "      <td>969922.000000</td>\n",
              "      <td>969922</td>\n",
              "      <td>969922.000000</td>\n",
              "      <td>969922</td>\n",
              "      <td>559340</td>\n",
              "      <td>969922</td>\n",
              "      <td>802783</td>\n",
              "      <td>969922.000000</td>\n",
              "      <td>502483</td>\n",
              "      <td>618300</td>\n",
              "      <td>651303</td>\n",
              "      <td>969922.000000</td>\n",
              "    </tr>\n",
              "    <tr>\n",
              "      <th>unique</th>\n",
              "      <td>NaN</td>\n",
              "      <td>837930</td>\n",
              "      <td>NaN</td>\n",
              "      <td>NaN</td>\n",
              "      <td>NaN</td>\n",
              "      <td>NaN</td>\n",
              "      <td>2</td>\n",
              "      <td>558844</td>\n",
              "      <td>172</td>\n",
              "      <td>783197</td>\n",
              "      <td>NaN</td>\n",
              "      <td>197694</td>\n",
              "      <td>9796</td>\n",
              "      <td>12995</td>\n",
              "      <td>NaN</td>\n",
              "    </tr>\n",
              "    <tr>\n",
              "      <th>top</th>\n",
              "      <td>NaN</td>\n",
              "      <td>Home</td>\n",
              "      <td>NaN</td>\n",
              "      <td>NaN</td>\n",
              "      <td>NaN</td>\n",
              "      <td>NaN</td>\n",
              "      <td>False</td>\n",
              "      <td>tt32094375</td>\n",
              "      <td>en</td>\n",
              "      <td>Mexican feature film</td>\n",
              "      <td>NaN</td>\n",
              "      <td>Evil Angel</td>\n",
              "      <td>United States of America</td>\n",
              "      <td>[Documentary]</td>\n",
              "      <td>NaN</td>\n",
              "    </tr>\n",
              "    <tr>\n",
              "      <th>freq</th>\n",
              "      <td>NaN</td>\n",
              "      <td>134</td>\n",
              "      <td>NaN</td>\n",
              "      <td>NaN</td>\n",
              "      <td>NaN</td>\n",
              "      <td>NaN</td>\n",
              "      <td>869032</td>\n",
              "      <td>29</td>\n",
              "      <td>509468</td>\n",
              "      <td>909</td>\n",
              "      <td>NaN</td>\n",
              "      <td>2962</td>\n",
              "      <td>175091</td>\n",
              "      <td>128189</td>\n",
              "      <td>NaN</td>\n",
              "    </tr>\n",
              "    <tr>\n",
              "      <th>mean</th>\n",
              "      <td>6.918169e+05</td>\n",
              "      <td>NaN</td>\n",
              "      <td>2.153903</td>\n",
              "      <td>22.091148</td>\n",
              "      <td>2000-06-12 05:06:45.748915456</td>\n",
              "      <td>53.033983</td>\n",
              "      <td>NaN</td>\n",
              "      <td>NaN</td>\n",
              "      <td>NaN</td>\n",
              "      <td>NaN</td>\n",
              "      <td>1.373920</td>\n",
              "      <td>NaN</td>\n",
              "      <td>NaN</td>\n",
              "      <td>NaN</td>\n",
              "      <td>2000.007596</td>\n",
              "    </tr>\n",
              "    <tr>\n",
              "      <th>min</th>\n",
              "      <td>2.000000e+00</td>\n",
              "      <td>NaN</td>\n",
              "      <td>0.000000</td>\n",
              "      <td>0.000000</td>\n",
              "      <td>1900-01-01 00:00:00</td>\n",
              "      <td>0.000000</td>\n",
              "      <td>NaN</td>\n",
              "      <td>NaN</td>\n",
              "      <td>NaN</td>\n",
              "      <td>NaN</td>\n",
              "      <td>0.000000</td>\n",
              "      <td>NaN</td>\n",
              "      <td>NaN</td>\n",
              "      <td>NaN</td>\n",
              "      <td>1900.000000</td>\n",
              "    </tr>\n",
              "    <tr>\n",
              "      <th>25%</th>\n",
              "      <td>3.700022e+05</td>\n",
              "      <td>NaN</td>\n",
              "      <td>0.000000</td>\n",
              "      <td>0.000000</td>\n",
              "      <td>1989-12-17 00:00:00</td>\n",
              "      <td>3.000000</td>\n",
              "      <td>NaN</td>\n",
              "      <td>NaN</td>\n",
              "      <td>NaN</td>\n",
              "      <td>NaN</td>\n",
              "      <td>0.600000</td>\n",
              "      <td>NaN</td>\n",
              "      <td>NaN</td>\n",
              "      <td>NaN</td>\n",
              "      <td>1989.000000</td>\n",
              "    </tr>\n",
              "    <tr>\n",
              "      <th>50%</th>\n",
              "      <td>6.724515e+05</td>\n",
              "      <td>NaN</td>\n",
              "      <td>0.000000</td>\n",
              "      <td>0.000000</td>\n",
              "      <td>2011-01-01 00:00:00</td>\n",
              "      <td>42.000000</td>\n",
              "      <td>NaN</td>\n",
              "      <td>NaN</td>\n",
              "      <td>NaN</td>\n",
              "      <td>NaN</td>\n",
              "      <td>0.600000</td>\n",
              "      <td>NaN</td>\n",
              "      <td>NaN</td>\n",
              "      <td>NaN</td>\n",
              "      <td>2011.000000</td>\n",
              "    </tr>\n",
              "    <tr>\n",
              "      <th>75%</th>\n",
              "      <td>1.012244e+06</td>\n",
              "      <td>NaN</td>\n",
              "      <td>5.100000</td>\n",
              "      <td>1.000000</td>\n",
              "      <td>2019-01-31 00:00:00</td>\n",
              "      <td>90.000000</td>\n",
              "      <td>NaN</td>\n",
              "      <td>NaN</td>\n",
              "      <td>NaN</td>\n",
              "      <td>NaN</td>\n",
              "      <td>0.988000</td>\n",
              "      <td>NaN</td>\n",
              "      <td>NaN</td>\n",
              "      <td>NaN</td>\n",
              "      <td>2019.000000</td>\n",
              "    </tr>\n",
              "    <tr>\n",
              "      <th>max</th>\n",
              "      <td>1.452357e+06</td>\n",
              "      <td>NaN</td>\n",
              "      <td>10.000000</td>\n",
              "      <td>34495.000000</td>\n",
              "      <td>2025-12-31 00:00:00</td>\n",
              "      <td>14400.000000</td>\n",
              "      <td>NaN</td>\n",
              "      <td>NaN</td>\n",
              "      <td>NaN</td>\n",
              "      <td>NaN</td>\n",
              "      <td>2994.357000</td>\n",
              "      <td>NaN</td>\n",
              "      <td>NaN</td>\n",
              "      <td>NaN</td>\n",
              "      <td>2025.000000</td>\n",
              "    </tr>\n",
              "    <tr>\n",
              "      <th>std</th>\n",
              "      <td>3.917720e+05</td>\n",
              "      <td>NaN</td>\n",
              "      <td>3.132056</td>\n",
              "      <td>344.695524</td>\n",
              "      <td>NaN</td>\n",
              "      <td>62.925451</td>\n",
              "      <td>NaN</td>\n",
              "      <td>NaN</td>\n",
              "      <td>NaN</td>\n",
              "      <td>NaN</td>\n",
              "      <td>8.198713</td>\n",
              "      <td>NaN</td>\n",
              "      <td>NaN</td>\n",
              "      <td>NaN</td>\n",
              "      <td>26.231048</td>\n",
              "    </tr>\n",
              "  </tbody>\n",
              "</table>\n",
              "</div>"
            ],
            "text/plain": [
              "                  id   title   vote_average     vote_count  \\\n",
              "count   9.699220e+05  969922  969922.000000  969922.000000   \n",
              "unique           NaN  837930            NaN            NaN   \n",
              "top              NaN    Home            NaN            NaN   \n",
              "freq             NaN     134            NaN            NaN   \n",
              "mean    6.918169e+05     NaN       2.153903      22.091148   \n",
              "min     2.000000e+00     NaN       0.000000       0.000000   \n",
              "25%     3.700022e+05     NaN       0.000000       0.000000   \n",
              "50%     6.724515e+05     NaN       0.000000       0.000000   \n",
              "75%     1.012244e+06     NaN       5.100000       1.000000   \n",
              "max     1.452357e+06     NaN      10.000000   34495.000000   \n",
              "std     3.917720e+05     NaN       3.132056     344.695524   \n",
              "\n",
              "                         release_date        runtime   adult     imdb_id  \\\n",
              "count                          969922  969922.000000  969922      559340   \n",
              "unique                            NaN            NaN       2      558844   \n",
              "top                               NaN            NaN   False  tt32094375   \n",
              "freq                              NaN            NaN  869032          29   \n",
              "mean    2000-06-12 05:06:45.748915456      53.033983     NaN         NaN   \n",
              "min               1900-01-01 00:00:00       0.000000     NaN         NaN   \n",
              "25%               1989-12-17 00:00:00       3.000000     NaN         NaN   \n",
              "50%               2011-01-01 00:00:00      42.000000     NaN         NaN   \n",
              "75%               2019-01-31 00:00:00      90.000000     NaN         NaN   \n",
              "max               2025-12-31 00:00:00   14400.000000     NaN         NaN   \n",
              "std                               NaN      62.925451     NaN         NaN   \n",
              "\n",
              "       original_language              overview     popularity  \\\n",
              "count             969922                802783  969922.000000   \n",
              "unique               172                783197            NaN   \n",
              "top                   en  Mexican feature film            NaN   \n",
              "freq              509468                   909            NaN   \n",
              "mean                 NaN                   NaN       1.373920   \n",
              "min                  NaN                   NaN       0.000000   \n",
              "25%                  NaN                   NaN       0.600000   \n",
              "50%                  NaN                   NaN       0.600000   \n",
              "75%                  NaN                   NaN       0.988000   \n",
              "max                  NaN                   NaN    2994.357000   \n",
              "std                  NaN                   NaN       8.198713   \n",
              "\n",
              "       production_companies      production_countries    genres_list  \\\n",
              "count                502483                    618300         651303   \n",
              "unique               197694                      9796          12995   \n",
              "top              Evil Angel  United States of America  [Documentary]   \n",
              "freq                   2962                    175091         128189   \n",
              "mean                    NaN                       NaN            NaN   \n",
              "min                     NaN                       NaN            NaN   \n",
              "25%                     NaN                       NaN            NaN   \n",
              "50%                     NaN                       NaN            NaN   \n",
              "75%                     NaN                       NaN            NaN   \n",
              "max                     NaN                       NaN            NaN   \n",
              "std                     NaN                       NaN            NaN   \n",
              "\n",
              "         release_year  \n",
              "count   969922.000000  \n",
              "unique            NaN  \n",
              "top               NaN  \n",
              "freq              NaN  \n",
              "mean      2000.007596  \n",
              "min       1900.000000  \n",
              "25%       1989.000000  \n",
              "50%       2011.000000  \n",
              "75%       2019.000000  \n",
              "max       2025.000000  \n",
              "std         26.231048  "
            ]
          },
          "execution_count": 149,
          "metadata": {},
          "output_type": "execute_result"
        }
      ],
      "source": [
        "df.describe(include='all')"
      ]
    },
    {
      "cell_type": "markdown",
      "metadata": {
        "id": "Bll9X7f1D1Yj"
      },
      "source": [
        "* we notice popularity and vote_count have in there 75% represantation very few values which wouldnt benfit our modeling and doesnt give us much of info, so we will remove those columns"
      ]
    },
    {
      "cell_type": "code",
      "execution_count": 150,
      "metadata": {
        "id": "TrDTdIxHEUlF"
      },
      "outputs": [],
      "source": [
        "df = df.drop(['popularity', 'vote_count'], axis=1)"
      ]
    },
    {
      "cell_type": "markdown",
      "metadata": {
        "id": "N-tcfqctEYJN"
      },
      "source": [
        "* we notice that runtime have minumum of 0 minute movies and max of 14400 min movies which around 6 hours movie!, so we will filter movies from 10 min for 250 min"
      ]
    },
    {
      "cell_type": "code",
      "execution_count": 151,
      "metadata": {
        "id": "o9L37W0hCJMU"
      },
      "outputs": [],
      "source": [
        "df = df[df['runtime'] >= 10]"
      ]
    },
    {
      "cell_type": "code",
      "execution_count": 152,
      "metadata": {
        "id": "kPc_KAqTCJMU"
      },
      "outputs": [],
      "source": [
        "df = df[df['runtime'] <=250]"
      ]
    },
    {
      "cell_type": "code",
      "execution_count": 153,
      "metadata": {
        "colab": {
          "base_uri": "https://localhost:8080/"
        },
        "id": "nLYlpdHECJMb",
        "outputId": "36f497b9-58e1-44a5-f581-4f1bb38ad279"
      },
      "outputs": [
        {
          "name": "stdout",
          "output_type": "stream",
          "text": [
            "<class 'pandas.core.frame.DataFrame'>\n",
            "Index: 640206 entries, 0 to 1195820\n",
            "Data columns (total 13 columns):\n",
            " #   Column                Non-Null Count   Dtype         \n",
            "---  ------                --------------   -----         \n",
            " 0   id                    640206 non-null  int64         \n",
            " 1   title                 640206 non-null  object        \n",
            " 2   vote_average          640206 non-null  float64       \n",
            " 3   release_date          640206 non-null  datetime64[ns]\n",
            " 4   runtime               640206 non-null  int64         \n",
            " 5   adult                 640206 non-null  bool          \n",
            " 6   imdb_id               424397 non-null  object        \n",
            " 7   original_language     640206 non-null  object        \n",
            " 8   overview              612757 non-null  object        \n",
            " 9   production_companies  376554 non-null  object        \n",
            " 10  production_countries  446860 non-null  object        \n",
            " 11  genres_list           457940 non-null  object        \n",
            " 12  release_year          640206 non-null  float64       \n",
            "dtypes: bool(1), datetime64[ns](1), float64(2), int64(2), object(7)\n",
            "memory usage: 64.1+ MB\n"
          ]
        }
      ],
      "source": [
        "df.info()"
      ]
    },
    {
      "cell_type": "code",
      "execution_count": 154,
      "metadata": {
        "colab": {
          "base_uri": "https://localhost:8080/"
        },
        "id": "rreD5TxACJMb",
        "outputId": "3484a937-00d3-4d73-c431-06609f2eee59"
      },
      "outputs": [
        {
          "name": "stdout",
          "output_type": "stream",
          "text": [
            "count    640206.000000\n",
            "mean          2.586389\n",
            "std           3.219796\n",
            "min           0.000000\n",
            "25%           0.000000\n",
            "50%           0.000000\n",
            "75%           5.800000\n",
            "max          10.000000\n",
            "Name: vote_average, dtype: float64\n"
          ]
        }
      ],
      "source": [
        "print(df['vote_average'].describe())"
      ]
    },
    {
      "cell_type": "code",
      "execution_count": 155,
      "metadata": {
        "colab": {
          "base_uri": "https://localhost:8080/"
        },
        "id": "nb8Xh5CeCJMb",
        "outputId": "3319961f-8458-4094-8465-8732b3dc6041"
      },
      "outputs": [
        {
          "data": {
            "text/plain": [
              "original_language\n",
              "en    363334\n",
              "ja     38316\n",
              "fr     30584\n",
              "es     28788\n",
              "de     21634\n",
              "ru     14062\n",
              "zh     12757\n",
              "it     12531\n",
              "pt     11969\n",
              "ko      8513\n",
              "sv      5785\n",
              "hi      5750\n",
              "ar      4893\n",
              "tl      4138\n",
              "nl      4093\n",
              "cs      4076\n",
              "cn      4003\n",
              "pl      3577\n",
              "ta      3378\n",
              "id      3235\n",
              "tr      3065\n",
              "fa      3015\n",
              "ml      2955\n",
              "el      2605\n",
              "da      2410\n",
              "fi      2377\n",
              "bn      2344\n",
              "te      2150\n",
              "th      2147\n",
              "no      2114\n",
              "hu      2067\n",
              "xx      1716\n",
              "he      1580\n",
              "uk      1549\n",
              "ro      1371\n",
              "sh      1358\n",
              "lv      1141\n",
              "sr      1139\n",
              "is      1055\n",
              "kn       991\n",
              "ms       940\n",
              "et       912\n",
              "sl       830\n",
              "mr       819\n",
              "bg       736\n",
              "hr       735\n",
              "lt       651\n",
              "ka       601\n",
              "vi       578\n",
              "kk       525\n",
              "pa       493\n",
              "sk       490\n",
              "sq       461\n",
              "az       460\n",
              "ca       442\n",
              "mk       436\n",
              "mn       371\n",
              "ur       319\n",
              "hy       315\n",
              "af       301\n",
              "bs       295\n",
              "ku       288\n",
              "ne       253\n",
              "eu       223\n",
              "km       183\n",
              "gu       180\n",
              "si       179\n",
              "am       143\n",
              "or       136\n",
              "my       130\n",
              "as       117\n",
              "jv       116\n",
              "gl       115\n",
              "ky       100\n",
              "uz        93\n",
              "sw        84\n",
              "ga        81\n",
              "be        78\n",
              "nb        77\n",
              "zu        75\n",
              "bo        69\n",
              "cy        66\n",
              "yi        53\n",
              "wo        52\n",
              "tk        47\n",
              "mg        45\n",
              "ht        44\n",
              "lb        36\n",
              "tg        35\n",
              "se        35\n",
              "lo        34\n",
              "bm        31\n",
              "ab        31\n",
              "ps        30\n",
              "mo        29\n",
              "dv        29\n",
              "la        28\n",
              "qu        28\n",
              "mt        28\n",
              "iu        27\n",
              "mi        24\n",
              "ha        23\n",
              "yo        23\n",
              "gd        23\n",
              "fo        22\n",
              "dz        22\n",
              "kl        18\n",
              "so        18\n",
              "gn        18\n",
              "rw        17\n",
              "st        15\n",
              "xh        13\n",
              "ln        11\n",
              "ks        11\n",
              "ug        11\n",
              "sa        10\n",
              "ff        10\n",
              "ak        10\n",
              "sn         9\n",
              "fy         9\n",
              "sm         9\n",
              "ay         9\n",
              "ti         9\n",
              "tt         9\n",
              "eo         9\n",
              "nn         9\n",
              "kw         8\n",
              "sg         7\n",
              "ce         7\n",
              "cr         7\n",
              "ig         7\n",
              "mh         6\n",
              "to         6\n",
              "rm         6\n",
              "bi         6\n",
              "lg         5\n",
              "su         5\n",
              "sc         4\n",
              "oc         4\n",
              "ty         4\n",
              "ny         4\n",
              "ba         4\n",
              "tn         4\n",
              "tw         3\n",
              "co         3\n",
              "sd         2\n",
              "fj         2\n",
              "nd         2\n",
              "ki         2\n",
              "ss         2\n",
              "om         2\n",
              "ch         2\n",
              "li         2\n",
              "ie         2\n",
              "kg         1\n",
              "rn         1\n",
              "ts         1\n",
              "nv         1\n",
              "cv         1\n",
              "br         1\n",
              "aa         1\n",
              "kj         1\n",
              "kv         1\n",
              "ia         1\n",
              "hz         1\n",
              "ik         1\n",
              "os         1\n",
              "ii         1\n",
              "Name: count, dtype: int64"
            ]
          },
          "execution_count": 155,
          "metadata": {},
          "output_type": "execute_result"
        }
      ],
      "source": [
        "df['original_language'].value_counts()"
      ]
    },
    {
      "cell_type": "code",
      "execution_count": 156,
      "metadata": {
        "id": "9bfrzj7-CJMb"
      },
      "outputs": [],
      "source": [
        "def language(row):\n",
        "    if row['original_language']=='en':\n",
        "        return 'English'\n",
        "    elif row['original_language']=='fr':\n",
        "        return 'French'\n",
        "    elif row['original_language']=='ar':\n",
        "        return 'Arabic'\n",
        "    elif row['original_language']=='es':\n",
        "        return 'Spanish'\n",
        "    elif row['original_language']=='zh':\n",
        "        return 'Chinese'\n",
        "    elif row['original_language']=='de':\n",
        "        return 'German'\n",
        "    elif row['original_language']=='hi':\n",
        "        return 'Hindi'\n",
        "    elif row['original_language']=='ja':\n",
        "        return 'Japanese'\n",
        "    elif row['original_language']=='it':\n",
        "        return 'Italian'\n",
        "    elif row['original_language']=='cn':\n",
        "        return 'Cantonese'\n",
        "    elif row['original_language']=='ko':\n",
        "        return 'Korean'\n",
        "    else:\n",
        "        return 'Other'"
      ]
    },
    {
      "cell_type": "code",
      "execution_count": 157,
      "metadata": {
        "id": "E8E6q8hwCJMb"
      },
      "outputs": [],
      "source": [
        "df['original_language'] = df.apply(language, axis=1)"
      ]
    },
    {
      "cell_type": "code",
      "execution_count": 158,
      "metadata": {
        "colab": {
          "base_uri": "https://localhost:8080/"
        },
        "id": "XUn_D0JxCJMb",
        "outputId": "93dddcf9-3e42-4342-ed1c-25e528acd91a"
      },
      "outputs": [
        {
          "data": {
            "text/plain": [
              "original_language\n",
              "English      363334\n",
              "Other        109103\n",
              "Japanese      38316\n",
              "French        30584\n",
              "Spanish       28788\n",
              "German        21634\n",
              "Chinese       12757\n",
              "Italian       12531\n",
              "Korean         8513\n",
              "Hindi          5750\n",
              "Arabic         4893\n",
              "Cantonese      4003\n",
              "Name: count, dtype: int64"
            ]
          },
          "execution_count": 158,
          "metadata": {},
          "output_type": "execute_result"
        }
      ],
      "source": [
        "df['original_language'].value_counts()"
      ]
    },
    {
      "cell_type": "code",
      "execution_count": 159,
      "metadata": {
        "colab": {
          "base_uri": "https://localhost:8080/"
        },
        "id": "gvpPRlR6CJMb",
        "outputId": "47aad648-b93e-40c1-cea5-554abd7308ac"
      },
      "outputs": [
        {
          "data": {
            "application/vnd.microsoft.datawrangler.viewer.v0+json": {
              "columns": [
                {
                  "name": "index",
                  "rawType": "int64",
                  "type": "integer"
                },
                {
                  "name": "id",
                  "rawType": "int64",
                  "type": "integer"
                },
                {
                  "name": "title",
                  "rawType": "object",
                  "type": "string"
                },
                {
                  "name": "vote_average",
                  "rawType": "float64",
                  "type": "float"
                },
                {
                  "name": "release_date",
                  "rawType": "datetime64[ns]",
                  "type": "datetime"
                },
                {
                  "name": "runtime",
                  "rawType": "int64",
                  "type": "integer"
                },
                {
                  "name": "adult",
                  "rawType": "bool",
                  "type": "boolean"
                },
                {
                  "name": "imdb_id",
                  "rawType": "object",
                  "type": "string"
                },
                {
                  "name": "original_language",
                  "rawType": "object",
                  "type": "string"
                },
                {
                  "name": "overview",
                  "rawType": "object",
                  "type": "string"
                },
                {
                  "name": "production_companies",
                  "rawType": "object",
                  "type": "string"
                },
                {
                  "name": "production_countries",
                  "rawType": "object",
                  "type": "string"
                },
                {
                  "name": "genres_list",
                  "rawType": "object",
                  "type": "unknown"
                },
                {
                  "name": "release_year",
                  "rawType": "float64",
                  "type": "float"
                }
              ],
              "conversionMethod": "pd.DataFrame",
              "ref": "a79bc7b3-55cb-4e2c-9462-5556a41c442b",
              "rows": [
                [
                  "0",
                  "27205",
                  "Inception",
                  "8.364",
                  "2010-07-15 00:00:00",
                  "148",
                  "False",
                  "tt1375666",
                  "English",
                  "Cobb, a skilled thief who commits corporate espionage by infiltrating the subconscious of his targets is offered a chance to regain his old life as payment for a task considered to be impossible: \"inception\", the implantation of another person's idea into a target's subconscious.",
                  "Legendary Pictures, Syncopy, Warner Bros. Pictures",
                  "United Kingdom, United States of America",
                  "['Action', 'Science Fiction', 'Adventure']",
                  "2010.0"
                ],
                [
                  "1",
                  "157336",
                  "Interstellar",
                  "8.417",
                  "2014-11-05 00:00:00",
                  "169",
                  "False",
                  "tt0816692",
                  "English",
                  "The adventures of a group of explorers who make use of a newly discovered wormhole to surpass the limitations on human space travel and conquer the vast distances involved in an interstellar voyage.",
                  "Legendary Pictures, Syncopy, Lynda Obst Productions",
                  "United Kingdom, United States of America",
                  "['Adventure', 'Drama', 'Science Fiction']",
                  "2014.0"
                ],
                [
                  "2",
                  "155",
                  "The Dark Knight",
                  "8.512",
                  "2008-07-16 00:00:00",
                  "152",
                  "False",
                  "tt0468569",
                  "English",
                  "Batman raises the stakes in his war on crime. With the help of Lt. Jim Gordon and District Attorney Harvey Dent, Batman sets out to dismantle the remaining criminal organizations that plague the streets. The partnership proves to be effective, but they soon find themselves prey to a reign of chaos unleashed by a rising criminal mastermind known to the terrified citizens of Gotham as the Joker.",
                  "DC Comics, Legendary Pictures, Syncopy, Isobel Griffiths, Warner Bros. Pictures",
                  "United Kingdom, United States of America",
                  "['Drama', 'Action', 'Crime', 'Thriller']",
                  "2008.0"
                ],
                [
                  "3",
                  "19995",
                  "Avatar",
                  "7.573",
                  "2009-12-15 00:00:00",
                  "162",
                  "False",
                  "tt0499549",
                  "English",
                  "In the 22nd century, a paraplegic Marine is dispatched to the moon Pandora on a unique mission, but becomes torn between following orders and protecting an alien civilization.",
                  "Dune Entertainment, Lightstorm Entertainment, 20th Century Fox, Ingenious Media",
                  "United States of America, United Kingdom",
                  "['Action', 'Adventure', 'Fantasy', 'Science Fiction']",
                  "2009.0"
                ],
                [
                  "4",
                  "24428",
                  "The Avengers",
                  "7.71",
                  "2012-04-25 00:00:00",
                  "143",
                  "False",
                  "tt0848228",
                  "English",
                  "When an unexpected enemy emerges and threatens global safety and security, Nick Fury, director of the international peacekeeping agency known as S.H.I.E.L.D., finds himself in need of a team to pull the world back from the brink of disaster. Spanning the globe, a daring recruitment effort begins!",
                  "Marvel Studios",
                  "United States of America",
                  "['Science Fiction', 'Action', 'Adventure']",
                  "2012.0"
                ]
              ],
              "shape": {
                "columns": 13,
                "rows": 5
              }
            },
            "text/html": [
              "<div>\n",
              "<style scoped>\n",
              "    .dataframe tbody tr th:only-of-type {\n",
              "        vertical-align: middle;\n",
              "    }\n",
              "\n",
              "    .dataframe tbody tr th {\n",
              "        vertical-align: top;\n",
              "    }\n",
              "\n",
              "    .dataframe thead th {\n",
              "        text-align: right;\n",
              "    }\n",
              "</style>\n",
              "<table border=\"1\" class=\"dataframe\">\n",
              "  <thead>\n",
              "    <tr style=\"text-align: right;\">\n",
              "      <th></th>\n",
              "      <th>id</th>\n",
              "      <th>title</th>\n",
              "      <th>vote_average</th>\n",
              "      <th>release_date</th>\n",
              "      <th>runtime</th>\n",
              "      <th>adult</th>\n",
              "      <th>imdb_id</th>\n",
              "      <th>original_language</th>\n",
              "      <th>overview</th>\n",
              "      <th>production_companies</th>\n",
              "      <th>production_countries</th>\n",
              "      <th>genres_list</th>\n",
              "      <th>release_year</th>\n",
              "    </tr>\n",
              "  </thead>\n",
              "  <tbody>\n",
              "    <tr>\n",
              "      <th>0</th>\n",
              "      <td>27205</td>\n",
              "      <td>Inception</td>\n",
              "      <td>8.364</td>\n",
              "      <td>2010-07-15</td>\n",
              "      <td>148</td>\n",
              "      <td>False</td>\n",
              "      <td>tt1375666</td>\n",
              "      <td>English</td>\n",
              "      <td>Cobb, a skilled thief who commits corporate es...</td>\n",
              "      <td>Legendary Pictures, Syncopy, Warner Bros. Pict...</td>\n",
              "      <td>United Kingdom, United States of America</td>\n",
              "      <td>[Action, Science Fiction, Adventure]</td>\n",
              "      <td>2010.0</td>\n",
              "    </tr>\n",
              "    <tr>\n",
              "      <th>1</th>\n",
              "      <td>157336</td>\n",
              "      <td>Interstellar</td>\n",
              "      <td>8.417</td>\n",
              "      <td>2014-11-05</td>\n",
              "      <td>169</td>\n",
              "      <td>False</td>\n",
              "      <td>tt0816692</td>\n",
              "      <td>English</td>\n",
              "      <td>The adventures of a group of explorers who mak...</td>\n",
              "      <td>Legendary Pictures, Syncopy, Lynda Obst Produc...</td>\n",
              "      <td>United Kingdom, United States of America</td>\n",
              "      <td>[Adventure, Drama, Science Fiction]</td>\n",
              "      <td>2014.0</td>\n",
              "    </tr>\n",
              "    <tr>\n",
              "      <th>2</th>\n",
              "      <td>155</td>\n",
              "      <td>The Dark Knight</td>\n",
              "      <td>8.512</td>\n",
              "      <td>2008-07-16</td>\n",
              "      <td>152</td>\n",
              "      <td>False</td>\n",
              "      <td>tt0468569</td>\n",
              "      <td>English</td>\n",
              "      <td>Batman raises the stakes in his war on crime. ...</td>\n",
              "      <td>DC Comics, Legendary Pictures, Syncopy, Isobel...</td>\n",
              "      <td>United Kingdom, United States of America</td>\n",
              "      <td>[Drama, Action, Crime, Thriller]</td>\n",
              "      <td>2008.0</td>\n",
              "    </tr>\n",
              "    <tr>\n",
              "      <th>3</th>\n",
              "      <td>19995</td>\n",
              "      <td>Avatar</td>\n",
              "      <td>7.573</td>\n",
              "      <td>2009-12-15</td>\n",
              "      <td>162</td>\n",
              "      <td>False</td>\n",
              "      <td>tt0499549</td>\n",
              "      <td>English</td>\n",
              "      <td>In the 22nd century, a paraplegic Marine is di...</td>\n",
              "      <td>Dune Entertainment, Lightstorm Entertainment, ...</td>\n",
              "      <td>United States of America, United Kingdom</td>\n",
              "      <td>[Action, Adventure, Fantasy, Science Fiction]</td>\n",
              "      <td>2009.0</td>\n",
              "    </tr>\n",
              "    <tr>\n",
              "      <th>4</th>\n",
              "      <td>24428</td>\n",
              "      <td>The Avengers</td>\n",
              "      <td>7.710</td>\n",
              "      <td>2012-04-25</td>\n",
              "      <td>143</td>\n",
              "      <td>False</td>\n",
              "      <td>tt0848228</td>\n",
              "      <td>English</td>\n",
              "      <td>When an unexpected enemy emerges and threatens...</td>\n",
              "      <td>Marvel Studios</td>\n",
              "      <td>United States of America</td>\n",
              "      <td>[Science Fiction, Action, Adventure]</td>\n",
              "      <td>2012.0</td>\n",
              "    </tr>\n",
              "  </tbody>\n",
              "</table>\n",
              "</div>"
            ],
            "text/plain": [
              "       id            title  vote_average release_date  runtime  adult  \\\n",
              "0   27205        Inception         8.364   2010-07-15      148  False   \n",
              "1  157336     Interstellar         8.417   2014-11-05      169  False   \n",
              "2     155  The Dark Knight         8.512   2008-07-16      152  False   \n",
              "3   19995           Avatar         7.573   2009-12-15      162  False   \n",
              "4   24428     The Avengers         7.710   2012-04-25      143  False   \n",
              "\n",
              "     imdb_id original_language  \\\n",
              "0  tt1375666           English   \n",
              "1  tt0816692           English   \n",
              "2  tt0468569           English   \n",
              "3  tt0499549           English   \n",
              "4  tt0848228           English   \n",
              "\n",
              "                                            overview  \\\n",
              "0  Cobb, a skilled thief who commits corporate es...   \n",
              "1  The adventures of a group of explorers who mak...   \n",
              "2  Batman raises the stakes in his war on crime. ...   \n",
              "3  In the 22nd century, a paraplegic Marine is di...   \n",
              "4  When an unexpected enemy emerges and threatens...   \n",
              "\n",
              "                                production_companies  \\\n",
              "0  Legendary Pictures, Syncopy, Warner Bros. Pict...   \n",
              "1  Legendary Pictures, Syncopy, Lynda Obst Produc...   \n",
              "2  DC Comics, Legendary Pictures, Syncopy, Isobel...   \n",
              "3  Dune Entertainment, Lightstorm Entertainment, ...   \n",
              "4                                     Marvel Studios   \n",
              "\n",
              "                       production_countries  \\\n",
              "0  United Kingdom, United States of America   \n",
              "1  United Kingdom, United States of America   \n",
              "2  United Kingdom, United States of America   \n",
              "3  United States of America, United Kingdom   \n",
              "4                  United States of America   \n",
              "\n",
              "                                     genres_list  release_year  \n",
              "0           [Action, Science Fiction, Adventure]        2010.0  \n",
              "1            [Adventure, Drama, Science Fiction]        2014.0  \n",
              "2               [Drama, Action, Crime, Thriller]        2008.0  \n",
              "3  [Action, Adventure, Fantasy, Science Fiction]        2009.0  \n",
              "4           [Science Fiction, Action, Adventure]        2012.0  "
            ]
          },
          "execution_count": 159,
          "metadata": {},
          "output_type": "execute_result"
        }
      ],
      "source": [
        "df.head()"
      ]
    },
    {
      "cell_type": "code",
      "execution_count": 160,
      "metadata": {},
      "outputs": [
        {
          "data": {
            "text/plain": [
              "id                           0\n",
              "title                        0\n",
              "vote_average                 0\n",
              "release_date                 0\n",
              "runtime                      0\n",
              "adult                        0\n",
              "imdb_id                 215809\n",
              "original_language            0\n",
              "overview                 27449\n",
              "production_companies    263652\n",
              "production_countries    193346\n",
              "genres_list             182266\n",
              "release_year                 0\n",
              "dtype: int64"
            ]
          },
          "execution_count": 160,
          "metadata": {},
          "output_type": "execute_result"
        }
      ],
      "source": [
        "df.isna().sum()"
      ]
    },
    {
      "cell_type": "markdown",
      "metadata": {
        "id": "6WVJQxaeGSzv"
      },
      "source": [
        "# Encoding"
      ]
    },
    {
      "cell_type": "code",
      "execution_count": 161,
      "metadata": {
        "colab": {
          "base_uri": "https://localhost:8080/"
        },
        "id": "gRUE--BvCJMc",
        "outputId": "62539f4b-da27-47f7-a145-8d3ebfb763ec"
      },
      "outputs": [
        {
          "data": {
            "text/plain": [
              "array([list(['Action', 'Science Fiction', 'Adventure']),\n",
              "       list(['Adventure', 'Drama', 'Science Fiction']),\n",
              "       list(['Drama', 'Action', 'Crime', 'Thriller']), ..., nan, nan, nan],\n",
              "      dtype=object)"
            ]
          },
          "execution_count": 161,
          "metadata": {},
          "output_type": "execute_result"
        }
      ],
      "source": [
        "df['genres_list'].values"
      ]
    },
    {
      "cell_type": "code",
      "execution_count": 162,
      "metadata": {
        "id": "78jv5VNLCJMc"
      },
      "outputs": [],
      "source": [
        "# Convert NaN values to a list containing 'unknown' rather than a string\n",
        "genres = df['genres_list'].copy()\n",
        "genres = genres.apply(lambda x: ['unknown'] if x is np.nan or not isinstance(x, list) else x)\n",
        "\n",
        "# Now encode with MultiLabelBinarizer\n",
        "mlb = MultiLabelBinarizer()\n",
        "genres_encoded = mlb.fit_transform(genres)\n",
        "genres_encoded_df = pd.DataFrame(genres_encoded, columns=mlb.classes_, index=df.index)"
      ]
    },
    {
      "cell_type": "code",
      "execution_count": 163,
      "metadata": {
        "colab": {
          "base_uri": "https://localhost:8080/"
        },
        "id": "GBKWKf1BCJMc",
        "outputId": "0487e46e-0eb2-4ab4-ecc1-5fd48e3314e0"
      },
      "outputs": [
        {
          "data": {
            "application/vnd.microsoft.datawrangler.viewer.v0+json": {
              "columns": [
                {
                  "name": "index",
                  "rawType": "int64",
                  "type": "integer"
                },
                {
                  "name": "Action",
                  "rawType": "int32",
                  "type": "integer"
                },
                {
                  "name": "Adventure",
                  "rawType": "int32",
                  "type": "integer"
                },
                {
                  "name": "Animation",
                  "rawType": "int32",
                  "type": "integer"
                },
                {
                  "name": "Comedy",
                  "rawType": "int32",
                  "type": "integer"
                },
                {
                  "name": "Crime",
                  "rawType": "int32",
                  "type": "integer"
                },
                {
                  "name": "Documentary",
                  "rawType": "int32",
                  "type": "integer"
                },
                {
                  "name": "Drama",
                  "rawType": "int32",
                  "type": "integer"
                },
                {
                  "name": "Family",
                  "rawType": "int32",
                  "type": "integer"
                },
                {
                  "name": "Fantasy",
                  "rawType": "int32",
                  "type": "integer"
                },
                {
                  "name": "History",
                  "rawType": "int32",
                  "type": "integer"
                },
                {
                  "name": "Horror",
                  "rawType": "int32",
                  "type": "integer"
                },
                {
                  "name": "Music",
                  "rawType": "int32",
                  "type": "integer"
                },
                {
                  "name": "Mystery",
                  "rawType": "int32",
                  "type": "integer"
                },
                {
                  "name": "Romance",
                  "rawType": "int32",
                  "type": "integer"
                },
                {
                  "name": "Science Fiction",
                  "rawType": "int32",
                  "type": "integer"
                },
                {
                  "name": "TV Movie",
                  "rawType": "int32",
                  "type": "integer"
                },
                {
                  "name": "Thriller",
                  "rawType": "int32",
                  "type": "integer"
                },
                {
                  "name": "War",
                  "rawType": "int32",
                  "type": "integer"
                },
                {
                  "name": "Western",
                  "rawType": "int32",
                  "type": "integer"
                },
                {
                  "name": "unknown",
                  "rawType": "int32",
                  "type": "integer"
                }
              ],
              "conversionMethod": "pd.DataFrame",
              "ref": "5ee2a8fd-1378-410c-8c1d-78b0357e70ad",
              "rows": [
                [
                  "0",
                  "1",
                  "1",
                  "0",
                  "0",
                  "0",
                  "0",
                  "0",
                  "0",
                  "0",
                  "0",
                  "0",
                  "0",
                  "0",
                  "0",
                  "1",
                  "0",
                  "0",
                  "0",
                  "0",
                  "0"
                ],
                [
                  "1",
                  "0",
                  "1",
                  "0",
                  "0",
                  "0",
                  "0",
                  "1",
                  "0",
                  "0",
                  "0",
                  "0",
                  "0",
                  "0",
                  "0",
                  "1",
                  "0",
                  "0",
                  "0",
                  "0",
                  "0"
                ],
                [
                  "2",
                  "1",
                  "0",
                  "0",
                  "0",
                  "1",
                  "0",
                  "1",
                  "0",
                  "0",
                  "0",
                  "0",
                  "0",
                  "0",
                  "0",
                  "0",
                  "0",
                  "1",
                  "0",
                  "0",
                  "0"
                ],
                [
                  "3",
                  "1",
                  "1",
                  "0",
                  "0",
                  "0",
                  "0",
                  "0",
                  "0",
                  "1",
                  "0",
                  "0",
                  "0",
                  "0",
                  "0",
                  "1",
                  "0",
                  "0",
                  "0",
                  "0",
                  "0"
                ],
                [
                  "4",
                  "1",
                  "1",
                  "0",
                  "0",
                  "0",
                  "0",
                  "0",
                  "0",
                  "0",
                  "0",
                  "0",
                  "0",
                  "0",
                  "0",
                  "1",
                  "0",
                  "0",
                  "0",
                  "0",
                  "0"
                ]
              ],
              "shape": {
                "columns": 20,
                "rows": 5
              }
            },
            "text/html": [
              "<div>\n",
              "<style scoped>\n",
              "    .dataframe tbody tr th:only-of-type {\n",
              "        vertical-align: middle;\n",
              "    }\n",
              "\n",
              "    .dataframe tbody tr th {\n",
              "        vertical-align: top;\n",
              "    }\n",
              "\n",
              "    .dataframe thead th {\n",
              "        text-align: right;\n",
              "    }\n",
              "</style>\n",
              "<table border=\"1\" class=\"dataframe\">\n",
              "  <thead>\n",
              "    <tr style=\"text-align: right;\">\n",
              "      <th></th>\n",
              "      <th>Action</th>\n",
              "      <th>Adventure</th>\n",
              "      <th>Animation</th>\n",
              "      <th>Comedy</th>\n",
              "      <th>Crime</th>\n",
              "      <th>Documentary</th>\n",
              "      <th>Drama</th>\n",
              "      <th>Family</th>\n",
              "      <th>Fantasy</th>\n",
              "      <th>History</th>\n",
              "      <th>Horror</th>\n",
              "      <th>Music</th>\n",
              "      <th>Mystery</th>\n",
              "      <th>Romance</th>\n",
              "      <th>Science Fiction</th>\n",
              "      <th>TV Movie</th>\n",
              "      <th>Thriller</th>\n",
              "      <th>War</th>\n",
              "      <th>Western</th>\n",
              "      <th>unknown</th>\n",
              "    </tr>\n",
              "  </thead>\n",
              "  <tbody>\n",
              "    <tr>\n",
              "      <th>0</th>\n",
              "      <td>1</td>\n",
              "      <td>1</td>\n",
              "      <td>0</td>\n",
              "      <td>0</td>\n",
              "      <td>0</td>\n",
              "      <td>0</td>\n",
              "      <td>0</td>\n",
              "      <td>0</td>\n",
              "      <td>0</td>\n",
              "      <td>0</td>\n",
              "      <td>0</td>\n",
              "      <td>0</td>\n",
              "      <td>0</td>\n",
              "      <td>0</td>\n",
              "      <td>1</td>\n",
              "      <td>0</td>\n",
              "      <td>0</td>\n",
              "      <td>0</td>\n",
              "      <td>0</td>\n",
              "      <td>0</td>\n",
              "    </tr>\n",
              "    <tr>\n",
              "      <th>1</th>\n",
              "      <td>0</td>\n",
              "      <td>1</td>\n",
              "      <td>0</td>\n",
              "      <td>0</td>\n",
              "      <td>0</td>\n",
              "      <td>0</td>\n",
              "      <td>1</td>\n",
              "      <td>0</td>\n",
              "      <td>0</td>\n",
              "      <td>0</td>\n",
              "      <td>0</td>\n",
              "      <td>0</td>\n",
              "      <td>0</td>\n",
              "      <td>0</td>\n",
              "      <td>1</td>\n",
              "      <td>0</td>\n",
              "      <td>0</td>\n",
              "      <td>0</td>\n",
              "      <td>0</td>\n",
              "      <td>0</td>\n",
              "    </tr>\n",
              "    <tr>\n",
              "      <th>2</th>\n",
              "      <td>1</td>\n",
              "      <td>0</td>\n",
              "      <td>0</td>\n",
              "      <td>0</td>\n",
              "      <td>1</td>\n",
              "      <td>0</td>\n",
              "      <td>1</td>\n",
              "      <td>0</td>\n",
              "      <td>0</td>\n",
              "      <td>0</td>\n",
              "      <td>0</td>\n",
              "      <td>0</td>\n",
              "      <td>0</td>\n",
              "      <td>0</td>\n",
              "      <td>0</td>\n",
              "      <td>0</td>\n",
              "      <td>1</td>\n",
              "      <td>0</td>\n",
              "      <td>0</td>\n",
              "      <td>0</td>\n",
              "    </tr>\n",
              "    <tr>\n",
              "      <th>3</th>\n",
              "      <td>1</td>\n",
              "      <td>1</td>\n",
              "      <td>0</td>\n",
              "      <td>0</td>\n",
              "      <td>0</td>\n",
              "      <td>0</td>\n",
              "      <td>0</td>\n",
              "      <td>0</td>\n",
              "      <td>1</td>\n",
              "      <td>0</td>\n",
              "      <td>0</td>\n",
              "      <td>0</td>\n",
              "      <td>0</td>\n",
              "      <td>0</td>\n",
              "      <td>1</td>\n",
              "      <td>0</td>\n",
              "      <td>0</td>\n",
              "      <td>0</td>\n",
              "      <td>0</td>\n",
              "      <td>0</td>\n",
              "    </tr>\n",
              "    <tr>\n",
              "      <th>4</th>\n",
              "      <td>1</td>\n",
              "      <td>1</td>\n",
              "      <td>0</td>\n",
              "      <td>0</td>\n",
              "      <td>0</td>\n",
              "      <td>0</td>\n",
              "      <td>0</td>\n",
              "      <td>0</td>\n",
              "      <td>0</td>\n",
              "      <td>0</td>\n",
              "      <td>0</td>\n",
              "      <td>0</td>\n",
              "      <td>0</td>\n",
              "      <td>0</td>\n",
              "      <td>1</td>\n",
              "      <td>0</td>\n",
              "      <td>0</td>\n",
              "      <td>0</td>\n",
              "      <td>0</td>\n",
              "      <td>0</td>\n",
              "    </tr>\n",
              "  </tbody>\n",
              "</table>\n",
              "</div>"
            ],
            "text/plain": [
              "   Action  Adventure  Animation  Comedy  Crime  Documentary  Drama  Family  \\\n",
              "0       1          1          0       0      0            0      0       0   \n",
              "1       0          1          0       0      0            0      1       0   \n",
              "2       1          0          0       0      1            0      1       0   \n",
              "3       1          1          0       0      0            0      0       0   \n",
              "4       1          1          0       0      0            0      0       0   \n",
              "\n",
              "   Fantasy  History  Horror  Music  Mystery  Romance  Science Fiction  \\\n",
              "0        0        0       0      0        0        0                1   \n",
              "1        0        0       0      0        0        0                1   \n",
              "2        0        0       0      0        0        0                0   \n",
              "3        1        0       0      0        0        0                1   \n",
              "4        0        0       0      0        0        0                1   \n",
              "\n",
              "   TV Movie  Thriller  War  Western  unknown  \n",
              "0         0         0    0        0        0  \n",
              "1         0         0    0        0        0  \n",
              "2         0         1    0        0        0  \n",
              "3         0         0    0        0        0  \n",
              "4         0         0    0        0        0  "
            ]
          },
          "execution_count": 163,
          "metadata": {},
          "output_type": "execute_result"
        }
      ],
      "source": [
        "genres_encoded_df.head()"
      ]
    },
    {
      "cell_type": "code",
      "execution_count": 164,
      "metadata": {
        "colab": {
          "base_uri": "https://localhost:8080/"
        },
        "id": "1_OXsonyHa59",
        "outputId": "dedef4c2-79c0-4767-ae99-b2df9d250ee4"
      },
      "outputs": [
        {
          "data": {
            "image/png": "[encoded data removed]",
            "text/plain": [
              "<Figure size 1500x600 with 1 Axes>"
            ]
          },
          "metadata": {},
          "output_type": "display_data"
        }
      ],
      "source": [
        "plt.figure(figsize=(15, 6))\n",
        "genres_encoded_df.sum().sort_values(ascending=False).plot(kind='bar')\n",
        "plt.title('Distribution of Genres')\n",
        "plt.xlabel('Genres')\n",
        "plt.ylabel('Number of Movies')\n",
        "plt.xticks(rotation=45, ha='right')\n",
        "plt.show()"
      ]
    },
    {
      "cell_type": "code",
      "execution_count": 165,
      "metadata": {
        "id": "QknenJ2ACJMc"
      },
      "outputs": [],
      "source": [
        "df['title'] = df['title'].str.lower()"
      ]
    },
    {
      "cell_type": "code",
      "execution_count": 166,
      "metadata": {
        "colab": {
          "base_uri": "https://localhost:8080/"
        },
        "id": "l4-ffq9LCJMc",
        "outputId": "70c3c7f4-9f1f-4ae1-d109-280758f11b5d"
      },
      "outputs": [
        {
          "data": {
            "text/plain": [
              "640206"
            ]
          },
          "execution_count": 166,
          "metadata": {},
          "output_type": "execute_result"
        }
      ],
      "source": [
        "df['title'].value_counts().sum()"
      ]
    },
    {
      "cell_type": "markdown",
      "metadata": {
        "id": "1t8vvaevGGU0"
      },
      "source": [
        "# Modling"
      ]
    },
    {
      "cell_type": "code",
      "execution_count": 167,
      "metadata": {
        "colab": {
          "base_uri": "https://localhost:8080/",
          "height": 554
        },
        "id": "54xyI61BCJMd",
        "outputId": "68bc52fe-312b-472b-a32f-c002aac54a89"
      },
      "outputs": [
        {
          "data": {
            "text/plain": [
              "id                           0\n",
              "title                        0\n",
              "vote_average                 0\n",
              "release_date                 0\n",
              "runtime                      0\n",
              "adult                        0\n",
              "imdb_id                 215809\n",
              "original_language            0\n",
              "overview                 27449\n",
              "production_companies    263652\n",
              "production_countries    193346\n",
              "genres_list             182266\n",
              "release_year                 0\n",
              "dtype: int64"
            ]
          },
          "execution_count": 167,
          "metadata": {},
          "output_type": "execute_result"
        }
      ],
      "source": [
        "df.isna().sum()"
      ]
    },
    {
      "cell_type": "code",
      "execution_count": 168,
      "metadata": {
        "id": "Zc3ez2MBCJMc"
      },
      "outputs": [],
      "source": [
        "model_cols = ['vote_average','title', 'runtime', 'adult','release_year', 'original_language']"
      ]
    },
    {
      "cell_type": "code",
      "execution_count": 170,
      "metadata": {},
      "outputs": [],
      "source": [
        "df['release_year'] = df['release_year'].astype('int64')"
      ]
    },
    {
      "cell_type": "code",
      "execution_count": 171,
      "metadata": {},
      "outputs": [
        {
          "name": "stdout",
          "output_type": "stream",
          "text": [
            "<class 'pandas.core.frame.DataFrame'>\n",
            "Index: 640206 entries, 0 to 1195820\n",
            "Data columns (total 13 columns):\n",
            " #   Column                Non-Null Count   Dtype         \n",
            "---  ------                --------------   -----         \n",
            " 0   id                    640206 non-null  int64         \n",
            " 1   title                 640206 non-null  object        \n",
            " 2   vote_average          640206 non-null  float64       \n",
            " 3   release_date          640206 non-null  datetime64[ns]\n",
            " 4   runtime               640206 non-null  int64         \n",
            " 5   adult                 640206 non-null  bool          \n",
            " 6   imdb_id               424397 non-null  object        \n",
            " 7   original_language     640206 non-null  object        \n",
            " 8   overview              612757 non-null  object        \n",
            " 9   production_companies  376554 non-null  object        \n",
            " 10  production_countries  446860 non-null  object        \n",
            " 11  genres_list           457940 non-null  object        \n",
            " 12  release_year          640206 non-null  int64         \n",
            "dtypes: bool(1), datetime64[ns](1), float64(1), int64(3), object(7)\n",
            "memory usage: 64.1+ MB\n"
          ]
        }
      ],
      "source": [
        "df.info()"
      ]
    },
    {
      "cell_type": "code",
      "execution_count": 172,
      "metadata": {
        "colab": {
          "base_uri": "https://localhost:8080/",
          "height": 206
        },
        "id": "AYsfa4cSCJMc",
        "outputId": "bb294164-b2e3-47fe-986f-ca4b5677f065"
      },
      "outputs": [
        {
          "data": {
            "application/vnd.microsoft.datawrangler.viewer.v0+json": {
              "columns": [
                {
                  "name": "index",
                  "rawType": "int64",
                  "type": "integer"
                },
                {
                  "name": "vote_average",
                  "rawType": "float64",
                  "type": "float"
                },
                {
                  "name": "title",
                  "rawType": "object",
                  "type": "string"
                },
                {
                  "name": "runtime",
                  "rawType": "int64",
                  "type": "integer"
                },
                {
                  "name": "adult",
                  "rawType": "bool",
                  "type": "boolean"
                },
                {
                  "name": "release_year",
                  "rawType": "int64",
                  "type": "integer"
                },
                {
                  "name": "original_language",
                  "rawType": "object",
                  "type": "string"
                }
              ],
              "conversionMethod": "pd.DataFrame",
              "ref": "4ed19514-a4ff-41f9-b5fa-5239264dba9d",
              "rows": [
                [
                  "0",
                  "8.364",
                  "inception",
                  "148",
                  "False",
                  "2010",
                  "English"
                ],
                [
                  "1",
                  "8.417",
                  "interstellar",
                  "169",
                  "False",
                  "2014",
                  "English"
                ],
                [
                  "2",
                  "8.512",
                  "the dark knight",
                  "152",
                  "False",
                  "2008",
                  "English"
                ],
                [
                  "3",
                  "7.573",
                  "avatar",
                  "162",
                  "False",
                  "2009",
                  "English"
                ],
                [
                  "4",
                  "7.71",
                  "the avengers",
                  "143",
                  "False",
                  "2012",
                  "English"
                ]
              ],
              "shape": {
                "columns": 6,
                "rows": 5
              }
            },
            "text/html": [
              "<div>\n",
              "<style scoped>\n",
              "    .dataframe tbody tr th:only-of-type {\n",
              "        vertical-align: middle;\n",
              "    }\n",
              "\n",
              "    .dataframe tbody tr th {\n",
              "        vertical-align: top;\n",
              "    }\n",
              "\n",
              "    .dataframe thead th {\n",
              "        text-align: right;\n",
              "    }\n",
              "</style>\n",
              "<table border=\"1\" class=\"dataframe\">\n",
              "  <thead>\n",
              "    <tr style=\"text-align: right;\">\n",
              "      <th></th>\n",
              "      <th>vote_average</th>\n",
              "      <th>title</th>\n",
              "      <th>runtime</th>\n",
              "      <th>adult</th>\n",
              "      <th>release_year</th>\n",
              "      <th>original_language</th>\n",
              "    </tr>\n",
              "  </thead>\n",
              "  <tbody>\n",
              "    <tr>\n",
              "      <th>0</th>\n",
              "      <td>8.364</td>\n",
              "      <td>inception</td>\n",
              "      <td>148</td>\n",
              "      <td>False</td>\n",
              "      <td>2010</td>\n",
              "      <td>English</td>\n",
              "    </tr>\n",
              "    <tr>\n",
              "      <th>1</th>\n",
              "      <td>8.417</td>\n",
              "      <td>interstellar</td>\n",
              "      <td>169</td>\n",
              "      <td>False</td>\n",
              "      <td>2014</td>\n",
              "      <td>English</td>\n",
              "    </tr>\n",
              "    <tr>\n",
              "      <th>2</th>\n",
              "      <td>8.512</td>\n",
              "      <td>the dark knight</td>\n",
              "      <td>152</td>\n",
              "      <td>False</td>\n",
              "      <td>2008</td>\n",
              "      <td>English</td>\n",
              "    </tr>\n",
              "    <tr>\n",
              "      <th>3</th>\n",
              "      <td>7.573</td>\n",
              "      <td>avatar</td>\n",
              "      <td>162</td>\n",
              "      <td>False</td>\n",
              "      <td>2009</td>\n",
              "      <td>English</td>\n",
              "    </tr>\n",
              "    <tr>\n",
              "      <th>4</th>\n",
              "      <td>7.710</td>\n",
              "      <td>the avengers</td>\n",
              "      <td>143</td>\n",
              "      <td>False</td>\n",
              "      <td>2012</td>\n",
              "      <td>English</td>\n",
              "    </tr>\n",
              "  </tbody>\n",
              "</table>\n",
              "</div>"
            ],
            "text/plain": [
              "   vote_average            title  runtime  adult  release_year  \\\n",
              "0         8.364        inception      148  False          2010   \n",
              "1         8.417     interstellar      169  False          2014   \n",
              "2         8.512  the dark knight      152  False          2008   \n",
              "3         7.573           avatar      162  False          2009   \n",
              "4         7.710     the avengers      143  False          2012   \n",
              "\n",
              "  original_language  \n",
              "0           English  \n",
              "1           English  \n",
              "2           English  \n",
              "3           English  \n",
              "4           English  "
            ]
          },
          "execution_count": 172,
          "metadata": {},
          "output_type": "execute_result"
        }
      ],
      "source": [
        "df[model_cols].head()"
      ]
    },
    {
      "cell_type": "code",
      "execution_count": 173,
      "metadata": {
        "id": "FTaNDEqqCJMd"
      },
      "outputs": [],
      "source": [
        "# Prepare numerical features\n",
        "scaler = StandardScaler()\n",
        "\n",
        "# Scale numerical features (vote_average, runtime, release_year)\n",
        "numerical_features = np.array(df[['vote_average', 'runtime', 'release_year']].fillna(0))\n",
        "scaled_numerical = scaler.fit_transform(numerical_features)"
      ]
    },
    {
      "cell_type": "code",
      "execution_count": 174,
      "metadata": {
        "colab": {
          "base_uri": "https://localhost:8080/"
        },
        "id": "nBGkLx_tCJMd",
        "outputId": "5022b4e4-e535-4470-b5a8-de37685dc309"
      },
      "outputs": [
        {
          "data": {
            "text/plain": [
              "array([[ 1.79440438,  1.65078604,  0.39450541],\n",
              "       [ 1.81086506,  2.13523728,  0.55682447],\n",
              "       [ 1.84037006,  1.74306247,  0.31334588],\n",
              "       ...,\n",
              "       [-0.80327814, -0.37929533,  0.7597233 ],\n",
              "       [-0.80327814, -0.49464086,  0.80030307],\n",
              "       [-0.80327814, -0.51770997,  0.71914354]])"
            ]
          },
          "execution_count": 174,
          "metadata": {},
          "output_type": "execute_result"
        }
      ],
      "source": [
        "scaled_numerical"
      ]
    },
    {
      "cell_type": "code",
      "execution_count": 175,
      "metadata": {
        "id": "Lu4WypyCCJMd"
      },
      "outputs": [],
      "source": [
        "genres_matrix = genres_encoded_df.values"
      ]
    },
    {
      "cell_type": "code",
      "execution_count": 176,
      "metadata": {
        "colab": {
          "base_uri": "https://localhost:8080/"
        },
        "id": "p4unLBRFCJMd",
        "outputId": "647a8a75-78a3-4fab-ba0f-cc292c6fde30"
      },
      "outputs": [
        {
          "data": {
            "text/plain": [
              "array([[1, 1, 0, ..., 0, 0, 0],\n",
              "       [0, 1, 0, ..., 0, 0, 0],\n",
              "       [1, 0, 0, ..., 0, 0, 0],\n",
              "       ...,\n",
              "       [0, 0, 0, ..., 0, 0, 1],\n",
              "       [0, 0, 0, ..., 0, 0, 1],\n",
              "       [0, 0, 0, ..., 0, 0, 1]])"
            ]
          },
          "execution_count": 176,
          "metadata": {},
          "output_type": "execute_result"
        }
      ],
      "source": [
        "genres_matrix"
      ]
    },
    {
      "cell_type": "code",
      "execution_count": 177,
      "metadata": {
        "id": "sCJCvyuQCJMd"
      },
      "outputs": [],
      "source": [
        "language_dummies = pd.get_dummies(df['original_language'], prefix='lang')"
      ]
    },
    {
      "cell_type": "code",
      "execution_count": 178,
      "metadata": {
        "colab": {
          "base_uri": "https://localhost:8080/",
          "height": 287
        },
        "id": "2-6kU4YDCJMe",
        "outputId": "178e1906-a631-4301-b9b9-89904ba588f1"
      },
      "outputs": [
        {
          "data": {
            "application/vnd.microsoft.datawrangler.viewer.v0+json": {
              "columns": [
                {
                  "name": "index",
                  "rawType": "int64",
                  "type": "integer"
                },
                {
                  "name": "lang_Arabic",
                  "rawType": "bool",
                  "type": "boolean"
                },
                {
                  "name": "lang_Cantonese",
                  "rawType": "bool",
                  "type": "boolean"
                },
                {
                  "name": "lang_Chinese",
                  "rawType": "bool",
                  "type": "boolean"
                },
                {
                  "name": "lang_English",
                  "rawType": "bool",
                  "type": "boolean"
                },
                {
                  "name": "lang_French",
                  "rawType": "bool",
                  "type": "boolean"
                },
                {
                  "name": "lang_German",
                  "rawType": "bool",
                  "type": "boolean"
                },
                {
                  "name": "lang_Hindi",
                  "rawType": "bool",
                  "type": "boolean"
                },
                {
                  "name": "lang_Italian",
                  "rawType": "bool",
                  "type": "boolean"
                },
                {
                  "name": "lang_Japanese",
                  "rawType": "bool",
                  "type": "boolean"
                },
                {
                  "name": "lang_Korean",
                  "rawType": "bool",
                  "type": "boolean"
                },
                {
                  "name": "lang_Other",
                  "rawType": "bool",
                  "type": "boolean"
                },
                {
                  "name": "lang_Spanish",
                  "rawType": "bool",
                  "type": "boolean"
                }
              ],
              "conversionMethod": "pd.DataFrame",
              "ref": "2294e683-1c0d-47ac-95aa-4b04bab20f50",
              "rows": [
                [
                  "0",
                  "False",
                  "False",
                  "False",
                  "True",
                  "False",
                  "False",
                  "False",
                  "False",
                  "False",
                  "False",
                  "False",
                  "False"
                ],
                [
                  "1",
                  "False",
                  "False",
                  "False",
                  "True",
                  "False",
                  "False",
                  "False",
                  "False",
                  "False",
                  "False",
                  "False",
                  "False"
                ],
                [
                  "2",
                  "False",
                  "False",
                  "False",
                  "True",
                  "False",
                  "False",
                  "False",
                  "False",
                  "False",
                  "False",
                  "False",
                  "False"
                ],
                [
                  "3",
                  "False",
                  "False",
                  "False",
                  "True",
                  "False",
                  "False",
                  "False",
                  "False",
                  "False",
                  "False",
                  "False",
                  "False"
                ],
                [
                  "4",
                  "False",
                  "False",
                  "False",
                  "True",
                  "False",
                  "False",
                  "False",
                  "False",
                  "False",
                  "False",
                  "False",
                  "False"
                ]
              ],
              "shape": {
                "columns": 12,
                "rows": 5
              }
            },
            "text/html": [
              "<div>\n",
              "<style scoped>\n",
              "    .dataframe tbody tr th:only-of-type {\n",
              "        vertical-align: middle;\n",
              "    }\n",
              "\n",
              "    .dataframe tbody tr th {\n",
              "        vertical-align: top;\n",
              "    }\n",
              "\n",
              "    .dataframe thead th {\n",
              "        text-align: right;\n",
              "    }\n",
              "</style>\n",
              "<table border=\"1\" class=\"dataframe\">\n",
              "  <thead>\n",
              "    <tr style=\"text-align: right;\">\n",
              "      <th></th>\n",
              "      <th>lang_Arabic</th>\n",
              "      <th>lang_Cantonese</th>\n",
              "      <th>lang_Chinese</th>\n",
              "      <th>lang_English</th>\n",
              "      <th>lang_French</th>\n",
              "      <th>lang_German</th>\n",
              "      <th>lang_Hindi</th>\n",
              "      <th>lang_Italian</th>\n",
              "      <th>lang_Japanese</th>\n",
              "      <th>lang_Korean</th>\n",
              "      <th>lang_Other</th>\n",
              "      <th>lang_Spanish</th>\n",
              "    </tr>\n",
              "  </thead>\n",
              "  <tbody>\n",
              "    <tr>\n",
              "      <th>0</th>\n",
              "      <td>False</td>\n",
              "      <td>False</td>\n",
              "      <td>False</td>\n",
              "      <td>True</td>\n",
              "      <td>False</td>\n",
              "      <td>False</td>\n",
              "      <td>False</td>\n",
              "      <td>False</td>\n",
              "      <td>False</td>\n",
              "      <td>False</td>\n",
              "      <td>False</td>\n",
              "      <td>False</td>\n",
              "    </tr>\n",
              "    <tr>\n",
              "      <th>1</th>\n",
              "      <td>False</td>\n",
              "      <td>False</td>\n",
              "      <td>False</td>\n",
              "      <td>True</td>\n",
              "      <td>False</td>\n",
              "      <td>False</td>\n",
              "      <td>False</td>\n",
              "      <td>False</td>\n",
              "      <td>False</td>\n",
              "      <td>False</td>\n",
              "      <td>False</td>\n",
              "      <td>False</td>\n",
              "    </tr>\n",
              "    <tr>\n",
              "      <th>2</th>\n",
              "      <td>False</td>\n",
              "      <td>False</td>\n",
              "      <td>False</td>\n",
              "      <td>True</td>\n",
              "      <td>False</td>\n",
              "      <td>False</td>\n",
              "      <td>False</td>\n",
              "      <td>False</td>\n",
              "      <td>False</td>\n",
              "      <td>False</td>\n",
              "      <td>False</td>\n",
              "      <td>False</td>\n",
              "    </tr>\n",
              "    <tr>\n",
              "      <th>3</th>\n",
              "      <td>False</td>\n",
              "      <td>False</td>\n",
              "      <td>False</td>\n",
              "      <td>True</td>\n",
              "      <td>False</td>\n",
              "      <td>False</td>\n",
              "      <td>False</td>\n",
              "      <td>False</td>\n",
              "      <td>False</td>\n",
              "      <td>False</td>\n",
              "      <td>False</td>\n",
              "      <td>False</td>\n",
              "    </tr>\n",
              "    <tr>\n",
              "      <th>4</th>\n",
              "      <td>False</td>\n",
              "      <td>False</td>\n",
              "      <td>False</td>\n",
              "      <td>True</td>\n",
              "      <td>False</td>\n",
              "      <td>False</td>\n",
              "      <td>False</td>\n",
              "      <td>False</td>\n",
              "      <td>False</td>\n",
              "      <td>False</td>\n",
              "      <td>False</td>\n",
              "      <td>False</td>\n",
              "    </tr>\n",
              "  </tbody>\n",
              "</table>\n",
              "</div>"
            ],
            "text/plain": [
              "   lang_Arabic  lang_Cantonese  lang_Chinese  lang_English  lang_French  \\\n",
              "0        False           False         False          True        False   \n",
              "1        False           False         False          True        False   \n",
              "2        False           False         False          True        False   \n",
              "3        False           False         False          True        False   \n",
              "4        False           False         False          True        False   \n",
              "\n",
              "   lang_German  lang_Hindi  lang_Italian  lang_Japanese  lang_Korean  \\\n",
              "0        False       False         False          False        False   \n",
              "1        False       False         False          False        False   \n",
              "2        False       False         False          False        False   \n",
              "3        False       False         False          False        False   \n",
              "4        False       False         False          False        False   \n",
              "\n",
              "   lang_Other  lang_Spanish  \n",
              "0       False         False  \n",
              "1       False         False  \n",
              "2       False         False  \n",
              "3       False         False  \n",
              "4       False         False  "
            ]
          },
          "execution_count": 178,
          "metadata": {},
          "output_type": "execute_result"
        }
      ],
      "source": [
        "language_dummies.head()"
      ]
    },
    {
      "cell_type": "code",
      "execution_count": 179,
      "metadata": {
        "id": "Flae2lAGCJMe"
      },
      "outputs": [],
      "source": [
        "adult_dummies = df['adult']"
      ]
    },
    {
      "cell_type": "code",
      "execution_count": 180,
      "metadata": {
        "id": "n6-zlg5ZCJMe"
      },
      "outputs": [],
      "source": [
        "categorical_features = pd.concat([adult_dummies, language_dummies], axis=1).values"
      ]
    },
    {
      "cell_type": "markdown",
      "metadata": {
        "id": "5G8dGi04T_u6"
      },
      "source": [
        "# Embedding"
      ]
    },
    {
      "cell_type": "code",
      "execution_count": 181,
      "metadata": {
        "id": "FH50TWmWCJMe"
      },
      "outputs": [],
      "source": [
        "scaled_numerical_sparse = csr_matrix(scaled_numerical)\n",
        "genres_matrix_sparse = csr_matrix(genres_matrix)\n",
        "categorical_features_sparse = csr_matrix(categorical_features)"
      ]
    },
    {
      "cell_type": "code",
      "execution_count": 182,
      "metadata": {
        "id": "hBAYakD_CJMe"
      },
      "outputs": [],
      "source": [
        "numerical_weight = 1.2  # vote_average, runtime, release_year\n",
        "genres_weight = 2.5     # Give more weight to genres (most important feature)\n",
        "categorical_weight = 0.8  # adult, language"
      ]
    },
    {
      "cell_type": "code",
      "execution_count": 183,
      "metadata": {
        "id": "J3bBilsECJMe"
      },
      "outputs": [],
      "source": [
        "combined_features = hstack([\n",
        "    scaled_numerical_sparse * numerical_weight,\n",
        "    genres_matrix_sparse * genres_weight,\n",
        "    categorical_features_sparse * categorical_weight\n",
        "])\n"
      ]
    },
    {
      "cell_type": "code",
      "execution_count": 184,
      "metadata": {
        "colab": {
          "base_uri": "https://localhost:8080/",
          "height": 141
        },
        "id": "T8Acy58eCJMe",
        "outputId": "6fcf12c6-19fb-4625-c38f-128990e63426"
      },
      "outputs": [
        {
          "data": {
            "text/plain": [
              "<640206x36 sparse matrix of type '<class 'numpy.float64'>'\n",
              "\twith 3550974 stored elements in Compressed Sparse Row format>"
            ]
          },
          "execution_count": 184,
          "metadata": {},
          "output_type": "execute_result"
        }
      ],
      "source": [
        "combined_features"
      ]
    },
    {
      "cell_type": "code",
      "execution_count": 185,
      "metadata": {},
      "outputs": [],
      "source": [
        "# Save the combined features to a pickle file\n",
        "with open(r'C:\\Users\\Ace\\Desktop\\learning\\all\\thecopyv2\\combined_features_without.pkl', 'wb') as f:\n",
        "    pickle.dump(combined_features, f)"
      ]
    },
    {
      "cell_type": "markdown",
      "metadata": {
        "id": "nfmGcgVTTi-h"
      },
      "source": [
        "# Indexing"
      ]
    },
    {
      "cell_type": "code",
      "execution_count": 186,
      "metadata": {
        "id": "FZZgmKofCJMe",
        "outputId": "13799e28-b923-4e07-aa96-cb8d6fe1d500"
      },
      "outputs": [],
      "source": [
        "features_dense = combined_features.toarray().astype('float32')"
      ]
    },
    {
      "cell_type": "code",
      "execution_count": 187,
      "metadata": {
        "id": "y5ivDBg2CJMf"
      },
      "outputs": [],
      "source": [
        "index = faiss.IndexFlatL2(features_dense.shape[1])  # Use L2 distance (Euclidean)\n",
        "index.add(features_dense) # Add the data points to the index"
      ]
    },
    {
      "cell_type": "code",
      "execution_count": 188,
      "metadata": {},
      "outputs": [
        {
          "data": {
            "text/plain": [
              "<faiss.swigfaiss_avx2.IndexFlatL2; proxy of <Swig Object of type 'faiss::IndexFlatL2 *' at 0x00000228A896C180> >"
            ]
          },
          "execution_count": 188,
          "metadata": {},
          "output_type": "execute_result"
        }
      ],
      "source": [
        "index"
      ]
    },
    {
      "cell_type": "code",
      "execution_count": 85,
      "metadata": {},
      "outputs": [
        {
          "name": "stdout",
          "output_type": "stream",
          "text": [
            "Created indices for 554557 movies\n"
          ]
        }
      ],
      "source": [
        "indices = {}\n",
        "for i, title in enumerate(df['title']):\n",
        "    # Skip missing/NaN values\n",
        "    if pd.isna(title):\n",
        "        continue\n",
        "        \n",
        "    # Convert to string if needed\n",
        "    if not isinstance(title, str):\n",
        "        title = str(title).strip()\n",
        "    else:\n",
        "        title = title.strip()\n",
        "        \n",
        "    # Add to indices dictionary\n",
        "    indices[title.lower()] = i\n",
        "\n",
        "print(f\"Created indices for {len(indices)} movies\")"
      ]
    },
    {
      "cell_type": "code",
      "execution_count": 189,
      "metadata": {
        "id": "s53SmIg5CJMf"
      },
      "outputs": [],
      "source": [
        "indices = {title.lower().strip(): i for i, title in enumerate(df['title'].drop_duplicates())}"
      ]
    },
    {
      "cell_type": "markdown",
      "metadata": {},
      "source": [
        "# Get Functions"
      ]
    },
    {
      "cell_type": "code",
      "execution_count": null,
      "metadata": {
        "id": "FZUpTFNECJMf"
      },
      "outputs": [],
      "source": [
        "from fuzzywuzzy import process\n",
        "\n",
        "def get_similar_movies(title, n=10, lang='all', match_threshold=80):\n",
        "    \"\"\"\n",
        "    Find movies similar to a given movie title with improved debugging and fuzzy title matching.\n",
        "    \n",
        "    Parameters:\n",
        "    -----------\n",
        "    title : str\n",
        "        The title of the movie to find similar movies for\n",
        "    n : int, default=10\n",
        "        Number of similar movies to return\n",
        "    lang : str, default='all'\n",
        "        Filter by language code (e.g., 'en' for English) or 'all' for no filter\n",
        "    match_threshold : int, default=80\n",
        "        Threshold for fuzzy matching (0-100), higher values require closer matches\n",
        "        \n",
        "    Returns:\n",
        "    --------\n",
        "    pandas.DataFrame\n",
        "        DataFrame containing similar movies and their similarity scores\n",
        "    \"\"\"\n",
        "    # Convert input title to lowercase and strip whitespace\n",
        "    search_title = title.lower().strip()\n",
        "    print(f\"Searching for: '{search_title}'\")\n",
        "    \n",
        "    # Check if title exists in indices\n",
        "    if search_title in indices:\n",
        "        movie_idx = indices[search_title]\n",
        "        print(f\"Found exact match at index {movie_idx}\")\n",
        "    else:\n",
        "        # Title not found - use fuzzy matching\n",
        "        print(f\"No exact match found for '{title}'. Trying fuzzy matching...\")\n",
        "        \n",
        "        # Get all movie titles from dataframe\n",
        "        movie_titles = df['title'].dropna().tolist()\n",
        "        \n",
        "        # Use fuzzy matching to find the closest matches\n",
        "        matches = process.extractBests(\n",
        "            search_title, \n",
        "            movie_titles,\n",
        "            score_cutoff=match_threshold,\n",
        "            limit=5\n",
        "        )\n",
        "        \n",
        "        if not matches:\n",
        "            print(f\"No similar titles found above the threshold of {match_threshold}.\")\n",
        "            \n",
        "            # Try to find partial matches as a fallback\n",
        "            close_matches = []\n",
        "            for movie_title in df['title']:\n",
        "                # Skip non-string titles\n",
        "                if not isinstance(movie_title, str):\n",
        "                    continue\n",
        "                    \n",
        "                if search_title in movie_title.lower():\n",
        "                    close_matches.append(movie_title)\n",
        "                    if len(close_matches) >= 5:\n",
        "                        break\n",
        "            \n",
        "            if close_matches:\n",
        "                print(f\"Did you mean one of these? {', '.join(close_matches)}\")\n",
        "                print(f\"Try using one of these exact titles or lower the match threshold.\")\n",
        "            \n",
        "            return pd.DataFrame()\n",
        "        \n",
        "        # Display matches and their scores\n",
        "        print(f\"Found {len(matches)} potential matches:\")\n",
        "        for match_title, score in matches:\n",
        "            print(f\"  - '{match_title}' (match score: {score}%)\")\n",
        "        \n",
        "        # Use the highest scoring match\n",
        "        best_match, best_score = matches[0]\n",
        "        print(f\"\\nUsing best match: '{best_match}' (match score: {best_score}%)\")\n",
        "        \n",
        "        # Get the index for the best match\n",
        "        movie_idx = indices.get(best_match.lower().strip())\n",
        "        \n",
        "        # If the index is still not found (rare case), return empty DataFrame\n",
        "        if movie_idx is None:\n",
        "            print(f\"ERROR: Could not find index for '{best_match}'\")\n",
        "            return pd.DataFrame()\n",
        "    \n",
        "    try:\n",
        "        # Verify the index is valid\n",
        "        if movie_idx >= len(df) or movie_idx < 0:\n",
        "            print(f\"ERROR: Invalid movie index {movie_idx}, DataFrame has {len(df)} rows\")\n",
        "            return pd.DataFrame()\n",
        "            \n",
        "        # Get movie title from DataFrame to verify match\n",
        "        actual_title = df.loc[movie_idx, 'title']\n",
        "        print(f\"Title at index {movie_idx}: '{actual_title}'\")\n",
        "        \n",
        "        # Get movie vector\n",
        "        movie_vector = features_dense[movie_idx].reshape(1, -1)\n",
        "        \n",
        "        # Find similar movies\n",
        "        k = min(n + 1, len(features_dense))  # +1 for self\n",
        "        distances, movie_indices = index.search(movie_vector, k)\n",
        "        \n",
        "        # Process results (skip self-match)\n",
        "        distances = distances.flatten()[1:]\n",
        "        movie_indices = movie_indices.flatten()[1:]\n",
        "        \n",
        "        # Calculate similarity scores\n",
        "        max_dist = np.max(distances) if len(distances) > 0 else 1\n",
        "        normalized_distances = distances / max_dist if max_dist > 0 else distances\n",
        "        similarity_scores = 1 - normalized_distances\n",
        "        \n",
        "        # Get available columns\n",
        "        cols = []\n",
        "        for col in ['title', 'vote_average', 'vote_count', 'release_year', \n",
        "                  'genres_list', 'runtime', 'original_language']:\n",
        "            if col in df.columns:\n",
        "                cols.append(col)\n",
        "        \n",
        "        # Create recommendations DataFrame\n",
        "        recommendations = df.iloc[movie_indices][cols].copy()\n",
        "        recommendations['similarity_score'] = similarity_scores\n",
        "        recommendations['match_percentage'] = (similarity_scores * 100).round(1)\n",
        "        \n",
        "        # Filter by language if needed\n",
        "        if lang != 'all' and 'original_language' in recommendations.columns:\n",
        "            recommendations = recommendations[\n",
        "                recommendations['original_language'].str.lower() == lang.lower()\n",
        "            ]\n",
        "        \n",
        "        print(f\"\\nMovies similar to '{actual_title}':\")\n",
        "        return recommendations.sort_values('similarity_score', ascending=False)\n",
        "        \n",
        "    except Exception as e:\n",
        "        print(f\"ERROR: {str(e)}\")\n",
        "        import traceback\n",
        "        traceback.print_exc()\n",
        "        return pd.DataFrame()"
      ]
    },
    {
      "cell_type": "code",
      "execution_count": 203,
      "metadata": {},
      "outputs": [],
      "source": [
        "def display_recommendations(recommendations_df, format_type='cards', max_items=10):\n",
        "    \"\"\"\n",
        "    Display movie recommendations with enhanced YouTube trailer embeds.\n",
        "    \n",
        "    Args:\n",
        "        recommendations_df: DataFrame with movie recommendations\n",
        "        format_type: 'table', 'cards', or 'json' (default: 'cards')\n",
        "        max_items: Maximum number of recommendations to display\n",
        "    \"\"\"\n",
        "    if recommendations_df.empty:\n",
        "        print(\"No recommendations found.\")\n",
        "        return\n",
        "        \n",
        "    # Create a copy to avoid modifying the original\n",
        "    df = recommendations_df.copy().head(max_items)\n",
        "    \n",
        "    if format_type == 'cards':\n",
        "        html = '<div style=\"display: flex; flex-wrap: wrap; gap: 15px;\">'\n",
        "        \n",
        "        for _, movie in df.iterrows():\n",
        "            # Format values\n",
        "            title = movie.get('title', '').title()\n",
        "            genres = ', '.join(movie['genres_list']) if isinstance(movie.get('genres_list'), list) else \"\"\n",
        "            year = int(float(movie.get('release_year'))) if pd.notnull(movie.get('release_year')) else 'Unknown'\n",
        "            runtime = f\"{int(movie.get('runtime'))} min\" if pd.notnull(movie.get('runtime')) else 'Unknown'\n",
        "            vote_avg = f\"{float(movie.get('vote_average', 0)):.1f}\" if pd.notnull(movie.get('vote_average')) else 'N/A'\n",
        "            match = f\"{float(movie.get('match_percentage', 0)):.1f}%\" if pd.notnull(movie.get('match_percentage')) else 'Unknown'\n",
        "            \n",
        "            # FIX: Convert info to string before checking length\n",
        "            info_text = str(movie.get('info', ''))\n",
        "            info = info_text[:200] + '...' if len(info_text) > 200 else info_text\n",
        "            \n",
        "            # Create IMDB link if imdb_id is available\n",
        "            imdb_link = \"\"\n",
        "            if pd.notnull(movie.get('imdb_id')):\n",
        "                imdb_id = movie.get('imdb_id')\n",
        "                if isinstance(imdb_id, str) and imdb_id.startswith('tt'):\n",
        "                    imdb_url = f\"https://www.imdb.com/title/{imdb_id}/\"\n",
        "                elif isinstance(imdb_id, (int, float)):\n",
        "                    imdb_url = f\"https://www.imdb.com/title/tt{int(imdb_id):07d}/\"\n",
        "                else:\n",
        "                    imdb_url = None\n",
        "                    \n",
        "                if imdb_url:\n",
        "                    imdb_link = f\"\"\"\n",
        "                    <a href=\"{imdb_url}\" target=\"_blank\" style=\"display: inline-block; padding: 5px 10px; \n",
        "                       background-color: #f3ce13; color: #000000; text-decoration: none; \n",
        "                       border-radius: 4px; font-weight: bold;\">\n",
        "                        <span style=\"font-family: Arial, sans-serif;\">IMDb</span>\n",
        "                    </a>\n",
        "                    \"\"\"\n",
        "            \n",
        "            # Create enhanced YouTube trailer embed\n",
        "            # URL encode the search query for better reliability\n",
        "            search_query = f\"{title} {year if year != 'Unknown' else ''} official trailer\"\n",
        "            encoded_query = urllib.parse.quote_plus(search_query)\n",
        "            \n",
        "            # Use YouTube's enhanced parameters for better trailer matching\n",
        "            youtube_embed = f\"\"\"\n",
        "            <div style=\"margin: 15px 0; position: relative; padding-bottom: 56.25%; height: 0; overflow: hidden; max-width: 100%;\">\n",
        "                <iframe \n",
        "                    style=\"position: absolute; top: 0; left: 0; width: 100%; height: 100%;\"\n",
        "                    src=\"https://www.youtube.com/embed?listType=search&list={encoded_query}&autoplay=0&showinfo=1&controls=1&rel=0&modestbranding=1\" \n",
        "                    frameborder=\"0\" \n",
        "                    allow=\"accelerometer; autoplay; clipboard-write; encrypted-media; gyroscope; picture-in-picture\" \n",
        "                    allowfullscreen>\n",
        "                </iframe>\n",
        "            </div>\n",
        "            \"\"\"\n",
        "            \n",
        "            # Alternative: Direct YouTube search link as a fallback\n",
        "            youtube_link = f\"\"\"\n",
        "            <a href=\"https://www.youtube.com/results?search_query={encoded_query}\" \n",
        "               target=\"_blank\" style=\"display: inline-block; padding: 5px 10px; \n",
        "               background-color: #FF0000; color: white; text-decoration: none; \n",
        "               border-radius: 4px; font-weight: bold; margin-left: 10px;\">\n",
        "                <span style=\"font-family: Arial, sans-serif;\">YouTube Trailer</span>\n",
        "            </a>\n",
        "            \"\"\"\n",
        "            \n",
        "            html += f\"\"\"\n",
        "            <div style=\"width: 350px; padding: 20px; border-radius: 10px; box-shadow: 0 2px 8px rgba(0,0,0,0.08); background-color: #fafafa;\">\n",
        "                <!-- Title section -->\n",
        "                <h3 style=\"margin-top: 0; color: #2c3e50; border-bottom: 1px solid #e0e0e0; padding-bottom: 8px;\">\n",
        "                    {title}\n",
        "                </h3>\n",
        "                \n",
        "                <!-- Embedded trailer with responsive sizing -->\n",
        "                {youtube_embed}\n",
        "                \n",
        "                <!-- Ratings and match -->\n",
        "                <div style=\"display: flex; justify-content: space-between; margin-bottom: 10px;\">\n",
        "                    <div style=\"color: #3498db; font-weight: bold;\">Match: {match}</div>\n",
        "                    <div style=\"color: #f39c12;\">★ {vote_avg} / 10 ({movie.get('vote_count', '0')})</div>\n",
        "                </div>\n",
        "                \n",
        "                <!-- Genres -->\n",
        "                <div style=\"margin: 8px 0; font-style: italic; color: #7f8c8d;\">{genres}</div>\n",
        "                \n",
        "                <!-- Movie details section -->\n",
        "                <div style=\"padding: 10px; background-color: #f5f7fa; border-radius: 5px; margin: 10px 0;\">\n",
        "                    <div style=\"display: grid; grid-template-columns: auto 1fr; gap: 8px;\">\n",
        "                        <span style=\"color: #2c3e50; font-weight: bold;\">Year:</span> \n",
        "                        <span style=\"color: #2c3e50;\">{year}</span>\n",
        "                        \n",
        "                        <span style=\"color: #2c3e50; font-weight: bold;\">Runtime:</span>\n",
        "                        <span style=\"color: #2c3e50;\">{runtime}</span>\n",
        "                        \n",
        "                        <span style=\"color: #2c3e50; font-weight: bold;\">Language:</span>\n",
        "                        <span style=\"color: #2c3e50;\">{movie.get('original_language', 'N/A')}</span>\n",
        "                        \n",
        "                        <span style=\"color: #2c3e50; font-weight: bold;\">Production:</span>\n",
        "                        <span style=\"color: #2c3e50;\">{movie.get('production_companies', 'N/A')}</span>\n",
        "                        \n",
        "                        <span style=\"color: #2c3e50; font-weight: bold;\">Countries:</span>\n",
        "                        <span style=\"color: #2c3e50;\">{movie.get('production_countries', 'N/A')}</span>\n",
        "                    </div>\n",
        "                </div>\n",
        "                \n",
        "                <!-- Overview -->\n",
        "                <p style=\"color: #555; margin-top: 15px; font-size: 0.9em; line-height: 1.4;\">{info}</p>\n",
        "                \n",
        "                <!-- Links -->\n",
        "                <div style=\"margin-top: 15px; display: flex;\">\n",
        "                    {imdb_link}\n",
        "                    {youtube_link}\n",
        "                </div>\n",
        "            </div>\n",
        "            \"\"\"\n",
        "        html += '</div>'\n",
        "        display(HTML(html))"
      ]
    },
    {
      "cell_type": "markdown",
      "metadata": {},
      "source": [
        "# Usage"
      ]
    },
    {
      "cell_type": "code",
      "execution_count": 235,
      "metadata": {},
      "outputs": [
        {
          "name": "stdout",
          "output_type": "stream",
          "text": [
            "Searching for: 'inception'\n",
            "Found exact match at index 0\n",
            "Title at index 0: 'inception'\n",
            "\n",
            "Movies similar to 'inception':\n"
          ]
        },
        {
          "data": {
            "text/html": [
              "<div style=\"display: flex; flex-wrap: wrap; gap: 15px;\">\n",
              "            <div style=\"width: 350px; padding: 20px; border-radius: 10px; box-shadow: 0 2px 8px rgba(0,0,0,0.08); background-color: #fafafa;\">\n",
              "                <!-- Title section -->\n",
              "                <h3 style=\"margin-top: 0; color: #2c3e50; border-bottom: 1px solid #e0e0e0; padding-bottom: 8px;\">\n",
              "                    The Avengers\n",
              "                </h3>\n",
              "                \n",
              "                <!-- Embedded trailer with responsive sizing -->\n",
              "                \n",
              "            <div style=\"margin: 15px 0; position: relative; padding-bottom: 56.25%; height: 0; overflow: hidden; max-width: 100%;\">\n",
              "                <iframe \n",
              "                    style=\"position: absolute; top: 0; left: 0; width: 100%; height: 100%;\"\n",
              "                    src=\"https://www.youtube.com/embed?listType=search&list=The+Avengers+2012+official+trailer&autoplay=0&showinfo=1&controls=1&rel=0&modestbranding=1\" \n",
              "                    frameborder=\"0\" \n",
              "                    allow=\"accelerometer; autoplay; clipboard-write; encrypted-media; gyroscope; picture-in-picture\" \n",
              "                    allowfullscreen>\n",
              "                </iframe>\n",
              "            </div>\n",
              "            \n",
              "                \n",
              "                <!-- Ratings and match -->\n",
              "                <div style=\"display: flex; justify-content: space-between; margin-bottom: 10px;\">\n",
              "                    <div style=\"color: #3498db; font-weight: bold;\">Match: 71.3%</div>\n",
              "                    <div style=\"color: #f39c12;\">★ 7.7 / 10 (0)</div>\n",
              "                </div>\n",
              "                \n",
              "                <!-- Genres -->\n",
              "                <div style=\"margin: 8px 0; font-style: italic; color: #7f8c8d;\">Science Fiction, Action, Adventure</div>\n",
              "                \n",
              "                <!-- Movie details section -->\n",
              "                <div style=\"padding: 10px; background-color: #f5f7fa; border-radius: 5px; margin: 10px 0;\">\n",
              "                    <div style=\"display: grid; grid-template-columns: auto 1fr; gap: 8px;\">\n",
              "                        <span style=\"color: #2c3e50; font-weight: bold;\">Year:</span> \n",
              "                        <span style=\"color: #2c3e50;\">2012</span>\n",
              "                        \n",
              "                        <span style=\"color: #2c3e50; font-weight: bold;\">Runtime:</span>\n",
              "                        <span style=\"color: #2c3e50;\">143 min</span>\n",
              "                        \n",
              "                        <span style=\"color: #2c3e50; font-weight: bold;\">Language:</span>\n",
              "                        <span style=\"color: #2c3e50;\">English</span>\n",
              "                        \n",
              "                        <span style=\"color: #2c3e50; font-weight: bold;\">Production:</span>\n",
              "                        <span style=\"color: #2c3e50;\">N/A</span>\n",
              "                        \n",
              "                        <span style=\"color: #2c3e50; font-weight: bold;\">Countries:</span>\n",
              "                        <span style=\"color: #2c3e50;\">N/A</span>\n",
              "                    </div>\n",
              "                </div>\n",
              "                \n",
              "                <!-- Overview -->\n",
              "                <p style=\"color: #555; margin-top: 15px; font-size: 0.9em; line-height: 1.4;\"></p>\n",
              "                \n",
              "                <!-- Links -->\n",
              "                <div style=\"margin-top: 15px; display: flex;\">\n",
              "                    \n",
              "                    \n",
              "            <a href=\"https://www.youtube.com/results?search_query=The+Avengers+2012+official+trailer\" \n",
              "               target=\"_blank\" style=\"display: inline-block; padding: 5px 10px; \n",
              "               background-color: #FF0000; color: white; text-decoration: none; \n",
              "               border-radius: 4px; font-weight: bold; margin-left: 10px;\">\n",
              "                <span style=\"font-family: Arial, sans-serif;\">YouTube Trailer</span>\n",
              "            </a>\n",
              "            \n",
              "                </div>\n",
              "            </div>\n",
              "            \n",
              "            <div style=\"width: 350px; padding: 20px; border-radius: 10px; box-shadow: 0 2px 8px rgba(0,0,0,0.08); background-color: #fafafa;\">\n",
              "                <!-- Title section -->\n",
              "                <h3 style=\"margin-top: 0; color: #2c3e50; border-bottom: 1px solid #e0e0e0; padding-bottom: 8px;\">\n",
              "                    The Hunger Games: Catching Fire\n",
              "                </h3>\n",
              "                \n",
              "                <!-- Embedded trailer with responsive sizing -->\n",
              "                \n",
              "            <div style=\"margin: 15px 0; position: relative; padding-bottom: 56.25%; height: 0; overflow: hidden; max-width: 100%;\">\n",
              "                <iframe \n",
              "                    style=\"position: absolute; top: 0; left: 0; width: 100%; height: 100%;\"\n",
              "                    src=\"https://www.youtube.com/embed?listType=search&list=The+Hunger+Games%3A+Catching+Fire+2013+official+trailer&autoplay=0&showinfo=1&controls=1&rel=0&modestbranding=1\" \n",
              "                    frameborder=\"0\" \n",
              "                    allow=\"accelerometer; autoplay; clipboard-write; encrypted-media; gyroscope; picture-in-picture\" \n",
              "                    allowfullscreen>\n",
              "                </iframe>\n",
              "            </div>\n",
              "            \n",
              "                \n",
              "                <!-- Ratings and match -->\n",
              "                <div style=\"display: flex; justify-content: space-between; margin-bottom: 10px;\">\n",
              "                    <div style=\"color: #3498db; font-weight: bold;\">Match: 49.9%</div>\n",
              "                    <div style=\"color: #f39c12;\">★ 7.4 / 10 (0)</div>\n",
              "                </div>\n",
              "                \n",
              "                <!-- Genres -->\n",
              "                <div style=\"margin: 8px 0; font-style: italic; color: #7f8c8d;\">Adventure, Action, Science Fiction</div>\n",
              "                \n",
              "                <!-- Movie details section -->\n",
              "                <div style=\"padding: 10px; background-color: #f5f7fa; border-radius: 5px; margin: 10px 0;\">\n",
              "                    <div style=\"display: grid; grid-template-columns: auto 1fr; gap: 8px;\">\n",
              "                        <span style=\"color: #2c3e50; font-weight: bold;\">Year:</span> \n",
              "                        <span style=\"color: #2c3e50;\">2013</span>\n",
              "                        \n",
              "                        <span style=\"color: #2c3e50; font-weight: bold;\">Runtime:</span>\n",
              "                        <span style=\"color: #2c3e50;\">146 min</span>\n",
              "                        \n",
              "                        <span style=\"color: #2c3e50; font-weight: bold;\">Language:</span>\n",
              "                        <span style=\"color: #2c3e50;\">English</span>\n",
              "                        \n",
              "                        <span style=\"color: #2c3e50; font-weight: bold;\">Production:</span>\n",
              "                        <span style=\"color: #2c3e50;\">N/A</span>\n",
              "                        \n",
              "                        <span style=\"color: #2c3e50; font-weight: bold;\">Countries:</span>\n",
              "                        <span style=\"color: #2c3e50;\">N/A</span>\n",
              "                    </div>\n",
              "                </div>\n",
              "                \n",
              "                <!-- Overview -->\n",
              "                <p style=\"color: #555; margin-top: 15px; font-size: 0.9em; line-height: 1.4;\"></p>\n",
              "                \n",
              "                <!-- Links -->\n",
              "                <div style=\"margin-top: 15px; display: flex;\">\n",
              "                    \n",
              "                    \n",
              "            <a href=\"https://www.youtube.com/results?search_query=The+Hunger+Games%3A+Catching+Fire+2013+official+trailer\" \n",
              "               target=\"_blank\" style=\"display: inline-block; padding: 5px 10px; \n",
              "               background-color: #FF0000; color: white; text-decoration: none; \n",
              "               border-radius: 4px; font-weight: bold; margin-left: 10px;\">\n",
              "                <span style=\"font-family: Arial, sans-serif;\">YouTube Trailer</span>\n",
              "            </a>\n",
              "            \n",
              "                </div>\n",
              "            </div>\n",
              "            \n",
              "            <div style=\"width: 350px; padding: 20px; border-radius: 10px; box-shadow: 0 2px 8px rgba(0,0,0,0.08); background-color: #fafafa;\">\n",
              "                <!-- Title section -->\n",
              "                <h3 style=\"margin-top: 0; color: #2c3e50; border-bottom: 1px solid #e0e0e0; padding-bottom: 8px;\">\n",
              "                    Avengers: Infinity War\n",
              "                </h3>\n",
              "                \n",
              "                <!-- Embedded trailer with responsive sizing -->\n",
              "                \n",
              "            <div style=\"margin: 15px 0; position: relative; padding-bottom: 56.25%; height: 0; overflow: hidden; max-width: 100%;\">\n",
              "                <iframe \n",
              "                    style=\"position: absolute; top: 0; left: 0; width: 100%; height: 100%;\"\n",
              "                    src=\"https://www.youtube.com/embed?listType=search&list=Avengers%3A+Infinity+War+2018+official+trailer&autoplay=0&showinfo=1&controls=1&rel=0&modestbranding=1\" \n",
              "                    frameborder=\"0\" \n",
              "                    allow=\"accelerometer; autoplay; clipboard-write; encrypted-media; gyroscope; picture-in-picture\" \n",
              "                    allowfullscreen>\n",
              "                </iframe>\n",
              "            </div>\n",
              "            \n",
              "                \n",
              "                <!-- Ratings and match -->\n",
              "                <div style=\"display: flex; justify-content: space-between; margin-bottom: 10px;\">\n",
              "                    <div style=\"color: #3498db; font-weight: bold;\">Match: 49.7%</div>\n",
              "                    <div style=\"color: #f39c12;\">★ 8.3 / 10 (0)</div>\n",
              "                </div>\n",
              "                \n",
              "                <!-- Genres -->\n",
              "                <div style=\"margin: 8px 0; font-style: italic; color: #7f8c8d;\">Adventure, Action, Science Fiction</div>\n",
              "                \n",
              "                <!-- Movie details section -->\n",
              "                <div style=\"padding: 10px; background-color: #f5f7fa; border-radius: 5px; margin: 10px 0;\">\n",
              "                    <div style=\"display: grid; grid-template-columns: auto 1fr; gap: 8px;\">\n",
              "                        <span style=\"color: #2c3e50; font-weight: bold;\">Year:</span> \n",
              "                        <span style=\"color: #2c3e50;\">2018</span>\n",
              "                        \n",
              "                        <span style=\"color: #2c3e50; font-weight: bold;\">Runtime:</span>\n",
              "                        <span style=\"color: #2c3e50;\">149 min</span>\n",
              "                        \n",
              "                        <span style=\"color: #2c3e50; font-weight: bold;\">Language:</span>\n",
              "                        <span style=\"color: #2c3e50;\">English</span>\n",
              "                        \n",
              "                        <span style=\"color: #2c3e50; font-weight: bold;\">Production:</span>\n",
              "                        <span style=\"color: #2c3e50;\">N/A</span>\n",
              "                        \n",
              "                        <span style=\"color: #2c3e50; font-weight: bold;\">Countries:</span>\n",
              "                        <span style=\"color: #2c3e50;\">N/A</span>\n",
              "                    </div>\n",
              "                </div>\n",
              "                \n",
              "                <!-- Overview -->\n",
              "                <p style=\"color: #555; margin-top: 15px; font-size: 0.9em; line-height: 1.4;\"></p>\n",
              "                \n",
              "                <!-- Links -->\n",
              "                <div style=\"margin-top: 15px; display: flex;\">\n",
              "                    \n",
              "                    \n",
              "            <a href=\"https://www.youtube.com/results?search_query=Avengers%3A+Infinity+War+2018+official+trailer\" \n",
              "               target=\"_blank\" style=\"display: inline-block; padding: 5px 10px; \n",
              "               background-color: #FF0000; color: white; text-decoration: none; \n",
              "               border-radius: 4px; font-weight: bold; margin-left: 10px;\">\n",
              "                <span style=\"font-family: Arial, sans-serif;\">YouTube Trailer</span>\n",
              "            </a>\n",
              "            \n",
              "                </div>\n",
              "            </div>\n",
              "            \n",
              "            <div style=\"width: 350px; padding: 20px; border-radius: 10px; box-shadow: 0 2px 8px rgba(0,0,0,0.08); background-color: #fafafa;\">\n",
              "                <!-- Title section -->\n",
              "                <h3 style=\"margin-top: 0; color: #2c3e50; border-bottom: 1px solid #e0e0e0; padding-bottom: 8px;\">\n",
              "                    Captain America: The Winter Soldier\n",
              "                </h3>\n",
              "                \n",
              "                <!-- Embedded trailer with responsive sizing -->\n",
              "                \n",
              "            <div style=\"margin: 15px 0; position: relative; padding-bottom: 56.25%; height: 0; overflow: hidden; max-width: 100%;\">\n",
              "                <iframe \n",
              "                    style=\"position: absolute; top: 0; left: 0; width: 100%; height: 100%;\"\n",
              "                    src=\"https://www.youtube.com/embed?listType=search&list=Captain+America%3A+The+Winter+Soldier+2014+official+trailer&autoplay=0&showinfo=1&controls=1&rel=0&modestbranding=1\" \n",
              "                    frameborder=\"0\" \n",
              "                    allow=\"accelerometer; autoplay; clipboard-write; encrypted-media; gyroscope; picture-in-picture\" \n",
              "                    allowfullscreen>\n",
              "                </iframe>\n",
              "            </div>\n",
              "            \n",
              "                \n",
              "                <!-- Ratings and match -->\n",
              "                <div style=\"display: flex; justify-content: space-between; margin-bottom: 10px;\">\n",
              "                    <div style=\"color: #3498db; font-weight: bold;\">Match: 29.8%</div>\n",
              "                    <div style=\"color: #f39c12;\">★ 7.7 / 10 (0)</div>\n",
              "                </div>\n",
              "                \n",
              "                <!-- Genres -->\n",
              "                <div style=\"margin: 8px 0; font-style: italic; color: #7f8c8d;\">Action, Adventure, Science Fiction</div>\n",
              "                \n",
              "                <!-- Movie details section -->\n",
              "                <div style=\"padding: 10px; background-color: #f5f7fa; border-radius: 5px; margin: 10px 0;\">\n",
              "                    <div style=\"display: grid; grid-template-columns: auto 1fr; gap: 8px;\">\n",
              "                        <span style=\"color: #2c3e50; font-weight: bold;\">Year:</span> \n",
              "                        <span style=\"color: #2c3e50;\">2014</span>\n",
              "                        \n",
              "                        <span style=\"color: #2c3e50; font-weight: bold;\">Runtime:</span>\n",
              "                        <span style=\"color: #2c3e50;\">136 min</span>\n",
              "                        \n",
              "                        <span style=\"color: #2c3e50; font-weight: bold;\">Language:</span>\n",
              "                        <span style=\"color: #2c3e50;\">English</span>\n",
              "                        \n",
              "                        <span style=\"color: #2c3e50; font-weight: bold;\">Production:</span>\n",
              "                        <span style=\"color: #2c3e50;\">N/A</span>\n",
              "                        \n",
              "                        <span style=\"color: #2c3e50; font-weight: bold;\">Countries:</span>\n",
              "                        <span style=\"color: #2c3e50;\">N/A</span>\n",
              "                    </div>\n",
              "                </div>\n",
              "                \n",
              "                <!-- Overview -->\n",
              "                <p style=\"color: #555; margin-top: 15px; font-size: 0.9em; line-height: 1.4;\"></p>\n",
              "                \n",
              "                <!-- Links -->\n",
              "                <div style=\"margin-top: 15px; display: flex;\">\n",
              "                    \n",
              "                    \n",
              "            <a href=\"https://www.youtube.com/results?search_query=Captain+America%3A+The+Winter+Soldier+2014+official+trailer\" \n",
              "               target=\"_blank\" style=\"display: inline-block; padding: 5px 10px; \n",
              "               background-color: #FF0000; color: white; text-decoration: none; \n",
              "               border-radius: 4px; font-weight: bold; margin-left: 10px;\">\n",
              "                <span style=\"font-family: Arial, sans-serif;\">YouTube Trailer</span>\n",
              "            </a>\n",
              "            \n",
              "                </div>\n",
              "            </div>\n",
              "            \n",
              "            <div style=\"width: 350px; padding: 20px; border-radius: 10px; box-shadow: 0 2px 8px rgba(0,0,0,0.08); background-color: #fafafa;\">\n",
              "                <!-- Title section -->\n",
              "                <h3 style=\"margin-top: 0; color: #2c3e50; border-bottom: 1px solid #e0e0e0; padding-bottom: 8px;\">\n",
              "                    Captain America: Civil War\n",
              "                </h3>\n",
              "                \n",
              "                <!-- Embedded trailer with responsive sizing -->\n",
              "                \n",
              "            <div style=\"margin: 15px 0; position: relative; padding-bottom: 56.25%; height: 0; overflow: hidden; max-width: 100%;\">\n",
              "                <iframe \n",
              "                    style=\"position: absolute; top: 0; left: 0; width: 100%; height: 100%;\"\n",
              "                    src=\"https://www.youtube.com/embed?listType=search&list=Captain+America%3A+Civil+War+2016+official+trailer&autoplay=0&showinfo=1&controls=1&rel=0&modestbranding=1\" \n",
              "                    frameborder=\"0\" \n",
              "                    allow=\"accelerometer; autoplay; clipboard-write; encrypted-media; gyroscope; picture-in-picture\" \n",
              "                    allowfullscreen>\n",
              "                </iframe>\n",
              "            </div>\n",
              "            \n",
              "                \n",
              "                <!-- Ratings and match -->\n",
              "                <div style=\"display: flex; justify-content: space-between; margin-bottom: 10px;\">\n",
              "                    <div style=\"color: #3498db; font-weight: bold;\">Match: 29.8%</div>\n",
              "                    <div style=\"color: #f39c12;\">★ 7.4 / 10 (0)</div>\n",
              "                </div>\n",
              "                \n",
              "                <!-- Genres -->\n",
              "                <div style=\"margin: 8px 0; font-style: italic; color: #7f8c8d;\">Adventure, Action, Science Fiction</div>\n",
              "                \n",
              "                <!-- Movie details section -->\n",
              "                <div style=\"padding: 10px; background-color: #f5f7fa; border-radius: 5px; margin: 10px 0;\">\n",
              "                    <div style=\"display: grid; grid-template-columns: auto 1fr; gap: 8px;\">\n",
              "                        <span style=\"color: #2c3e50; font-weight: bold;\">Year:</span> \n",
              "                        <span style=\"color: #2c3e50;\">2016</span>\n",
              "                        \n",
              "                        <span style=\"color: #2c3e50; font-weight: bold;\">Runtime:</span>\n",
              "                        <span style=\"color: #2c3e50;\">147 min</span>\n",
              "                        \n",
              "                        <span style=\"color: #2c3e50; font-weight: bold;\">Language:</span>\n",
              "                        <span style=\"color: #2c3e50;\">English</span>\n",
              "                        \n",
              "                        <span style=\"color: #2c3e50; font-weight: bold;\">Production:</span>\n",
              "                        <span style=\"color: #2c3e50;\">N/A</span>\n",
              "                        \n",
              "                        <span style=\"color: #2c3e50; font-weight: bold;\">Countries:</span>\n",
              "                        <span style=\"color: #2c3e50;\">N/A</span>\n",
              "                    </div>\n",
              "                </div>\n",
              "                \n",
              "                <!-- Overview -->\n",
              "                <p style=\"color: #555; margin-top: 15px; font-size: 0.9em; line-height: 1.4;\"></p>\n",
              "                \n",
              "                <!-- Links -->\n",
              "                <div style=\"margin-top: 15px; display: flex;\">\n",
              "                    \n",
              "                    \n",
              "            <a href=\"https://www.youtube.com/results?search_query=Captain+America%3A+Civil+War+2016+official+trailer\" \n",
              "               target=\"_blank\" style=\"display: inline-block; padding: 5px 10px; \n",
              "               background-color: #FF0000; color: white; text-decoration: none; \n",
              "               border-radius: 4px; font-weight: bold; margin-left: 10px;\">\n",
              "                <span style=\"font-family: Arial, sans-serif;\">YouTube Trailer</span>\n",
              "            </a>\n",
              "            \n",
              "                </div>\n",
              "            </div>\n",
              "            \n",
              "            <div style=\"width: 350px; padding: 20px; border-radius: 10px; box-shadow: 0 2px 8px rgba(0,0,0,0.08); background-color: #fafafa;\">\n",
              "                <!-- Title section -->\n",
              "                <h3 style=\"margin-top: 0; color: #2c3e50; border-bottom: 1px solid #e0e0e0; padding-bottom: 8px;\">\n",
              "                    Star Wars: Episode Iii - Revenge Of The Sith\n",
              "                </h3>\n",
              "                \n",
              "                <!-- Embedded trailer with responsive sizing -->\n",
              "                \n",
              "            <div style=\"margin: 15px 0; position: relative; padding-bottom: 56.25%; height: 0; overflow: hidden; max-width: 100%;\">\n",
              "                <iframe \n",
              "                    style=\"position: absolute; top: 0; left: 0; width: 100%; height: 100%;\"\n",
              "                    src=\"https://www.youtube.com/embed?listType=search&list=Star+Wars%3A+Episode+Iii+-+Revenge+Of+The+Sith+2005+official+trailer&autoplay=0&showinfo=1&controls=1&rel=0&modestbranding=1\" \n",
              "                    frameborder=\"0\" \n",
              "                    allow=\"accelerometer; autoplay; clipboard-write; encrypted-media; gyroscope; picture-in-picture\" \n",
              "                    allowfullscreen>\n",
              "                </iframe>\n",
              "            </div>\n",
              "            \n",
              "                \n",
              "                <!-- Ratings and match -->\n",
              "                <div style=\"display: flex; justify-content: space-between; margin-bottom: 10px;\">\n",
              "                    <div style=\"color: #3498db; font-weight: bold;\">Match: 23.5%</div>\n",
              "                    <div style=\"color: #f39c12;\">★ 7.4 / 10 (0)</div>\n",
              "                </div>\n",
              "                \n",
              "                <!-- Genres -->\n",
              "                <div style=\"margin: 8px 0; font-style: italic; color: #7f8c8d;\">Adventure, Action, Science Fiction</div>\n",
              "                \n",
              "                <!-- Movie details section -->\n",
              "                <div style=\"padding: 10px; background-color: #f5f7fa; border-radius: 5px; margin: 10px 0;\">\n",
              "                    <div style=\"display: grid; grid-template-columns: auto 1fr; gap: 8px;\">\n",
              "                        <span style=\"color: #2c3e50; font-weight: bold;\">Year:</span> \n",
              "                        <span style=\"color: #2c3e50;\">2005</span>\n",
              "                        \n",
              "                        <span style=\"color: #2c3e50; font-weight: bold;\">Runtime:</span>\n",
              "                        <span style=\"color: #2c3e50;\">140 min</span>\n",
              "                        \n",
              "                        <span style=\"color: #2c3e50; font-weight: bold;\">Language:</span>\n",
              "                        <span style=\"color: #2c3e50;\">English</span>\n",
              "                        \n",
              "                        <span style=\"color: #2c3e50; font-weight: bold;\">Production:</span>\n",
              "                        <span style=\"color: #2c3e50;\">N/A</span>\n",
              "                        \n",
              "                        <span style=\"color: #2c3e50; font-weight: bold;\">Countries:</span>\n",
              "                        <span style=\"color: #2c3e50;\">N/A</span>\n",
              "                    </div>\n",
              "                </div>\n",
              "                \n",
              "                <!-- Overview -->\n",
              "                <p style=\"color: #555; margin-top: 15px; font-size: 0.9em; line-height: 1.4;\"></p>\n",
              "                \n",
              "                <!-- Links -->\n",
              "                <div style=\"margin-top: 15px; display: flex;\">\n",
              "                    \n",
              "                    \n",
              "            <a href=\"https://www.youtube.com/results?search_query=Star+Wars%3A+Episode+Iii+-+Revenge+Of+The+Sith+2005+official+trailer\" \n",
              "               target=\"_blank\" style=\"display: inline-block; padding: 5px 10px; \n",
              "               background-color: #FF0000; color: white; text-decoration: none; \n",
              "               border-radius: 4px; font-weight: bold; margin-left: 10px;\">\n",
              "                <span style=\"font-family: Arial, sans-serif;\">YouTube Trailer</span>\n",
              "            </a>\n",
              "            \n",
              "                </div>\n",
              "            </div>\n",
              "            \n",
              "            <div style=\"width: 350px; padding: 20px; border-radius: 10px; box-shadow: 0 2px 8px rgba(0,0,0,0.08); background-color: #fafafa;\">\n",
              "                <!-- Title section -->\n",
              "                <h3 style=\"margin-top: 0; color: #2c3e50; border-bottom: 1px solid #e0e0e0; padding-bottom: 8px;\">\n",
              "                    Avengers: Age Of Ultron\n",
              "                </h3>\n",
              "                \n",
              "                <!-- Embedded trailer with responsive sizing -->\n",
              "                \n",
              "            <div style=\"margin: 15px 0; position: relative; padding-bottom: 56.25%; height: 0; overflow: hidden; max-width: 100%;\">\n",
              "                <iframe \n",
              "                    style=\"position: absolute; top: 0; left: 0; width: 100%; height: 100%;\"\n",
              "                    src=\"https://www.youtube.com/embed?listType=search&list=Avengers%3A+Age+Of+Ultron+2015+official+trailer&autoplay=0&showinfo=1&controls=1&rel=0&modestbranding=1\" \n",
              "                    frameborder=\"0\" \n",
              "                    allow=\"accelerometer; autoplay; clipboard-write; encrypted-media; gyroscope; picture-in-picture\" \n",
              "                    allowfullscreen>\n",
              "                </iframe>\n",
              "            </div>\n",
              "            \n",
              "                \n",
              "                <!-- Ratings and match -->\n",
              "                <div style=\"display: flex; justify-content: space-between; margin-bottom: 10px;\">\n",
              "                    <div style=\"color: #3498db; font-weight: bold;\">Match: 14.7%</div>\n",
              "                    <div style=\"color: #f39c12;\">★ 7.3 / 10 (0)</div>\n",
              "                </div>\n",
              "                \n",
              "                <!-- Genres -->\n",
              "                <div style=\"margin: 8px 0; font-style: italic; color: #7f8c8d;\">Action, Adventure, Science Fiction</div>\n",
              "                \n",
              "                <!-- Movie details section -->\n",
              "                <div style=\"padding: 10px; background-color: #f5f7fa; border-radius: 5px; margin: 10px 0;\">\n",
              "                    <div style=\"display: grid; grid-template-columns: auto 1fr; gap: 8px;\">\n",
              "                        <span style=\"color: #2c3e50; font-weight: bold;\">Year:</span> \n",
              "                        <span style=\"color: #2c3e50;\">2015</span>\n",
              "                        \n",
              "                        <span style=\"color: #2c3e50; font-weight: bold;\">Runtime:</span>\n",
              "                        <span style=\"color: #2c3e50;\">141 min</span>\n",
              "                        \n",
              "                        <span style=\"color: #2c3e50; font-weight: bold;\">Language:</span>\n",
              "                        <span style=\"color: #2c3e50;\">English</span>\n",
              "                        \n",
              "                        <span style=\"color: #2c3e50; font-weight: bold;\">Production:</span>\n",
              "                        <span style=\"color: #2c3e50;\">N/A</span>\n",
              "                        \n",
              "                        <span style=\"color: #2c3e50; font-weight: bold;\">Countries:</span>\n",
              "                        <span style=\"color: #2c3e50;\">N/A</span>\n",
              "                    </div>\n",
              "                </div>\n",
              "                \n",
              "                <!-- Overview -->\n",
              "                <p style=\"color: #555; margin-top: 15px; font-size: 0.9em; line-height: 1.4;\"></p>\n",
              "                \n",
              "                <!-- Links -->\n",
              "                <div style=\"margin-top: 15px; display: flex;\">\n",
              "                    \n",
              "                    \n",
              "            <a href=\"https://www.youtube.com/results?search_query=Avengers%3A+Age+Of+Ultron+2015+official+trailer\" \n",
              "               target=\"_blank\" style=\"display: inline-block; padding: 5px 10px; \n",
              "               background-color: #FF0000; color: white; text-decoration: none; \n",
              "               border-radius: 4px; font-weight: bold; margin-left: 10px;\">\n",
              "                <span style=\"font-family: Arial, sans-serif;\">YouTube Trailer</span>\n",
              "            </a>\n",
              "            \n",
              "                </div>\n",
              "            </div>\n",
              "            \n",
              "            <div style=\"width: 350px; padding: 20px; border-radius: 10px; box-shadow: 0 2px 8px rgba(0,0,0,0.08); background-color: #fafafa;\">\n",
              "                <!-- Title section -->\n",
              "                <h3 style=\"margin-top: 0; color: #2c3e50; border-bottom: 1px solid #e0e0e0; padding-bottom: 8px;\">\n",
              "                    Ready Player One\n",
              "                </h3>\n",
              "                \n",
              "                <!-- Embedded trailer with responsive sizing -->\n",
              "                \n",
              "            <div style=\"margin: 15px 0; position: relative; padding-bottom: 56.25%; height: 0; overflow: hidden; max-width: 100%;\">\n",
              "                <iframe \n",
              "                    style=\"position: absolute; top: 0; left: 0; width: 100%; height: 100%;\"\n",
              "                    src=\"https://www.youtube.com/embed?listType=search&list=Ready+Player+One+2018+official+trailer&autoplay=0&showinfo=1&controls=1&rel=0&modestbranding=1\" \n",
              "                    frameborder=\"0\" \n",
              "                    allow=\"accelerometer; autoplay; clipboard-write; encrypted-media; gyroscope; picture-in-picture\" \n",
              "                    allowfullscreen>\n",
              "                </iframe>\n",
              "            </div>\n",
              "            \n",
              "                \n",
              "                <!-- Ratings and match -->\n",
              "                <div style=\"display: flex; justify-content: space-between; margin-bottom: 10px;\">\n",
              "                    <div style=\"color: #3498db; font-weight: bold;\">Match: 8.0%</div>\n",
              "                    <div style=\"color: #f39c12;\">★ 7.6 / 10 (0)</div>\n",
              "                </div>\n",
              "                \n",
              "                <!-- Genres -->\n",
              "                <div style=\"margin: 8px 0; font-style: italic; color: #7f8c8d;\">Adventure, Action, Science Fiction</div>\n",
              "                \n",
              "                <!-- Movie details section -->\n",
              "                <div style=\"padding: 10px; background-color: #f5f7fa; border-radius: 5px; margin: 10px 0;\">\n",
              "                    <div style=\"display: grid; grid-template-columns: auto 1fr; gap: 8px;\">\n",
              "                        <span style=\"color: #2c3e50; font-weight: bold;\">Year:</span> \n",
              "                        <span style=\"color: #2c3e50;\">2018</span>\n",
              "                        \n",
              "                        <span style=\"color: #2c3e50; font-weight: bold;\">Runtime:</span>\n",
              "                        <span style=\"color: #2c3e50;\">140 min</span>\n",
              "                        \n",
              "                        <span style=\"color: #2c3e50; font-weight: bold;\">Language:</span>\n",
              "                        <span style=\"color: #2c3e50;\">English</span>\n",
              "                        \n",
              "                        <span style=\"color: #2c3e50; font-weight: bold;\">Production:</span>\n",
              "                        <span style=\"color: #2c3e50;\">N/A</span>\n",
              "                        \n",
              "                        <span style=\"color: #2c3e50; font-weight: bold;\">Countries:</span>\n",
              "                        <span style=\"color: #2c3e50;\">N/A</span>\n",
              "                    </div>\n",
              "                </div>\n",
              "                \n",
              "                <!-- Overview -->\n",
              "                <p style=\"color: #555; margin-top: 15px; font-size: 0.9em; line-height: 1.4;\"></p>\n",
              "                \n",
              "                <!-- Links -->\n",
              "                <div style=\"margin-top: 15px; display: flex;\">\n",
              "                    \n",
              "                    \n",
              "            <a href=\"https://www.youtube.com/results?search_query=Ready+Player+One+2018+official+trailer\" \n",
              "               target=\"_blank\" style=\"display: inline-block; padding: 5px 10px; \n",
              "               background-color: #FF0000; color: white; text-decoration: none; \n",
              "               border-radius: 4px; font-weight: bold; margin-left: 10px;\">\n",
              "                <span style=\"font-family: Arial, sans-serif;\">YouTube Trailer</span>\n",
              "            </a>\n",
              "            \n",
              "                </div>\n",
              "            </div>\n",
              "            \n",
              "            <div style=\"width: 350px; padding: 20px; border-radius: 10px; box-shadow: 0 2px 8px rgba(0,0,0,0.08); background-color: #fafafa;\">\n",
              "                <!-- Title section -->\n",
              "                <h3 style=\"margin-top: 0; color: #2c3e50; border-bottom: 1px solid #e0e0e0; padding-bottom: 8px;\">\n",
              "                    Guardians Of The Galaxy Vol. 2\n",
              "                </h3>\n",
              "                \n",
              "                <!-- Embedded trailer with responsive sizing -->\n",
              "                \n",
              "            <div style=\"margin: 15px 0; position: relative; padding-bottom: 56.25%; height: 0; overflow: hidden; max-width: 100%;\">\n",
              "                <iframe \n",
              "                    style=\"position: absolute; top: 0; left: 0; width: 100%; height: 100%;\"\n",
              "                    src=\"https://www.youtube.com/embed?listType=search&list=Guardians+Of+The+Galaxy+Vol.+2+2017+official+trailer&autoplay=0&showinfo=1&controls=1&rel=0&modestbranding=1\" \n",
              "                    frameborder=\"0\" \n",
              "                    allow=\"accelerometer; autoplay; clipboard-write; encrypted-media; gyroscope; picture-in-picture\" \n",
              "                    allowfullscreen>\n",
              "                </iframe>\n",
              "            </div>\n",
              "            \n",
              "                \n",
              "                <!-- Ratings and match -->\n",
              "                <div style=\"display: flex; justify-content: space-between; margin-bottom: 10px;\">\n",
              "                    <div style=\"color: #3498db; font-weight: bold;\">Match: 7.0%</div>\n",
              "                    <div style=\"color: #f39c12;\">★ 7.6 / 10 (0)</div>\n",
              "                </div>\n",
              "                \n",
              "                <!-- Genres -->\n",
              "                <div style=\"margin: 8px 0; font-style: italic; color: #7f8c8d;\">Science Fiction, Adventure, Action</div>\n",
              "                \n",
              "                <!-- Movie details section -->\n",
              "                <div style=\"padding: 10px; background-color: #f5f7fa; border-radius: 5px; margin: 10px 0;\">\n",
              "                    <div style=\"display: grid; grid-template-columns: auto 1fr; gap: 8px;\">\n",
              "                        <span style=\"color: #2c3e50; font-weight: bold;\">Year:</span> \n",
              "                        <span style=\"color: #2c3e50;\">2017</span>\n",
              "                        \n",
              "                        <span style=\"color: #2c3e50; font-weight: bold;\">Runtime:</span>\n",
              "                        <span style=\"color: #2c3e50;\">137 min</span>\n",
              "                        \n",
              "                        <span style=\"color: #2c3e50; font-weight: bold;\">Language:</span>\n",
              "                        <span style=\"color: #2c3e50;\">English</span>\n",
              "                        \n",
              "                        <span style=\"color: #2c3e50; font-weight: bold;\">Production:</span>\n",
              "                        <span style=\"color: #2c3e50;\">N/A</span>\n",
              "                        \n",
              "                        <span style=\"color: #2c3e50; font-weight: bold;\">Countries:</span>\n",
              "                        <span style=\"color: #2c3e50;\">N/A</span>\n",
              "                    </div>\n",
              "                </div>\n",
              "                \n",
              "                <!-- Overview -->\n",
              "                <p style=\"color: #555; margin-top: 15px; font-size: 0.9em; line-height: 1.4;\"></p>\n",
              "                \n",
              "                <!-- Links -->\n",
              "                <div style=\"margin-top: 15px; display: flex;\">\n",
              "                    \n",
              "                    \n",
              "            <a href=\"https://www.youtube.com/results?search_query=Guardians+Of+The+Galaxy+Vol.+2+2017+official+trailer\" \n",
              "               target=\"_blank\" style=\"display: inline-block; padding: 5px 10px; \n",
              "               background-color: #FF0000; color: white; text-decoration: none; \n",
              "               border-radius: 4px; font-weight: bold; margin-left: 10px;\">\n",
              "                <span style=\"font-family: Arial, sans-serif;\">YouTube Trailer</span>\n",
              "            </a>\n",
              "            \n",
              "                </div>\n",
              "            </div>\n",
              "            \n",
              "            <div style=\"width: 350px; padding: 20px; border-radius: 10px; box-shadow: 0 2px 8px rgba(0,0,0,0.08); background-color: #fafafa;\">\n",
              "                <!-- Title section -->\n",
              "                <h3 style=\"margin-top: 0; color: #2c3e50; border-bottom: 1px solid #e0e0e0; padding-bottom: 8px;\">\n",
              "                    Spider-Man: No Way Home\n",
              "                </h3>\n",
              "                \n",
              "                <!-- Embedded trailer with responsive sizing -->\n",
              "                \n",
              "            <div style=\"margin: 15px 0; position: relative; padding-bottom: 56.25%; height: 0; overflow: hidden; max-width: 100%;\">\n",
              "                <iframe \n",
              "                    style=\"position: absolute; top: 0; left: 0; width: 100%; height: 100%;\"\n",
              "                    src=\"https://www.youtube.com/embed?listType=search&list=Spider-Man%3A+No+Way+Home+2021+official+trailer&autoplay=0&showinfo=1&controls=1&rel=0&modestbranding=1\" \n",
              "                    frameborder=\"0\" \n",
              "                    allow=\"accelerometer; autoplay; clipboard-write; encrypted-media; gyroscope; picture-in-picture\" \n",
              "                    allowfullscreen>\n",
              "                </iframe>\n",
              "            </div>\n",
              "            \n",
              "                \n",
              "                <!-- Ratings and match -->\n",
              "                <div style=\"display: flex; justify-content: space-between; margin-bottom: 10px;\">\n",
              "                    <div style=\"color: #3498db; font-weight: bold;\">Match: 0.0%</div>\n",
              "                    <div style=\"color: #f39c12;\">★ 8.0 / 10 (0)</div>\n",
              "                </div>\n",
              "                \n",
              "                <!-- Genres -->\n",
              "                <div style=\"margin: 8px 0; font-style: italic; color: #7f8c8d;\">Action, Adventure, Science Fiction</div>\n",
              "                \n",
              "                <!-- Movie details section -->\n",
              "                <div style=\"padding: 10px; background-color: #f5f7fa; border-radius: 5px; margin: 10px 0;\">\n",
              "                    <div style=\"display: grid; grid-template-columns: auto 1fr; gap: 8px;\">\n",
              "                        <span style=\"color: #2c3e50; font-weight: bold;\">Year:</span> \n",
              "                        <span style=\"color: #2c3e50;\">2021</span>\n",
              "                        \n",
              "                        <span style=\"color: #2c3e50; font-weight: bold;\">Runtime:</span>\n",
              "                        <span style=\"color: #2c3e50;\">148 min</span>\n",
              "                        \n",
              "                        <span style=\"color: #2c3e50; font-weight: bold;\">Language:</span>\n",
              "                        <span style=\"color: #2c3e50;\">English</span>\n",
              "                        \n",
              "                        <span style=\"color: #2c3e50; font-weight: bold;\">Production:</span>\n",
              "                        <span style=\"color: #2c3e50;\">N/A</span>\n",
              "                        \n",
              "                        <span style=\"color: #2c3e50; font-weight: bold;\">Countries:</span>\n",
              "                        <span style=\"color: #2c3e50;\">N/A</span>\n",
              "                    </div>\n",
              "                </div>\n",
              "                \n",
              "                <!-- Overview -->\n",
              "                <p style=\"color: #555; margin-top: 15px; font-size: 0.9em; line-height: 1.4;\"></p>\n",
              "                \n",
              "                <!-- Links -->\n",
              "                <div style=\"margin-top: 15px; display: flex;\">\n",
              "                    \n",
              "                    \n",
              "            <a href=\"https://www.youtube.com/results?search_query=Spider-Man%3A+No+Way+Home+2021+official+trailer\" \n",
              "               target=\"_blank\" style=\"display: inline-block; padding: 5px 10px; \n",
              "               background-color: #FF0000; color: white; text-decoration: none; \n",
              "               border-radius: 4px; font-weight: bold; margin-left: 10px;\">\n",
              "                <span style=\"font-family: Arial, sans-serif;\">YouTube Trailer</span>\n",
              "            </a>\n",
              "            \n",
              "                </div>\n",
              "            </div>\n",
              "            </div>"
            ],
            "text/plain": [
              "<IPython.core.display.HTML object>"
            ]
          },
          "metadata": {},
          "output_type": "display_data"
        }
      ],
      "source": [
        "similar_to = get_similar_movies(\"inception\", n=10)\n",
        "display_recommendations(similar_to, format_type='cards', max_items=10)"
      ]
    }
  ],
  "metadata": {
    "accelerator": "TPU",
    "colab": {
      "gpuType": "V28",
      "machine_shape": "hm",
      "provenance": []
    },
    "kernelspec": {
      "display_name": "theapplication",
      "language": "python",
      "name": "python3"
    },
    "language_info": {
      "codemirror_mode": {
        "name": "ipython",
        "version": 3
      },
      "file_extension": ".py",
      "mimetype": "text/x-python",
      "name": "python",
      "nbconvert_exporter": "python",
      "pygments_lexer": "ipython3",
      "version": "3.12.9"
    }
  },
  "nbformat": 4,
  "nbformat_minor": 0
}
